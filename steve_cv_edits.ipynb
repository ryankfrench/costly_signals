{
 "cells": [
  {
   "cell_type": "code",
   "execution_count": 3,
   "metadata": {
    "executionInfo": {
     "elapsed": 133,
     "status": "ok",
     "timestamp": 1629774558176,
     "user": {
      "displayName": "Steve Vu",
      "photoUrl": "",
      "userId": "15042692419690583501"
     },
     "user_tz": 420
    },
    "id": "TSokX2E5-F9J"
   },
   "outputs": [],
   "source": [
    "import time\n",
    "import random\n",
    "import numpy as np\n",
    "import pandas as pd\n",
    "import scipy\n",
    "import scipy.stats as stats\n",
    "from datetime import datetime\n",
    "import matplotlib.pyplot as plt\n",
    "from collections import namedtuple\n",
    "import verify_bit_funcs as bid_funcs"
   ]
  },
  {
   "cell_type": "code",
   "execution_count": 3,
   "metadata": {
    "executionInfo": {
     "elapsed": 5,
     "status": "ok",
     "timestamp": 1629774558319,
     "user": {
      "displayName": "Steve Vu",
      "photoUrl": "",
      "userId": "15042692419690583501"
     },
     "user_tz": 420
    },
    "id": "a7t1tBOS-PIm"
   },
   "outputs": [],
   "source": [
    "num_signals = [2,5]\n",
    "max_value = 100\n",
    "min_value = 10\n",
    "step_size = 5\n",
    "max_unc = 50\n",
    "num_uncs = 50/(2*step_size)"
   ]
  },
  {
   "cell_type": "code",
   "execution_count": 4,
   "metadata": {},
   "outputs": [
    {
     "data": {
      "text/plain": [
       "[array([[4980.22075466, 4711.83283362],\n",
       "        [4971.63672403, 4570.32265954],\n",
       "        [4546.77019213, 4570.23398957],\n",
       "        ...,\n",
       "        [4552.55550963, 4910.60379178],\n",
       "        [4998.78536868, 4797.43415759],\n",
       "        [4926.87652827, 4881.70157193]]),\n",
       " array([[4934.47980165, 4981.89193541, 4797.99588302],\n",
       "        [4885.59049493, 4885.21595247, 4699.35778359],\n",
       "        [4946.9295956 , 4693.81395007, 4833.98443697],\n",
       "        ...,\n",
       "        [4537.94096501, 4594.15440562, 4764.23425702],\n",
       "        [4517.28734076, 4509.62997196, 4537.90052957],\n",
       "        [4984.29648812, 4620.32809944, 4530.5756722 ]]),\n",
       " array([[4536.99001532, 4712.55165858, 4500.8862878 , 4803.79229703],\n",
       "        [4860.75956417, 4623.26565911, 4891.74303044, 4847.49483433],\n",
       "        [4860.42481823, 4677.39927377, 4894.25606757, 4913.68925459],\n",
       "        ...,\n",
       "        [4673.11988411, 4936.33786192, 4819.89687291, 4703.81974389],\n",
       "        [4937.77170883, 4921.08964668, 4575.84380809, 4557.69807046],\n",
       "        [4954.90900691, 4790.19973355, 4685.01524807, 4615.39302832]])]"
      ]
     },
     "execution_count": 4,
     "metadata": {},
     "output_type": "execute_result"
    }
   ],
   "source": [
    "[stats.uniform.rvs(4500, 500, (10000,s)) for s in range(*num_signals)]"
   ]
  },
  {
   "cell_type": "code",
   "execution_count": 5,
   "metadata": {},
   "outputs": [
    {
     "data": {
      "image/png": "[encoded data removed]",
      "text/plain": [
       "<Figure size 432x288 with 1 Axes>"
      ]
     },
     "metadata": {
      "needs_background": "light"
     },
     "output_type": "display_data"
    }
   ],
   "source": [
    "true = 50\n",
    "signals = 2\n",
    "samples = 100000\n",
    "sample_signals = stats.uniform.rvs(true - max_unc/2, max_unc, (samples,signals))\n",
    "sample_mids = [(max(signals)+min(signals))/2 for signals in sample_signals]\n",
    "sample_uncs = [max_unc - (max(signals) - min(signals)) for signals in sample_signals]\n",
    "\n",
    "def sample_true_value(midpoint, uncertainty, size=1):\n",
    "    lower = max(midpoint - uncertainty/2, min_value)\n",
    "    upper = min(midpoint + uncertainty/2, max_value)\n",
    "    return stats.uniform.rvs(lower, upper - lower, size=size)\n",
    "\n",
    "\n",
    "def sample_signals(true_values):\n",
    "    return stats.uniform.rvs(true_values-max_unc/2, max_unc, (4, 5, len(true_values)))\n",
    "\n",
    "\n",
    "def get_sufficient_stats(signal_samples, signal_set):\n",
    "    sufficient_stats = []\n",
    "    for i in range(len(signal_set)):\n",
    "        signals = signal_samples[i,:signal_set[i],:]\n",
    "        mins = np.min(signals, axis=0)\n",
    "        maxs = np.max(signals, axis=0)\n",
    "        uncs = max_unc - (maxs - mins)\n",
    "        mids = (maxs + mins)/2\n",
    "        sufficient_stats.append(np.stack((mids, uncs), axis=-1))\n",
    "    return np.array(sufficient_stats)\n",
    "\n",
    "\n",
    "def get_sample_data(midpoint, unc, signal_set, size):\n",
    "    true_values = sample_true_value(midpoint, unc, size)\n",
    "    signals = sample_signals(true_values)\n",
    "    return true_values, get_sufficient_stats(signals, signal_set)\n",
    "\n",
    "true_values, sample_data = get_sample_data(5, 20, [2,3,4,5], 100000)\n",
    "\n",
    "for signals in range(4):\n",
    "    plt.hist(sample_data[signals,:,0])"
   ]
  },
  {
   "cell_type": "code",
   "execution_count": 38,
   "metadata": {},
   "outputs": [],
   "source": [
    "def joint_uniform_min_max_signal(u,v,n):\n",
    "    N = np.full(np.shape(X), n)\n",
    "    return scipy.special.factorial(N) * ((v - u) ** (N - 2)) / scipy.special.factorial(N - 2)\n",
    "\n",
    "x = np.linspace(true - max_unc/2, true + max_unc/2, 1000)\n",
    "y = np.linspace(true - max_unc/2, true + max_unc/2, 1000)\n",
    "X,Y = np.meshgrid(x,y)\n",
    "\n",
    "# res = []\n",
    "# pdf = []\n",
    "\n",
    "# x = []\n",
    "# y = []\n",
    "# for u in np.linspace(true - max_unc/2, true + max_unc/2, 1000):\n",
    "#     for v in np.linspace(true - max_unc/2, true + max_unc/2, 1000):\n",
    "#         res.append(joint_uniform_min_max_signal(u, v, 2) * (u + v) / 2)\n",
    "#         pdf.append(joint_uniform_min_max_signal(u, v, 2))\n",
    "#         x.append(u)\n",
    "#         y.append(v)\n"
   ]
  },
  {
   "cell_type": "code",
   "execution_count": 75,
   "metadata": {},
   "outputs": [
    {
     "data": {
      "text/plain": [
       "(array([0.00010004, 0.00142384, 0.00844965, 0.02751637, 0.04339697,\n",
       "        0.04483581, 0.02977383, 0.0093583 , 0.00173228, 0.00013838]),\n",
       " array([14.76509026, 20.76297477, 26.76085928, 32.75874379, 38.7566283 ,\n",
       "        44.75451281, 50.75239732, 56.75028183, 62.74816635, 68.74605086,\n",
       "        74.74393537]),\n",
       " <BarContainer object of 10 artists>)"
      ]
     },
     "execution_count": 75,
     "metadata": {},
     "output_type": "execute_result"
    },
    {
     "data": {
      "image/png": "[encoded data removed]",
      "text/plain": [
       "<Figure size 432x288 with 1 Axes>"
      ]
     },
     "metadata": {
      "needs_background": "light"
     },
     "output_type": "display_data"
    }
   ],
   "source": [
    "plt.hist(res, density=True)\n",
    "plt.hist(sample_data[signals,:,0], density=True, alpha=0.5)"
   ]
  },
  {
   "cell_type": "code",
   "execution_count": 61,
   "metadata": {},
   "outputs": [
    {
     "data": {
      "image/png": "[encoded data removed]",
      "text/plain": [
       "<Figure size 432x288 with 1 Axes>"
      ]
     },
     "metadata": {
      "needs_background": "light"
     },
     "output_type": "display_data"
    }
   ],
   "source": [
    "for signals in range(4):\n",
    "    plt.hist(sample_data[signals,:,1])"
   ]
  },
  {
   "cell_type": "code",
   "execution_count": 308,
   "metadata": {},
   "outputs": [
    {
     "data": {
      "text/plain": [
       "0.0"
      ]
     },
     "execution_count": 308,
     "metadata": {},
     "output_type": "execute_result"
    }
   ],
   "source": [
    "stats.randint.pmf(9501, 500, 9501)"
   ]
  },
  {
   "cell_type": "code",
   "execution_count": 309,
   "metadata": {},
   "outputs": [],
   "source": [
    "class CommonValue:\n",
    "    def __init__(self, num_signals, value_range, step_size, max_unc):\n",
    "        \n",
    "        self.num_uncs = max_unc/step_size\n",
    "        \n",
    "        # why did I say this?\n",
    "        if not (self.num_uncs/2).is_integer():\n",
    "            raise Exception(\"the max uncertainty must be divisible by 2*step_size\")\n",
    "        \n",
    "        self.num_signals = num_signals\n",
    "        self.min_value, self.max_value = value_range\n",
    "        self.step_size = step_size\n",
    "        self.max_unc = max_unc\n",
    "\n",
    "        ''' Generates the possible uncertainties given the parameters '''\n",
    "        self.possible_uncertainty = range(0, max_unc + step_size, step_size)\n",
    "        self.true_value_dist_shifted = stats.randint(value_range[0] / step_size, value_range[1]/step_size + 1)\n",
    "        self.true_values = np.arange(self.min_value, self.max_value, step_size)\n",
    "        self.true_probs = self.true_values/np.sum(self.true_values)\n",
    "        self.m_ranges = {unc: self.possible_relative_midpoint(unc) for unc in self.possible_uncertainty}\n",
    "        self.unc_prob = self.generate_unc_probs(num_signals, step_size, max_unc)\n",
    "        self.Mid_unc_prob = namedtuple('Mid_unc_prob', ['mid', 'unc', 'num_signals'])\n",
    "        self.mid_unc_prob_table = self.generate_mid_unc_prob_table()\n",
    "\n",
    "\n",
    "        \n",
    "    def prob_true(self, true_value):\n",
    "        return self.true_value_dist_shifted.pmf(true_value / self.step_size)\n",
    "\n",
    "    def prob_mid_given_unc(self, relative_mid, unc):\n",
    "        mids = self.m_ranges.get(unc, [])\n",
    "        return 1/len(mids) if len(mids) > 0 and relative_mid in mids else 0\n",
    "\n",
    "    def prob_unc(self, unc, num_signals):\n",
    "        #return stats.beta(num_signals - 1, 2).pdf((self.max_unc - unc)/self.max_unc)\n",
    "        #return stats.betabinom.pmf(max_unc - unc, max_unc, num_signals - 1, 2)\n",
    "        return self.unc_prob[num_signals].get(unc, 0)\n",
    "\n",
    "    def prob_relative_mid_unc(self, relative_mid, unc, num_signals):\n",
    "        #P(mid, unc|num_signals, uncertainty, true_value)\n",
    "        return self.prob_mid_given_unc(relative_mid, unc) * self.prob_unc(unc, num_signals)\n",
    "\n",
    "    def prob_mid_unc(self, relative_mid, unc, num_signals):\n",
    "        return self.mid_unc_prob_table.get(self.Mid_unc_prob(relative_mid, unc, num_signals), 0)\n",
    "\n",
    "    def prob_mid_unc_give_true(self, mid, unc, num_signals, true):\n",
    "        if self.prob_true(true) == 0:\n",
    "            return 0\n",
    "        return self.prob_mid_unc(mid - true, unc, num_signals) / self.prob_true(true)\n",
    "\n",
    "\n",
    "    def prob_dropouts_given_true(self, dropout_prices, true):\n",
    "        \"\"\"\n",
    "        P(dropout prices | true) Probability of dropout prices given the true value.\n",
    "\n",
    "        P(dropout prices | true) are conditionally independent given the true value and the state of the auction at the time that player dropped out, state_i \n",
    "        (since they only depned on iid signals).\n",
    "        \"\"\"\n",
    "        pass\n",
    "\n",
    "    def prob_mydrop_given_true_mystate(self, mydrop, true, mystate):\n",
    "        \"\"\"\n",
    "        P(dropout_i | true, state_i) can be found by looking at policy function (cache of optimal decision at each state).\n",
    "    \n",
    "        Given state, look at each mid/unc that results in dropping out at the price they did.  Weight by P(unc,mid | true).\n",
    "        Formally: P(dropout_i | true, state_i) = sum([I(dropout_i == D(state_i, mid, unc)) * P(mid, unc | true, i) for ])\n",
    "    \n",
    "        Parameters:\n",
    "        self (object): class instance\n",
    "        mydrop (binary): 1 if I drop, 0 otherwise\n",
    "        true (int): true value\n",
    "        mystate ()\n",
    "    \n",
    "        Returns:\n",
    "        float: probability I take the mydrop action\n",
    "    \n",
    "        \"\"\"\n",
    "        pass\n",
    "\n",
    "    def opp_in(state_table, policy_table, mid_unc):\n",
    "        prop_opp_in_table = {signals: {} for signals in  num_signals}\n",
    "        for signal in num_signals:\n",
    "            for state in state_table[signal]:\n",
    "                for true in range(state.mid - int(0.5 * state.unc),\n",
    "                                    state.mid + int(0.5 * state.unc) + step_size,\n",
    "                                    step_size):\n",
    "                    p = prob_opp_in_given_true(policy_table, mid_unc, signal, state.clock_price, true)\n",
    "                    prop_opp_in_table[signal][Opp_in(num_signals=signal,unc=state.unc,mid=state.mid,clock_price=state.clock_price,true_value=true)] = p\n",
    "        return prop_opp_in_table\n",
    "\n",
    "    def prob_opp_in_given_true(policy_table, mid_unc, signal, clock_price, true):\n",
    "        \"\"\"\n",
    "        Return P(Opp_in|true) - Given a true value, I need to guess the probability that he will stay in at a state.\n",
    "        {'2': 'What probability I guess about his action based on my state and my range of true value'}\n",
    "        I know the true value, his #signal and current price. I must scan all possible pairs of mid_unc\n",
    "        Given the true value, I get probabilities of different pairs of mid_unc\n",
    "        Given a pair of mid_unc and price, I look at his policy table\n",
    "        policy_table = init_policy_table\n",
    "        \"\"\"\n",
    "        comp_signal = num_signals[~num_signals.index(signal)]\n",
    "        if true not in range(min_value, max_value + step_size, step_size):\n",
    "            return 0\n",
    "        p = 0\n",
    "        for pair in mid_unc:\n",
    "            mid_unc_prob = mid_unc_prob_table[comp_signal][Mid_unc_prob(num_signals=comp_signal, unc=pair[1], mid=pair[0], true_value=true)]\n",
    "            indicator = policy_table[comp_signal][State(num_signals=comp_signal,unc=pair[1],mid=pair[0],clock_price=clock_price)]\n",
    "            p += mid_unc_prob * indicator\n",
    "\n",
    "    def generate_mid_unc_prob_table(self):\n",
    "        mid_unc_grid = self.mid_unc_grid()\n",
    "        # mid_unc_prob_table = {s: {} for s in self.num_signals}\n",
    "        mid_unc_prob_table = {}\n",
    "        for signal in self.num_signals:\n",
    "            for mid, unc in mid_unc_grid:\n",
    "                mid_unc_prob_table[self.Mid_unc_prob(mid, unc, signal)] = self.prob_relative_mid_unc(mid, unc, signal)\n",
    "            # for true in range(self.min_value, self.max_value + self.step_size, self.step_size):\n",
    "            #     for mid, unc in mid_unc_grid:\n",
    "            #         mid_unc_prob_table[signal][self.Mid_unc_prob(mid, unc, signal)] = self.prob_relative_mid_unc(mid, unc, signal)\n",
    "        return mid_unc_prob_table\n",
    "\n",
    "    def mid_unc_grid(self):\n",
    "        mid_unc = []\n",
    "        for unc in self.possible_uncertainty:\n",
    "            for mid in self.m_ranges[unc]:\n",
    "                mid_unc.append([mid, unc])\n",
    "        return mid_unc\n",
    "\n",
    "    def possible_relative_midpoint(self, unc):\n",
    "        '''\n",
    "        Given an uncertainty, we can find a set of possible midpoints as the true value is in (min_value, max_value)\n",
    "\n",
    "        Old code below\n",
    "        #return np.arange(max_unc / 2 - unc * 0.5, max_unc / 2 + unc * 0.5 + step_size, step_size)\n",
    "        #return set(np.arange(self.max_unc / 2 - unc * 0.5, self.max_unc / 2 + unc * 0.5 + self.step_size, self.step_size))\n",
    "        '''\n",
    "        return set(np.arange(- unc * 0.5, unc * 0.5 + self.step_size, self.step_size))\n",
    "\n",
    "    def generate_midpoints(self, unc):\n",
    "        return np.arange(0, (self.max_value - self.min_value + unc) + self.step_size, self.step_size) + self.min_value - unc / 2\n",
    "\n",
    "    def normalize_dict(self, dict):\n",
    "        total_prob = sum(dict.values())\n",
    "        return {k: dict[k] / total_prob for k in dict}\n",
    "\n",
    "    def generate_unc_probs(self, num_signals, step_size, max_unc):\n",
    "        unc_prob = {}\n",
    "        for signals in num_signals:\n",
    "            unc_dist = stats.beta(signals - 1, 2)\n",
    "            unc_prob[signals] = self.normalize_dict({ u: unc_dist.pdf(1 - u / max_unc) for u in range(0, max_unc + step_size, step_size) })\n",
    "        return unc_prob\n",
    "    \n",
    "import unittest\n",
    "\n",
    "class TestCommonValue(unittest.TestCase):\n",
    "    def setUp(self):\n",
    "        self.cv = CommonValue([2,5], (10, 100), 5, 50)\n",
    "    \n",
    "    def test_prob_true_zero_if_outside_range(self):\n",
    "        self.assertEqual(self.cv.prob_true(self.cv.min_value - self.cv.step_size), 0)\n",
    "        self.assertEqual(self.cv.prob_true(self.cv.max_value + self.cv.step_size), 0)\n",
    "\n",
    "    def test_prob_true_zero_if_between_steps(self):\n",
    "        self.assertEqual(self.cv.prob_true(self.cv.min_value + self.cv.step_size/2), 0)\n",
    "\n",
    "    def test_prob_true_constant_in_range(self):\n",
    "        prob = self.cv.prob_true(self.cv.min_value)\n",
    "        for t in range(self.cv.min_value + self.cv.step_size, self.cv.max_value + self.cv.step_size, self.cv.step_size):\n",
    "            self.assertEqual(self.cv.prob_true(t), prob)\n",
    "\n",
    "    def test_prob_true_sums_to_one(self):\n",
    "        cumulative_prob = 0\n",
    "        for t in range(self.cv.min_value, self.cv.max_value + self.cv.step_size, self.cv.step_size):\n",
    "            # or use for t in self.cv.t_range?????\n",
    "            cumulative_prob += self.cv.prob_true(t)\n",
    "        self.assertAlmostEqual(cumulative_prob, 1)\n",
    "        #self.assertEqual(cumulative_prob, 1)\n",
    "\n",
    "    # again, whyyyy???\n",
    "    def test_uncertainty_must_be_even(self):\n",
    "        with self.assertRaises(Exception) as context:\n",
    "            CommonValue([2,5], (10,100), 5, 51)\n",
    "    \n",
    "    def test_uncertainty_is_divisible_by_step(self):\n",
    "        with self.assertRaises(Exception) as context:\n",
    "            CommonValue([2,5], (10,100), 5, 62)\n",
    "\n",
    "    def test_prob_unc_zero_if_outside_range(self):\n",
    "        self.assertEqual(self.cv.prob_unc(-1, 2), 0)\n",
    "        self.assertEqual(self.cv.prob_unc(self.cv.max_unc + 1, 2), 0)\n",
    "\n",
    "    def test_prob_unc_zero_if_between_steps(self):\n",
    "        self.assertEqual(self.cv.prob_unc(self.cv.step_size - 0.5, 2), 0)\n",
    "\n",
    "    def test_prob_unc_sums_to_one(self):\n",
    "        for signals in self.cv.num_signals:\n",
    "            cumulative_prob = 0\n",
    "            for unc in self.cv.possible_uncertainty:\n",
    "                cumulative_prob += self.cv.prob_unc(unc, signals)\n",
    "            self.assertAlmostEqual(cumulative_prob, 1)\n",
    "            #self.assertEqual(cumulative_prob, 1)\n",
    "\n",
    "    def test_prob_mid_zero_if_outside_range(self):\n",
    "        self.assertEqual(self.cv.prob_mid_given_unc(-1, 30), 0)\n",
    "        self.assertEqual(self.cv.prob_mid_given_unc(50, 10), 0)\n",
    "\n",
    "    def test_prob_mid_zero_if_mid_not_possible(self):\n",
    "        self.assertEqual(self.cv.prob_mid_given_unc(self.cv.max_unc / 2, 45), 0)\n",
    "        \n",
    "    def test_prob_mid_constant_given_unc(self):\n",
    "        for unc in self.cv.possible_uncertainty:\n",
    "            prob = self.cv.prob_mid_given_unc(list(self.cv.m_ranges[unc])[0], unc)\n",
    "            for mid in self.cv.m_ranges[unc]:\n",
    "                self.assertEqual(self.cv.prob_mid_given_unc(mid, unc), prob)\n",
    "\n",
    "    def test_prob_mid_sums_to_one(self):\n",
    "        for unc in self.cv.possible_uncertainty:\n",
    "            cumulative_prob = 0\n",
    "            for mid in self.cv.possible_relative_midpoint(unc):\n",
    "                cumulative_prob += self.cv.prob_mid_given_unc(mid, unc)\n",
    "            self.assertAlmostEqual(cumulative_prob, 1) \n",
    "            #self.assertEqual(cumulative_prob, 1)\n",
    "\n",
    "    def test_prob_relative_mid_unc_sums_to_one(self):\n",
    "        mid_unc = self.cv.mid_unc_grid()\n",
    "        \n",
    "        for signals in self.cv.num_signals:\n",
    "            self.assertAlmostEqual(sum([self.cv.prob_relative_mid_unc(mid, unc, signals) for mid, unc in mid_unc]), 1)\n",
    "\n",
    "    def test_prob_mid_unc_sums_to_one(self):\n",
    "        mid_unc = self.cv.mid_unc_grid()\n",
    "        \n",
    "        for signals in self.cv.num_signals:\n",
    "            self.assertAlmostEqual(sum([self.cv.prob_mid_unc(mid, unc, signals) for mid, unc in mid_unc]), 1)\n",
    "\n",
    "    \n",
    "    "
   ]
  },
  {
   "cell_type": "code",
   "execution_count": 310,
   "metadata": {},
   "outputs": [
    {
     "name": "stderr",
     "output_type": "stream",
     "text": [
      "...............\n",
      "----------------------------------------------------------------------\n",
      "Ran 15 tests in 0.081s\n",
      "\n",
      "OK\n"
     ]
    },
    {
     "data": {
      "text/plain": [
       "<unittest.main.TestProgram at 0x7f4985215ac0>"
      ]
     },
     "execution_count": 310,
     "metadata": {},
     "output_type": "execute_result"
    }
   ],
   "source": [
    "unittest.main(argv=[''], exit=False)"
   ]
  },
  {
   "cell_type": "code",
   "execution_count": 402,
   "metadata": {
    "executionInfo": {
     "elapsed": 11,
     "status": "ok",
     "timestamp": 1629774558499,
     "user": {
      "displayName": "Steve Vu",
      "photoUrl": "",
      "userId": "15042692419690583501"
     },
     "user_tz": 420
    },
    "id": "jYqKBPQY-Tpt"
   },
   "outputs": [],
   "source": [
    "def possible_midpoint(true_value, unc):\n",
    "    #Given an uncertainty, we can find a set of possible midpoints as the true value is in (min_value, max_value)\n",
    "    possible_midpoint = [i for i in range(true_value - int(unc * 0.5), true_value + int(unc * 0.5) + step_size, step_size)]\n",
    "    return possible_midpoint"
   ]
  },
  {
   "cell_type": "code",
   "execution_count": 403,
   "metadata": {
    "executionInfo": {
     "elapsed": 11,
     "status": "ok",
     "timestamp": 1629774558500,
     "user": {
      "displayName": "Steve Vu",
      "photoUrl": "",
      "userId": "15042692419690583501"
     },
     "user_tz": 420
    },
    "id": "8iv7nzTC-VbS"
   },
   "outputs": [],
   "source": [
    "def prob_midpoint(true_value, mid, unc):\n",
    "    #Return P(mid|num_signals, uncertainty, true_value)\n",
    "    #Midpoint is uniformly drawn from the possible midpoint given an uncertainty\n",
    "    if mid in possible_midpoint(true_value, unc):\n",
    "        return 1/len(possible_midpoint(true_value, unc))\n",
    "    else:\n",
    "        return 0"
   ]
  },
  {
   "cell_type": "code",
   "execution_count": 8,
   "metadata": {
    "executionInfo": {
     "elapsed": 10,
     "status": "ok",
     "timestamp": 1629774558500,
     "user": {
      "displayName": "Steve Vu",
      "photoUrl": "",
      "userId": "15042692419690583501"
     },
     "user_tz": 420
    },
    "id": "qWBGgEyE-XTC"
   },
   "outputs": [],
   "source": [
    "def prob_unc(unc, num_signals):\n",
    "    #Return P(unc|true_value, num_signals)\n",
    "    #Uncertainty follows a Beta distribution\n",
    "    #uncs = np.linspace(min_value, max_unc + 2 * step_size, num_uncs + 1)\n",
    "    uncs = np.linspace(0, max_unc, num_uncs + 1)\n",
    "    unc_dist = stats.beta(num_signals-1, 2)\n",
    "    #unc_likes = unc_dist.pdf(1 - uncs/(max_unc + 2 * step_size))/(max_unc + 2 * step_size)\n",
    "    unc_likes = unc_dist.pdf(1 - uncs/max_unc)\n",
    "    unc_probs = unc_likes/np.sum(unc_likes)\n",
    "    uncs_index = uncs.tolist().index(unc)\n",
    "    return unc_probs[uncs_index]"
   ]
  },
  {
   "cell_type": "code",
   "execution_count": 287,
   "metadata": {},
   "outputs": [],
   "source": [
    "t_value_dist = stats.randint(500, 9500)"
   ]
  },
  {
   "cell_type": "code",
   "execution_count": 293,
   "metadata": {},
   "outputs": [
    {
     "name": "stdout",
     "output_type": "stream",
     "text": [
      "786 ms ± 16.7 ms per loop (mean ± std. dev. of 7 runs, 1 loop each)\n"
     ]
    }
   ],
   "source": [
    "rand_values = np.arange(0, 10000, 1)\n",
    "\n",
    "%timeit [t_value_dist.pmf(v) for v in rand_values]"
   ]
  },
  {
   "cell_type": "code",
   "execution_count": 294,
   "metadata": {},
   "outputs": [
    {
     "name": "stdout",
     "output_type": "stream",
     "text": [
      "4.14 s ± 313 ms per loop (mean ± std. dev. of 7 runs, 1 loop each)\n"
     ]
    }
   ],
   "source": [
    "t_values = range(500, 9501)\n",
    "\n",
    "def pmf_true(v):\n",
    "    return 1/9000 if v in t_values else 0\n",
    "\n",
    "%timeit [pmf_true(v) for v in rand_values]"
   ]
  },
  {
   "cell_type": "code",
   "execution_count": 157,
   "metadata": {},
   "outputs": [
    {
     "name": "stdout",
     "output_type": "stream",
     "text": [
      "611 ms ± 7.28 ms per loop (mean ± std. dev. of 7 runs, 1 loop each)\n",
      "302 ms ± 27.1 ms per loop (mean ± std. dev. of 7 runs, 1 loop each)\n"
     ]
    }
   ],
   "source": [
    "cv = CommonValue([2,3,4,5], [500, 9500], 1, 500)\n",
    "%timeit [cv.prob_relative_mid_unc(mid, unc, signals) for unc in range(0, cv.max_unc, cv.step_size) for mid in range(int(0 - cv.max_unc / 2), int(cv.max_unc / 2) + cv.step_size, cv.step_size) for signals in cv.num_signals]\n",
    "%timeit [cv.prob_relative_mid_unc(mid, unc, signals) for unc in range(0, cv.max_unc + cv.step_size, cv.step_size) for mid in cv.m_ranges[unc] for signals in cv.num_signals]"
   ]
  },
  {
   "cell_type": "code",
   "execution_count": 191,
   "metadata": {},
   "outputs": [
    {
     "name": "stdout",
     "output_type": "stream",
     "text": [
      "496 ms ± 7.93 ms per loop (mean ± std. dev. of 7 runs, 1 loop each)\n",
      "263 ms ± 2.16 ms per loop (mean ± std. dev. of 7 runs, 1 loop each)\n"
     ]
    }
   ],
   "source": [
    "cv = CommonValue([2,3,4,5], [500, 9500], 1, 500)\n",
    "%timeit [cv.prob_mid_unc(mid, unc, signals) for unc in range(0, cv.max_unc, cv.step_size) for mid in range(int(0 - cv.max_unc / 2), int(cv.max_unc / 2) + cv.step_size, cv.step_size) for signals in cv.num_signals]\n",
    "%timeit [cv.prob_mid_unc(mid, unc, signals) for unc in range(0, cv.max_unc + cv.step_size, cv.step_size) for mid in cv.m_ranges[unc] for signals in cv.num_signals]"
   ]
  },
  {
   "cell_type": "code",
   "execution_count": 195,
   "metadata": {},
   "outputs": [],
   "source": [
    "cv = CommonValue([2,3,4,5], [500, 9500], 1, 500)"
   ]
  },
  {
   "cell_type": "code",
   "execution_count": 9,
   "metadata": {
    "executionInfo": {
     "elapsed": 10,
     "status": "ok",
     "timestamp": 1629774558501,
     "user": {
      "displayName": "Steve Vu",
      "photoUrl": "",
      "userId": "15042692419690583501"
     },
     "user_tz": 420
    },
    "id": "z27rFPCz-Z-u"
   },
   "outputs": [],
   "source": [
    "def prob_mid_unc(true_value, mid, unc, num_signals):\n",
    "    #P(mid, unc|num_signals, uncertainty, true_value)\n",
    "    return prob_midpoint(true_value, mid, unc) * prob_unc(unc, num_signals)"
   ]
  },
  {
   "cell_type": "code",
   "execution_count": 43,
   "metadata": {
    "executionInfo": {
     "elapsed": 10,
     "status": "ok",
     "timestamp": 1629774558501,
     "user": {
      "displayName": "Steve Vu",
      "photoUrl": "",
      "userId": "15042692419690583501"
     },
     "user_tz": 420
    },
    "id": "T4Dg7ZxBn0Bz"
   },
   "outputs": [
    {
     "data": {
      "text/plain": [
       "0.9999999999999987"
      ]
     },
     "execution_count": 43,
     "metadata": {},
     "output_type": "execute_result"
    }
   ],
   "source": [
    "cv = CommonValue([2,3,4,5], [10, 100], 1, 50)\n",
    "\n",
    "mid_unc = []\n",
    "for unc in range(0, cv.max_unc + cv.step_size, cv.step_size):\n",
    "    for mid in cv.m_ranges[unc]:\n",
    "      mid_unc.append([mid, unc])\n",
    "sum([cv.prob_mid_unc(mid, unc, 2) for mid, unc in mid_unc])"
   ]
  },
  {
   "cell_type": "markdown",
   "metadata": {},
   "source": [
    "# Grid Approximation attempt 2\n",
    "\n",
    "Im not sure if this is the correct way to approach this.  The CommonValue class uses discrete values for midpoints but this uses continuous uniform distribution for midpoints instead.  However, the p(mid, unc) do not match when using only actually possible midpoints.  "
   ]
  },
  {
   "cell_type": "code",
   "execution_count": 92,
   "metadata": {},
   "outputs": [],
   "source": [
    "def prob_mid_cont(mid, unc, max_unc):\n",
    "    if unc == 0:\n",
    "        return 1 if mid == max_unc / 2 else 0\n",
    "        \n",
    "    return 1/unc if mid >= (max_unc - unc) / 2 and mid <= (max_unc + unc)/2 else 0\n",
    "\n",
    "def prob_unc_cont(unc, signals, max_unc):\n",
    "    return stats.beta(signals - 1, 2).pdf(1 - unc/max_unc)\n",
    "\n",
    "def prob_mid_unc_cont(mid, unc, signals, max_unc):\n",
    "    return prob_mid_cont(mid, unc, max_unc) * prob_unc_cont(unc, signals, max_unc)\n",
    "\n",
    "cv = CommonValue([2,3,4,5], [10, 100], 1, 50)\n",
    "mid_unc = []\n",
    "for unc in range(0, cv.max_unc + cv.step_size, cv.step_size):\n",
    "    for mid in cv.m_ranges[unc]:\n",
    "      mid_unc.append([mid, unc])\n",
    "\n",
    "scale = sum([prob_mid_unc_cont(mid, unc, 2, cv.max_unc) for mid, unc in mid_unc])\n",
    "pmu = {(mid, unc): prob_mid_unc_cont(mid, unc, 2, cv.max_unc) / scale for mid, unc in mid_unc}"
   ]
  },
  {
   "cell_type": "code",
   "execution_count": 101,
   "metadata": {},
   "outputs": [
    {
     "name": "stdout",
     "output_type": "stream",
     "text": [
      "0.0006722689075630253\n",
      "0.0007547169811320893\n",
      "0.9999999999999997 vs 0.9999999999999987\n"
     ]
    }
   ],
   "source": [
    "print(cv.prob_mid_unc(22, 6, 2))\n",
    "print(pmu[(22, 6)])\n",
    "print(f'{sum(pmu.values())} vs {sum([cv.prob_mid_unc(mid, unc, 2) for mid, unc in pmu.keys()])}')"
   ]
  },
  {
   "cell_type": "code",
   "execution_count": 11,
   "metadata": {
    "executionInfo": {
     "elapsed": 10,
     "status": "ok",
     "timestamp": 1629774558502,
     "user": {
      "displayName": "Steve Vu",
      "photoUrl": "",
      "userId": "15042692419690583501"
     },
     "user_tz": 420
    },
    "id": "FW_dNFTw-nd7"
   },
   "outputs": [],
   "source": [
    "#Return P(mid, unc|true) - given a true value, what is the probability of a pair of mid and unc?\n",
    "\n",
    "# mid_unc_prob_table = {num_signals[0]: {}, num_signals[1]: {}}\n",
    "# for signal in num_signals:\n",
    "#     for unc in range(min_value, max_unc + 2 * step_size, 2 * step_size):\n",
    "#         for mid in range(min_mid, max_mid + step_size, step_size):\n",
    "#             for true in range(min_value, max_value + step_size, step_size):\n",
    "#               mid_unc_prob_table[signal][Mid_unc_prob(signal, unc, mid, true)] = prob_mid_unc(true_value=true,mid=mid, unc=unc, num_signals=signal)"
   ]
  },
  {
   "cell_type": "markdown",
   "metadata": {},
   "source": [
    "# DP\n",
    "\n",
    "I think this is where Steve started implementing the DP"
   ]
  },
  {
   "cell_type": "code",
   "execution_count": 102,
   "metadata": {},
   "outputs": [],
   "source": [
    "State = namedtuple('State', ['unc', 'mid', 'clock_price'])\n",
    "Opp_in = namedtuple('Opp_in', ['unc', 'mid', 'clock_price', 'true_value'])\n",
    "True_prob = namedtuple('True_prob', ['unc', 'mid', 'clock_price', 'true_value'])"
   ]
  },
  {
   "cell_type": "code",
   "execution_count": 103,
   "metadata": {
    "executionInfo": {
     "elapsed": 5021,
     "status": "ok",
     "timestamp": 1629774563514,
     "user": {
      "displayName": "Steve Vu",
      "photoUrl": "",
      "userId": "15042692419690583501"
     },
     "user_tz": 420
    },
    "id": "1lmZPwTv6oHm"
   },
   "outputs": [
    {
     "ename": "NameError",
     "evalue": "name 'num_signals' is not defined",
     "output_type": "error",
     "traceback": [
      "\u001b[0;31m---------------------------------------------------------------------------\u001b[0m",
      "\u001b[0;31mNameError\u001b[0m                                 Traceback (most recent call last)",
      "\u001b[1;32m/home/rfrench/projects/costly_signals/steve_cv_edits.ipynb Cell 22'\u001b[0m in \u001b[0;36m<module>\u001b[0;34m\u001b[0m\n\u001b[1;32m      <a href='vscode-notebook-cell://wsl%2Bubuntu-20.04/home/rfrench/projects/costly_signals/steve_cv_edits.ipynb#ch0000015vscode-remote?line=0'>1</a>\u001b[0m \u001b[39m#Return P(mid, unc|true) - given a true value, what is the probability of a pair of mid and unc?\u001b[39;00m\n\u001b[0;32m----> <a href='vscode-notebook-cell://wsl%2Bubuntu-20.04/home/rfrench/projects/costly_signals/steve_cv_edits.ipynb#ch0000015vscode-remote?line=2'>3</a>\u001b[0m mid_unc_prob_table \u001b[39m=\u001b[39m {num_signals[\u001b[39m0\u001b[39m]: {}, num_signals[\u001b[39m1\u001b[39m]: {}}\n\u001b[1;32m      <a href='vscode-notebook-cell://wsl%2Bubuntu-20.04/home/rfrench/projects/costly_signals/steve_cv_edits.ipynb#ch0000015vscode-remote?line=3'>4</a>\u001b[0m \u001b[39mfor\u001b[39;00m signal \u001b[39min\u001b[39;00m num_signals:\n\u001b[1;32m      <a href='vscode-notebook-cell://wsl%2Bubuntu-20.04/home/rfrench/projects/costly_signals/steve_cv_edits.ipynb#ch0000015vscode-remote?line=4'>5</a>\u001b[0m   \u001b[39mfor\u001b[39;00m true \u001b[39min\u001b[39;00m \u001b[39mrange\u001b[39m(min_value, max_value \u001b[39m+\u001b[39m step_size, step_size):\n",
      "\u001b[0;31mNameError\u001b[0m: name 'num_signals' is not defined"
     ]
    }
   ],
   "source": [
    "#Return P(mid, unc|true) - given a true value, what is the probability of a pair of mid and unc?\n",
    "\n",
    "\n",
    "mid_unc_prob_table = {num_signals[0]: {}, num_signals[1]: {}}\n",
    "for signal in num_signals:\n",
    "  for true in range(min_value, max_value + step_size, step_size):\n",
    "    for pair in mid_unc:\n",
    "      mid_unc_prob_table[signal][Mid_unc_prob(signal, pair[1], pair[0], true)] = prob_mid_unc(true_value=true, mid=pair[0], unc=pair[1], num_signals=signal)"
   ]
  },
  {
   "cell_type": "code",
   "execution_count": 48,
   "metadata": {},
   "outputs": [
    {
     "name": "stdout",
     "output_type": "stream",
     "text": [
      "sample: 0.640046 vs analytic 0.64\n"
     ]
    }
   ],
   "source": [
    "sample = [min(random.choices([1,2,3,4,5], k=2)) for _ in range(1000000)]\n",
    "print(f'sample: {sum([v < 3 for v in sample])/len(sample)} vs analytic {16/25}')"
   ]
  },
  {
   "cell_type": "code",
   "execution_count": 13,
   "metadata": {
    "executionInfo": {
     "elapsed": 16,
     "status": "ok",
     "timestamp": 1629774563515,
     "user": {
      "displayName": "Steve Vu",
      "photoUrl": "",
      "userId": "15042692419690583501"
     },
     "user_tz": 420
    },
    "id": "7k7mkjJl-bV8"
   },
   "outputs": [],
   "source": [
    "state_table = {num_signals[0]: [], num_signals[1]: []}\n",
    "#value iteration - generate random value table and policy table at the beginning\n",
    "init_value_table = {num_signals[0]: {}, num_signals[1]: {}}\n",
    "init_policy_table = {num_signals[0]: {}, num_signals[1]: {}}\n",
    "for signal in num_signals:\n",
    "    for unc in range(min_value, max_unc + 2 * step_size, 2 * step_size):\n",
    "        for mid in range(min_mid, max_mid + step_size, step_size):\n",
    "            for price in range(min_value - step_size, max_value + step_size, step_size):\n",
    "                state_table[signal].append(State(signal, unc, mid, price))\n",
    "                init_value_table[signal][State(signal, unc, mid, price)] = max(mid - price,0) #initialy, a player drops when clock price approaches hid midpoint. Thus, his value is zero for all prices over his midpoint \n",
    "                init_policy_table[signal][State(signal, unc, mid, price)] = 1 if mid >= price else 0\n",
    "                #init_value_table[signal][State(signal, unc, mid, price)] = max(mid + 0.5 * unc - price,0) #initialy, a player drops when clock price approaches hid midpoint. Thus, his value is zero for all prices over his midpoint \n",
    "                #init_policy_table[signal][State(signal, unc, mid, price)] = 1 if (mid + int(0.5 * unc)) >= price else 0"
   ]
  },
  {
   "cell_type": "markdown",
   "metadata": {},
   "source": [
    "# Counting number of states"
   ]
  },
  {
   "cell_type": "code",
   "execution_count": 259,
   "metadata": {},
   "outputs": [
    {
     "data": {
      "text/plain": [
       "1052646840000.0"
      ]
     },
     "execution_count": 259,
     "metadata": {},
     "output_type": "execute_result"
    }
   ],
   "source": [
    "max_value = 950\n",
    "min_value = 50\n",
    "d = 5\n",
    "a = (max_value - min_value) / d + 1\n",
    "n = 100 / d + 1\n",
    "clock_increment = 10\n",
    "clock_prices = (max_value - min_value) / clock_increment\n",
    "\n",
    "min_unc_count = n / 2 * (2 * a + (n - 1))\n",
    "min_unc_count * 4 * clock_prices * clock_prices**3"
   ]
  },
  {
   "cell_type": "code",
   "execution_count": 236,
   "metadata": {},
   "outputs": [
    {
     "data": {
      "text/plain": [
       "264"
      ]
     },
     "execution_count": 236,
     "metadata": {},
     "output_type": "execute_result"
    }
   ],
   "source": [
    "cv2 = CommonValue([2,3,4,5], [10, 100], 5, 50)\n",
    "all_mids2 = {(m + t, unc) for t in range(cv2.min_value, cv2.max_value + cv2.step_size, cv2.step_size) for unc in cv2.possible_uncertainty for m in cv2.possible_relative_midpoint(unc)}\n",
    "len(all_mids2)"
   ]
  },
  {
   "cell_type": "code",
   "execution_count": 14,
   "metadata": {
    "executionInfo": {
     "elapsed": 14,
     "status": "ok",
     "timestamp": 1629774563517,
     "user": {
      "displayName": "Steve Vu",
      "photoUrl": "",
      "userId": "15042692419690583501"
     },
     "user_tz": 420
    },
    "id": "aKrsakmH-2bX"
   },
   "outputs": [],
   "source": [
    "def transition_matrix(state, policy_table, decision_table):\n",
    "    #Return a matrix: [[In-In, Out-In], [In-Out, Out-Out]]\n",
    "    #It's a subjective transition matrix. Given a state, I know my decision and need to guess his decision\n",
    "    p1 = policy_table[state.num_signals][state]\n",
    "    p2 = decision_table[state.num_signals][state]\n",
    "\n",
    "    decision1 = np.array([p1, 1 - p1])\n",
    "    decision2 = np.array([p2, 1 - p2]).reshape(2,1)\n",
    "    trans_matrix = decision1 * decision2\n",
    "    return trans_matrix"
   ]
  },
  {
   "cell_type": "code",
   "execution_count": 15,
   "metadata": {
    "executionInfo": {
     "elapsed": 14,
     "status": "ok",
     "timestamp": 1629774563518,
     "user": {
      "displayName": "Steve Vu",
      "photoUrl": "",
      "userId": "15042692419690583501"
     },
     "user_tz": 420
    },
    "id": "8LPal1aM-48k"
   },
   "outputs": [],
   "source": [
    "def expected_value(state, true_value_dist_table):\n",
    "    total = 0\n",
    "    for true in range(state.mid - int(0.5 * state.unc),\n",
    "                      state.mid + int(0.5 * state.unc) + step_size,\n",
    "                      step_size):\n",
    "      if true in range(min_value, max_value + step_size, step_size):\n",
    "        total += ((true - state.clock_price) * \n",
    "                  true_value_dist_table[state.num_signals][True_prob(state.num_signals, state.unc, state.mid, state.clock_price, true)])\n",
    "    return total"
   ]
  },
  {
   "cell_type": "code",
   "execution_count": 62,
   "metadata": {
    "executionInfo": {
     "elapsed": 14,
     "status": "ok",
     "timestamp": 1629774563519,
     "user": {
      "displayName": "Steve Vu",
      "photoUrl": "",
      "userId": "15042692419690583501"
     },
     "user_tz": 420
    },
    "id": "roxgyTaxAhwW"
   },
   "outputs": [],
   "source": [
    "#Return P(Opp_in|true) - Given a true value, I need to guess the probability that he will stay in at a state.\n",
    "#{'2': 'What probability I guess about his action based on my state and my range of true value'}\n",
    "#I know the true value, his #signal and current price. I must scan all possible pairs of mid_unc\n",
    "#Given the true value, I get probabilities of different pairs of mid_unc\n",
    "#Given a pair of mid_unc and price, I look at his policy table\n",
    "#policy_table = init_policy_table\n",
    "\n",
    "def opp_in(state_table, policy_table, mid_unc):\n",
    "  prop_opp_in_table = {num_signals[0]: {}, num_signals[1]: {}}\n",
    "  for signal in num_signals:\n",
    "    for state in state_table[signal]:\n",
    "      for true in range(state.mid - int(0.5 * state.unc),\n",
    "                        state.mid + int(0.5 * state.unc) + step_size,\n",
    "                        step_size):\n",
    "          p = prob_opp_in_given_true(policy_table, mid_unc, signal, state.clock_price, true)\n",
    "          prop_opp_in_table[signal][Opp_in(num_signals=signal,unc=state.unc,mid=state.mid,clock_price=state.clock_price,true_value=true)] = p\n",
    "  return prop_opp_in_table\n",
    "\n",
    "def prob_opp_in_given_true(policy_table, mid_unc, signal, clock_price, true):\n",
    "    comp_signal = num_signals[~num_signals.index(signal)]\n",
    "    if true not in range(min_value, max_value + step_size, step_size):\n",
    "        return 0\n",
    "    p = 0\n",
    "    for pair in mid_unc:\n",
    "        mid_unc_prob = mid_unc_prob_table[comp_signal][Mid_unc_prob(num_signals=comp_signal, unc=pair[1], mid=pair[0], true_value=true)]\n",
    "        indicator = policy_table[comp_signal][State(num_signals=comp_signal,unc=pair[1],mid=pair[0],clock_price=clock_price)]\n",
    "        p += mid_unc_prob * indicator"
   ]
  },
  {
   "cell_type": "code",
   "execution_count": 63,
   "metadata": {
    "executionInfo": {
     "elapsed": 13,
     "status": "ok",
     "timestamp": 1629774563519,
     "user": {
      "displayName": "Steve Vu",
      "photoUrl": "",
      "userId": "15042692419690583501"
     },
     "user_tz": 420
    },
    "id": "WwWJvu2LGVHb"
   },
   "outputs": [],
   "source": [
    "#Return P(true|state)\n",
    "\n",
    "def true_value_dist(state_table, prop_opp_in_table):\n",
    "  true_value_dist_table = {num_signals[0]: {}, num_signals[1]: {}}\n",
    "  for signal in num_signals:\n",
    "    comp_signal = num_signals[~num_signals.index(signal)]\n",
    "    for state in state_table[signal]:\n",
    "      t = {}\n",
    "      for true in range(state.mid - int(0.5 * state.unc),\n",
    "                        state.mid + int(0.5 * state.unc) + step_size,\n",
    "                        step_size):\n",
    "        if true in range(min_value, max_value + step_size, step_size):\n",
    "          price = state.clock_price\n",
    "          if state.clock_price > min_value:\n",
    "            price -= step_size\n",
    "          t[True_prob(signal,state.unc,state.mid,state.clock_price,true)] = (mid_unc_prob_table[signal][Mid_unc_prob(signal,state.unc,state.mid,true)] *\n",
    "                                                                             prob_true(true) *\n",
    "                                                                             prop_opp_in_table[comp_signal][Opp_in(comp_signal,state.unc,state.mid,price,true)])\n",
    "      if not all(x == 0 for x in list(t.values())):\n",
    "        t = {k: v/total for total in (sum(t.values()),) for k, v in t.items()}\n",
    "      true_value_dist_table[signal].update(t)\n",
    "  return true_value_dist_table"
   ]
  },
  {
   "cell_type": "code",
   "execution_count": 64,
   "metadata": {},
   "outputs": [],
   "source": [
    "opp_table = opp_in(state_table, init_policy_table, mid_unc)"
   ]
  },
  {
   "cell_type": "code",
   "execution_count": 19,
   "metadata": {
    "executionInfo": {
     "elapsed": 13,
     "status": "ok",
     "timestamp": 1629774563520,
     "user": {
      "displayName": "Steve Vu",
      "photoUrl": "",
      "userId": "15042692419690583501"
     },
     "user_tz": 420
    },
    "id": "p3i5DZ79FNso"
   },
   "outputs": [],
   "source": [
    "#Return P(decision|state) - decisions of competitors\n",
    "#{'2': what a player with 2 signals think about the decision of the other player with 5 signals at a state}\n",
    "#given a state, I know my decision based on my policy table, but I need to guess his decision\n",
    "#I scan all possible true values with my true value distribution. Given these true values, I compute his probability of staying in given a true value and the state's price\n",
    "\n",
    "def decision(state_table, prop_opp_in_table, true_value_dist_table):\n",
    "  decision_table = {num_signals[0]: {}, num_signals[1]: {}}\n",
    "  for signal in num_signals:\n",
    "    comp_signal = num_signals[~num_signals.index(signal)]\n",
    "    for state in state_table[signal]:\n",
    "      d = 0\n",
    "      for true in range(state.mid - int(0.5 * state.unc),\n",
    "                        state.mid + int(0.5 * state.unc) + step_size,\n",
    "                        step_size):\n",
    "        if true in range(min_value, max_value + step_size, step_size):\n",
    "          prob_dec = prop_opp_in_table[comp_signal][Opp_in(comp_signal,state.unc,state.mid,state.clock_price,true)]\n",
    "          prob_tr = true_value_dist_table[signal][True_prob(state.num_signals,state.unc,state.mid,state.clock_price,true)]\n",
    "          d += prob_dec * prob_tr\n",
    "      decision_table[signal][state] = d\n",
    "  return decision_table"
   ]
  },
  {
   "cell_type": "code",
   "execution_count": 21,
   "metadata": {
    "colab": {
     "base_uri": "https://localhost:8080/"
    },
    "executionInfo": {
     "elapsed": 85399,
     "status": "ok",
     "timestamp": 1629774648906,
     "user": {
      "displayName": "Steve Vu",
      "photoUrl": "",
      "userId": "15042692419690583501"
     },
     "user_tz": 420
    },
    "id": "-CbpQQGjAyXM",
    "outputId": "a21e42aa-3261-41f1-9e06-12d7f5a81e3a"
   },
   "outputs": [
    {
     "name": "stdout",
     "output_type": "stream",
     "text": [
      "The execution time is 0:00:09.987923, from 2021-09-02 15:30:00.720666 to 2021-09-02 15:30:10.708589 \n"
     ]
    }
   ],
   "source": [
    "start_time = datetime.now()\n",
    "policy_table = init_policy_table\n",
    "value_table = init_value_table\n",
    "\n",
    "done = False\n",
    "table = {}\n",
    "# while not done:\n",
    "\n",
    "for _ in range(2):  \n",
    "  prop_opp_in_table = opp_in(state_table, init_policy_table, mid_unc)\n",
    "  true_value_dist_table = true_value_dist(state_table, prop_opp_in_table)\n",
    "  decision_table = decision(state_table,prop_opp_in_table,true_value_dist_table)\n",
    "\n",
    "  for signal in num_signals:\n",
    "    comp_signals = num_signals[~num_signals.index(signal)]\n",
    "    delta = [0 for _ in range(len(state_table[signal]))]\n",
    "    for i in range(len(state_table[signal])-1,-1,-1):\n",
    "      state = state_table[signal][i]\n",
    "      init_value = value_table[signal][state]\n",
    "\n",
    "      exp_value = expected_value(state, true_value_dist_table)\n",
    "      trans_matrix = transition_matrix(state,policy_table,decision_table)\n",
    "\n",
    "      if state.clock_price < max_value:\n",
    "        if (state.mid + 0.5 * state.unc) >= state.clock_price + step_size:\n",
    "          val_out = trans_matrix[1][1] * exp_value * 0.5\n",
    "          val_in = trans_matrix[1][0] * exp_value + trans_matrix[0][0] * value_table[signal][state_table[signal][i+1]]\n",
    "          value_table[signal][state] = max(val_out, val_in)\n",
    "          policy_table[signal][state] = 1 if val_in > val_out else 0\n",
    "        else:\n",
    "          val_out = val_in = exp_value * 0.5 * (decision_table[signal][state])\n",
    "          value_table[signal][state] = val_in\n",
    "          policy_table[signal][state] = 0\n",
    "      else:\n",
    "        value_table[signal][state] = 0\n",
    "        policy_table[signal][state] = 0\n",
    "\n",
    "      delta[i] = max(delta[i], abs(init_value - value_table[signal][state]))\n",
    "\n",
    "    table[signal] = delta\n",
    "\n",
    "\n",
    "  # theta = 0.5\n",
    "  # if (all(x < theta for x in table[2])) and (all(y < theta for y in table[5])):\n",
    "  #   done = True\n",
    "  # else:\n",
    "  #   done = False\n",
    "\n",
    "end_time = datetime.now()\n",
    "print(f'The execution time is {end_time - start_time}, from {start_time} to {end_time} ')"
   ]
  },
  {
   "cell_type": "code",
   "execution_count": 28,
   "metadata": {},
   "outputs": [],
   "source": []
  },
  {
   "cell_type": "code",
   "execution_count": 31,
   "metadata": {},
   "outputs": [
    {
     "name": "stderr",
     "output_type": "stream",
     "text": [
      "...\n",
      "----------------------------------------------------------------------\n",
      "Ran 3 tests in 0.001s\n",
      "\n",
      "OK\n"
     ]
    },
    {
     "data": {
      "text/plain": [
       "<unittest.main.TestProgram at 0x7fb384327730>"
      ]
     },
     "execution_count": 31,
     "metadata": {},
     "output_type": "execute_result"
    }
   ],
   "source": []
  },
  {
   "cell_type": "code",
   "execution_count": null,
   "metadata": {},
   "outputs": [],
   "source": []
  }
 ],
 "metadata": {
  "accelerator": "GPU",
  "colab": {
   "authorship_tag": "ABX9TyPQBXO6PazL/aIln+I7h1Dl",
   "collapsed_sections": [],
   "name": "auction_project.ipynb",
   "provenance": []
  },
  "kernelspec": {
   "display_name": "Python 3 (ipykernel)",
   "language": "python",
   "name": "python3"
  },
  "language_info": {
   "codemirror_mode": {
    "name": "ipython",
    "version": 3
   },
   "file_extension": ".py",
   "mimetype": "text/x-python",
   "name": "python",
   "nbconvert_exporter": "python",
   "pygments_lexer": "ipython3",
   "version": "3.8.10"
  }
 },
 "nbformat": 4,
 "nbformat_minor": 4
}
