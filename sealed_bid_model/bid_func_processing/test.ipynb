{
 "cells": [
  {
   "cell_type": "code",
   "execution_count": 36,
   "metadata": {},
   "outputs": [],
   "source": [
    "import numpy as np\n",
    "import importlib.util\n",
    "import ryan_ga_verify as ryan\n",
    "import sim_combiner\n",
    "import bid_functions\n",
    "import verify_bid_funcs\n",
    "import matplotlib.pyplot as plt"
   ]
  },
  {
   "cell_type": "code",
   "execution_count": 6,
   "metadata": {},
   "outputs": [
    {
     "name": "stdout",
     "output_type": "stream",
     "text": [
      "0.0\n",
      "10.0\n",
      "20.0\n",
      "30.0\n",
      "40.0\n",
      "50.0\n",
      "60.0\n",
      "70.0\n",
      "80.0\n",
      "90.0\n",
      "100.0\n",
      "110.0\n",
      "120.0\n",
      "130.0\n",
      "140.0\n",
      "150.0\n",
      "160.0\n",
      "170.0\n",
      "180.0\n",
      "190.0\n",
      "200.0\n",
      "210.0\n",
      "220.0\n",
      "230.0\n",
      "240.0\n",
      "250.0\n",
      "260.0\n",
      "270.0\n",
      "280.0\n",
      "290.0\n",
      "300.0\n",
      "310.0\n",
      "320.0\n",
      "330.0\n",
      "340.0\n",
      "350.0\n",
      "360.0\n",
      "370.0\n",
      "380.0\n",
      "390.0\n",
      "400.0\n",
      "410.0\n",
      "420.0\n",
      "430.0\n",
      "440.0\n",
      "450.0\n",
      "460.0\n",
      "470.0\n",
      "480.0\n",
      "490.0\n",
      "500.0\n",
      "510.0\n",
      "520.0\n",
      "530.0\n",
      "540.0\n",
      "550.0\n",
      "560.0\n",
      "570.0\n",
      "580.0\n",
      "590.0\n",
      "600.0\n",
      "610.0\n",
      "620.0\n",
      "630.0\n",
      "640.0\n",
      "650.0\n",
      "660.0\n",
      "670.0\n",
      "680.0\n",
      "690.0\n",
      "700.0\n",
      "710.0\n",
      "720.0\n",
      "730.0\n",
      "740.0\n",
      "750.0\n",
      "760.0\n",
      "770.0\n",
      "780.0\n",
      "790.0\n",
      "800.0\n",
      "810.0\n",
      "820.0\n",
      "830.0\n",
      "840.0\n",
      "850.0\n",
      "860.0\n",
      "870.0\n",
      "880.0\n",
      "890.0\n",
      "900.0\n",
      "910.0\n",
      "920.0\n",
      "930.0\n",
      "940.0\n",
      "950.0\n",
      "960.0\n",
      "970.0\n",
      "980.0\n",
      "990.0\n",
      "1000.0\n",
      "1010.0\n",
      "1020.0\n",
      "1030.0\n",
      "1040.0\n",
      "1050.0\n",
      "1060.0\n",
      "1070.0\n",
      "1080.0\n",
      "1090.0\n",
      "1100.0\n",
      "1110.0\n",
      "1120.0\n",
      "1130.0\n",
      "1140.0\n",
      "1150.0\n",
      "1160.0\n",
      "1170.0\n",
      "1180.0\n",
      "1190.0\n",
      "1200.0\n",
      "1210.0\n",
      "1220.0\n",
      "1230.0\n",
      "1240.0\n",
      "1250.0\n",
      "1260.0\n",
      "1270.0\n",
      "1280.0\n",
      "1290.0\n",
      "1300.0\n",
      "1310.0\n",
      "1320.0\n",
      "1330.0\n",
      "1340.0\n",
      "1350.0\n",
      "1360.0\n",
      "1370.0\n",
      "1380.0\n",
      "1390.0\n",
      "1400.0\n",
      "1410.0\n",
      "1420.0\n",
      "1430.0\n",
      "1440.0\n",
      "1450.0\n",
      "1460.0\n",
      "1470.0\n",
      "1480.0\n",
      "1490.0\n",
      "1500.0\n",
      "1510.0\n",
      "1520.0\n",
      "1530.0\n",
      "1540.0\n",
      "1550.0\n",
      "1560.0\n",
      "1570.0\n",
      "1580.0\n",
      "1590.0\n",
      "1600.0\n",
      "1610.0\n",
      "1620.0\n",
      "1630.0\n",
      "1640.0\n",
      "1650.0\n",
      "1660.0\n",
      "1670.0\n",
      "1680.0\n",
      "1690.0\n",
      "1700.0\n",
      "1710.0\n",
      "1720.0\n",
      "1730.0\n",
      "1740.0\n",
      "1750.0\n",
      "1760.0\n",
      "1770.0\n",
      "1780.0\n",
      "1790.0\n",
      "1800.0\n",
      "1810.0\n",
      "1820.0\n",
      "1830.0\n",
      "1840.0\n",
      "1850.0\n",
      "1860.0\n",
      "1870.0\n",
      "1880.0\n",
      "1890.0\n",
      "1900.0\n",
      "1910.0\n",
      "1920.0\n",
      "1930.0\n",
      "1940.0\n",
      "1950.0\n",
      "1960.0\n",
      "1970.0\n",
      "1980.0\n",
      "1990.0\n",
      "2000.0\n",
      "2010.0\n",
      "2020.0\n",
      "2030.0\n",
      "2040.0\n",
      "2050.0\n",
      "2060.0\n",
      "2070.0\n",
      "2080.0\n",
      "2090.0\n",
      "2100.0\n",
      "2110.0\n",
      "2120.0\n",
      "2130.0\n",
      "2140.0\n",
      "2150.0\n",
      "2160.0\n",
      "2170.0\n",
      "2180.0\n",
      "2190.0\n",
      "2200.0\n",
      "2210.0\n",
      "2220.0\n",
      "2230.0\n",
      "2240.0\n",
      "2250.0\n",
      "2260.0\n",
      "2270.0\n",
      "2280.0\n",
      "2290.0\n",
      "2300.0\n",
      "2310.0\n",
      "2320.0\n",
      "2330.0\n",
      "2340.0\n",
      "2350.0\n",
      "2360.0\n",
      "2370.0\n",
      "2380.0\n",
      "2390.0\n",
      "2400.0\n",
      "2410.0\n",
      "2420.0\n",
      "2430.0\n",
      "2440.0\n",
      "2450.0\n",
      "2460.0\n",
      "2470.0\n",
      "2480.0\n",
      "2490.0\n",
      "2500.0\n",
      "2510.0\n",
      "2520.0\n",
      "2530.0\n",
      "2540.0\n",
      "2550.0\n",
      "2560.0\n",
      "2570.0\n",
      "2580.0\n",
      "2590.0\n",
      "2600.0\n",
      "2610.0\n",
      "2620.0\n",
      "2630.0\n",
      "2640.0\n",
      "2650.0\n",
      "2660.0\n",
      "2670.0\n",
      "2680.0\n",
      "2690.0\n",
      "2700.0\n",
      "2710.0\n",
      "2720.0\n",
      "2730.0\n",
      "2740.0\n",
      "2750.0\n",
      "2760.0\n",
      "2770.0\n",
      "2780.0\n",
      "2790.0\n",
      "2800.0\n",
      "2810.0\n",
      "2820.0\n",
      "2830.0\n",
      "2840.0\n",
      "2850.0\n",
      "2860.0\n",
      "2870.0\n",
      "2880.0\n",
      "2890.0\n",
      "2900.0\n",
      "2910.0\n",
      "2920.0\n",
      "2930.0\n",
      "2940.0\n",
      "2950.0\n",
      "2960.0\n",
      "2970.0\n",
      "2980.0\n",
      "2990.0\n",
      "3000.0\n",
      "3010.0\n",
      "3020.0\n",
      "3030.0\n",
      "3040.0\n",
      "3050.0\n",
      "3060.0\n",
      "3070.0\n",
      "3080.0\n",
      "3090.0\n",
      "3100.0\n",
      "3110.0\n",
      "3120.0\n",
      "3130.0\n",
      "3140.0\n",
      "3150.0\n",
      "3160.0\n",
      "3170.0\n",
      "3180.0\n",
      "3190.0\n",
      "3200.0\n",
      "3210.0\n",
      "3220.0\n",
      "3230.0\n",
      "3240.0\n",
      "3250.0\n",
      "3260.0\n",
      "3270.0\n",
      "3280.0\n",
      "3290.0\n",
      "3300.0\n",
      "3310.0\n",
      "3320.0\n",
      "3330.0\n",
      "3340.0\n",
      "3350.0\n",
      "3360.0\n",
      "3370.0\n",
      "3380.0\n",
      "3390.0\n",
      "3400.0\n",
      "3410.0\n",
      "3420.0\n",
      "3430.0\n",
      "3440.0\n",
      "3450.0\n",
      "3460.0\n",
      "3470.0\n",
      "3480.0\n",
      "3490.0\n",
      "3500.0\n",
      "3510.0\n",
      "3520.0\n",
      "3530.0\n",
      "3540.0\n",
      "3550.0\n",
      "3560.0\n",
      "3570.0\n",
      "3580.0\n",
      "3590.0\n",
      "3600.0\n",
      "3610.0\n",
      "3620.0\n",
      "3630.0\n",
      "3640.0\n",
      "3650.0\n",
      "3660.0\n",
      "3670.0\n",
      "3680.0\n",
      "3690.0\n",
      "3700.0\n",
      "3710.0\n",
      "3720.0\n",
      "3730.0\n",
      "3740.0\n",
      "3750.0\n",
      "3760.0\n",
      "3770.0\n",
      "3780.0\n",
      "3790.0\n",
      "3800.0\n",
      "3810.0\n",
      "3820.0\n",
      "3830.0\n",
      "3840.0\n",
      "3850.0\n",
      "3860.0\n",
      "3870.0\n",
      "3880.0\n",
      "3890.0\n",
      "3900.0\n",
      "3910.0\n",
      "3920.0\n",
      "3930.0\n",
      "3940.0\n",
      "3950.0\n",
      "3960.0\n",
      "3970.0\n",
      "3980.0\n",
      "3990.0\n",
      "4000.0\n",
      "4010.0\n",
      "4020.0\n",
      "4030.0\n",
      "4040.0\n",
      "4050.0\n",
      "4060.0\n",
      "4070.0\n",
      "4080.0\n",
      "4090.0\n",
      "4100.0\n",
      "4110.0\n",
      "4120.0\n",
      "4130.0\n",
      "4140.0\n",
      "4150.0\n",
      "4160.0\n",
      "4170.0\n",
      "4180.0\n",
      "4190.0\n",
      "4200.0\n",
      "4210.0\n",
      "4220.0\n",
      "4230.0\n",
      "4240.0\n",
      "4250.0\n",
      "4260.0\n",
      "4270.0\n",
      "4280.0\n",
      "4290.0\n",
      "4300.0\n",
      "4310.0\n",
      "4320.0\n",
      "4330.0\n",
      "4340.0\n",
      "4350.0\n",
      "4360.0\n",
      "4370.0\n",
      "4380.0\n",
      "4390.0\n",
      "4400.0\n",
      "4410.0\n",
      "4420.0\n",
      "4430.0\n",
      "4440.0\n",
      "4450.0\n",
      "4460.0\n",
      "4470.0\n",
      "4480.0\n",
      "4490.0\n",
      "4500.0\n",
      "4510.0\n",
      "4520.0\n",
      "4530.0\n",
      "4540.0\n",
      "4550.0\n",
      "4560.0\n",
      "4570.0\n",
      "4580.0\n",
      "4590.0\n",
      "4600.0\n",
      "4610.0\n",
      "4620.0\n",
      "4630.0\n",
      "4640.0\n",
      "4650.0\n",
      "4660.0\n",
      "4670.0\n",
      "4680.0\n",
      "4690.0\n",
      "4700.0\n",
      "4710.0\n",
      "4720.0\n",
      "4730.0\n",
      "4740.0\n",
      "4750.0\n",
      "4760.0\n",
      "4770.0\n",
      "4780.0\n",
      "4790.0\n",
      "4800.0\n",
      "4810.0\n",
      "4820.0\n",
      "4830.0\n",
      "4840.0\n",
      "4850.0\n",
      "4860.0\n",
      "4870.0\n",
      "4880.0\n",
      "4890.0\n",
      "4900.0\n",
      "4910.0\n",
      "4920.0\n",
      "4930.0\n",
      "4940.0\n",
      "4950.0\n",
      "4960.0\n",
      "4970.0\n",
      "4980.0\n",
      "4990.0\n",
      "5000.0\n",
      "5010.0\n",
      "5020.0\n",
      "5030.0\n",
      "5040.0\n",
      "5050.0\n",
      "5060.0\n",
      "5070.0\n",
      "5080.0\n",
      "5090.0\n",
      "5100.0\n",
      "5110.0\n",
      "5120.0\n",
      "5130.0\n",
      "5140.0\n",
      "5150.0\n",
      "5160.0\n",
      "5170.0\n",
      "5180.0\n",
      "5190.0\n",
      "5200.0\n",
      "5210.0\n",
      "5220.0\n",
      "5230.0\n",
      "5240.0\n",
      "5250.0\n",
      "5260.0\n",
      "5270.0\n",
      "5280.0\n",
      "5290.0\n",
      "5300.0\n",
      "5310.0\n",
      "5320.0\n",
      "5330.0\n",
      "5340.0\n",
      "5350.0\n",
      "5360.0\n",
      "5370.0\n",
      "5380.0\n",
      "5390.0\n",
      "5400.0\n",
      "5410.0\n",
      "5420.0\n",
      "5430.0\n",
      "5440.0\n",
      "5450.0\n",
      "5460.0\n",
      "5470.0\n",
      "5480.0\n",
      "5490.0\n",
      "5500.0\n",
      "5510.0\n",
      "5520.0\n",
      "5530.0\n",
      "5540.0\n",
      "5550.0\n",
      "5560.0\n",
      "5570.0\n",
      "5580.0\n",
      "5590.0\n",
      "5600.0\n",
      "5610.0\n",
      "5620.0\n",
      "5630.0\n",
      "5640.0\n",
      "5650.0\n",
      "5660.0\n",
      "5670.0\n",
      "5680.0\n",
      "5690.0\n",
      "5700.0\n",
      "5710.0\n",
      "5720.0\n",
      "5730.0\n",
      "5740.0\n",
      "5750.0\n",
      "5760.0\n",
      "5770.0\n",
      "5780.0\n",
      "5790.0\n",
      "5800.0\n",
      "5810.0\n",
      "5820.0\n",
      "5830.0\n",
      "5840.0\n",
      "5850.0\n",
      "5860.0\n",
      "5870.0\n",
      "5880.0\n",
      "5890.0\n",
      "5900.0\n",
      "5910.0\n",
      "5920.0\n",
      "5930.0\n",
      "5940.0\n",
      "5950.0\n",
      "5960.0\n",
      "5970.0\n",
      "5980.0\n",
      "5990.0\n",
      "6000.0\n",
      "6010.0\n",
      "6020.0\n",
      "6030.0\n",
      "6040.0\n",
      "6050.0\n",
      "6060.0\n",
      "6070.0\n",
      "6080.0\n",
      "6090.0\n",
      "6100.0\n",
      "6110.0\n",
      "6120.0\n",
      "6130.0\n",
      "6140.0\n",
      "6150.0\n",
      "6160.0\n",
      "6170.0\n",
      "6180.0\n",
      "6190.0\n",
      "6200.0\n",
      "6210.0\n",
      "6220.0\n",
      "6230.0\n",
      "6240.0\n",
      "6250.0\n",
      "6260.0\n",
      "6270.0\n",
      "6280.0\n",
      "6290.0\n",
      "6300.0\n",
      "6310.0\n",
      "6320.0\n",
      "6330.0\n",
      "6340.0\n",
      "6350.0\n",
      "6360.0\n",
      "6370.0\n",
      "6380.0\n",
      "6390.0\n",
      "6400.0\n",
      "6410.0\n",
      "6420.0\n",
      "6430.0\n",
      "6440.0\n",
      "6450.0\n",
      "6460.0\n",
      "6470.0\n",
      "6480.0\n",
      "6490.0\n",
      "6500.0\n",
      "6510.0\n",
      "6520.0\n",
      "6530.0\n",
      "6540.0\n",
      "6550.0\n",
      "6560.0\n",
      "6570.0\n",
      "6580.0\n",
      "6590.0\n",
      "6600.0\n",
      "6610.0\n",
      "6620.0\n",
      "6630.0\n",
      "6640.0\n",
      "6650.0\n",
      "6660.0\n",
      "6670.0\n",
      "6680.0\n",
      "6690.0\n",
      "6700.0\n",
      "6710.0\n",
      "6720.0\n",
      "6730.0\n",
      "6740.0\n",
      "6750.0\n",
      "6760.0\n",
      "6770.0\n",
      "6780.0\n",
      "6790.0\n",
      "6800.0\n",
      "6810.0\n",
      "6820.0\n",
      "6830.0\n",
      "6840.0\n",
      "6850.0\n",
      "6860.0\n",
      "6870.0\n",
      "6880.0\n",
      "6890.0\n",
      "6900.0\n",
      "6910.0\n",
      "6920.0\n",
      "6930.0\n",
      "6940.0\n",
      "6950.0\n",
      "6960.0\n",
      "6970.0\n",
      "6980.0\n",
      "6990.0\n",
      "7000.0\n",
      "7010.0\n",
      "7020.0\n",
      "7030.0\n",
      "7040.0\n",
      "7050.0\n",
      "7060.0\n",
      "7070.0\n",
      "7080.0\n",
      "7090.0\n",
      "7100.0\n",
      "7110.0\n",
      "7120.0\n",
      "7130.0\n",
      "7140.0\n",
      "7150.0\n",
      "7160.0\n",
      "7170.0\n",
      "7180.0\n",
      "7190.0\n",
      "7200.0\n",
      "7210.0\n",
      "7220.0\n",
      "7230.0\n",
      "7240.0\n",
      "7250.0\n",
      "7260.0\n",
      "7270.0\n",
      "7280.0\n",
      "7290.0\n",
      "7300.0\n",
      "7310.0\n",
      "7320.0\n",
      "7330.0\n",
      "7340.0\n",
      "7350.0\n",
      "7360.0\n",
      "7370.0\n",
      "7380.0\n",
      "7390.0\n",
      "7400.0\n",
      "7410.0\n",
      "7420.0\n",
      "7430.0\n",
      "7440.0\n",
      "7450.0\n",
      "7460.0\n",
      "7470.0\n",
      "7480.0\n",
      "7490.0\n",
      "7500.0\n",
      "7510.0\n",
      "7520.0\n",
      "7530.0\n",
      "7540.0\n",
      "7550.0\n",
      "7560.0\n",
      "7570.0\n",
      "7580.0\n",
      "7590.0\n",
      "7600.0\n",
      "7610.0\n",
      "7620.0\n",
      "7630.0\n",
      "7640.0\n",
      "7650.0\n",
      "7660.0\n",
      "7670.0\n",
      "7680.0\n",
      "7690.0\n",
      "7700.0\n",
      "7710.0\n",
      "7720.0\n",
      "7730.0\n",
      "7740.0\n",
      "7750.0\n",
      "7760.0\n",
      "7770.0\n",
      "7780.0\n",
      "7790.0\n",
      "7800.0\n",
      "7810.0\n",
      "7820.0\n",
      "7830.0\n",
      "7840.0\n",
      "7850.0\n",
      "7860.0\n",
      "7870.0\n",
      "7880.0\n",
      "7890.0\n",
      "7900.0\n",
      "7910.0\n",
      "7920.0\n",
      "7930.0\n",
      "7940.0\n",
      "7950.0\n",
      "7960.0\n",
      "7970.0\n",
      "7980.0\n",
      "7990.0\n",
      "8000.0\n",
      "8010.0\n",
      "8020.0\n",
      "8030.0\n",
      "8040.0\n",
      "8050.0\n",
      "8060.0\n",
      "8070.0\n",
      "8080.0\n",
      "8090.0\n",
      "8100.0\n",
      "8110.0\n",
      "8120.0\n",
      "8130.0\n",
      "8140.0\n",
      "8150.0\n",
      "8160.0\n",
      "8170.0\n",
      "8180.0\n",
      "8190.0\n",
      "8200.0\n",
      "8210.0\n",
      "8220.0\n",
      "8230.0\n",
      "8240.0\n",
      "8250.0\n",
      "8260.0\n",
      "8270.0\n",
      "8280.0\n",
      "8290.0\n",
      "8300.0\n",
      "8310.0\n",
      "8320.0\n",
      "8330.0\n",
      "8340.0\n",
      "8350.0\n",
      "8360.0\n",
      "8370.0\n",
      "8380.0\n",
      "8390.0\n",
      "8400.0\n",
      "8410.0\n",
      "8420.0\n",
      "8430.0\n",
      "8440.0\n",
      "8450.0\n",
      "8460.0\n",
      "8470.0\n",
      "8480.0\n",
      "8490.0\n",
      "8500.0\n",
      "8510.0\n",
      "8520.0\n",
      "8530.0\n",
      "8540.0\n",
      "8550.0\n",
      "8560.0\n",
      "8570.0\n",
      "8580.0\n",
      "8590.0\n",
      "8600.0\n",
      "8610.0\n",
      "8620.0\n",
      "8630.0\n",
      "8640.0\n",
      "8650.0\n",
      "8660.0\n",
      "8670.0\n",
      "8680.0\n",
      "8690.0\n",
      "8700.0\n",
      "8710.0\n",
      "8720.0\n",
      "8730.0\n",
      "8740.0\n",
      "8750.0\n",
      "8760.0\n",
      "8770.0\n",
      "8780.0\n",
      "8790.0\n",
      "8800.0\n",
      "8810.0\n",
      "8820.0\n",
      "8830.0\n",
      "8840.0\n",
      "8850.0\n",
      "8860.0\n",
      "8870.0\n",
      "8880.0\n",
      "8890.0\n",
      "8900.0\n",
      "8910.0\n",
      "8920.0\n",
      "8930.0\n",
      "8940.0\n",
      "8950.0\n",
      "8960.0\n",
      "8970.0\n",
      "8980.0\n",
      "8990.0\n",
      "9000.0\n",
      "9010.0\n",
      "9020.0\n",
      "9030.0\n",
      "9040.0\n",
      "9050.0\n",
      "9060.0\n",
      "9070.0\n",
      "9080.0\n",
      "9090.0\n",
      "9100.0\n",
      "9110.0\n",
      "9120.0\n",
      "9130.0\n",
      "9140.0\n",
      "9150.0\n",
      "9160.0\n",
      "9170.0\n",
      "9180.0\n",
      "9190.0\n",
      "9200.0\n",
      "9210.0\n",
      "9220.0\n",
      "9230.0\n",
      "9240.0\n",
      "9250.0\n",
      "9260.0\n",
      "9270.0\n",
      "9280.0\n",
      "9290.0\n",
      "9300.0\n",
      "9310.0\n",
      "9320.0\n",
      "9330.0\n",
      "9340.0\n",
      "9350.0\n",
      "9360.0\n",
      "9370.0\n",
      "9380.0\n",
      "9390.0\n",
      "9400.0\n",
      "9410.0\n",
      "9420.0\n",
      "9430.0\n",
      "9440.0\n",
      "9450.0\n",
      "9460.0\n",
      "9470.0\n",
      "9480.0\n",
      "9490.0\n",
      "9500.0\n",
      "9510.0\n",
      "9520.0\n",
      "9530.0\n",
      "9540.0\n",
      "9550.0\n",
      "9560.0\n",
      "9570.0\n",
      "9580.0\n",
      "9590.0\n",
      "9600.0\n",
      "9610.0\n",
      "9620.0\n",
      "9630.0\n",
      "9640.0\n",
      "9650.0\n",
      "9660.0\n",
      "9670.0\n",
      "9680.0\n",
      "9690.0\n",
      "9700.0\n",
      "9710.0\n",
      "9720.0\n",
      "9730.0\n",
      "9740.0\n",
      "9750.0\n",
      "9760.0\n",
      "9770.0\n",
      "9780.0\n",
      "9790.0\n",
      "9800.0\n",
      "9810.0\n",
      "9820.0\n",
      "9830.0\n",
      "9840.0\n",
      "9850.0\n",
      "9860.0\n",
      "9870.0\n",
      "9880.0\n",
      "9890.0\n",
      "9900.0\n",
      "9910.0\n",
      "9920.0\n",
      "9930.0\n",
      "9940.0\n",
      "9950.0\n",
      "9960.0\n",
      "9970.0\n",
      "9980.0\n",
      "9990.0\n",
      "10000.0\n"
     ]
    }
   ],
   "source": [
    "max_uncertainty = 1000\n",
    "value_bounds = (500, 9500)\n",
    "n_mids = 1001\n",
    "n_uncs = 101\n",
    "mids = np.linspace(value_bounds[0] - max_uncertainty/2, value_bounds[1] + max_uncertainty/2, n_mids)\n",
    "uncs = np.linspace(0, max_uncertainty, n_uncs)\n",
    "bids = np.zeros((4, n_mids, n_uncs))\n",
    "nash_bidders = ryan.create_nash_bidders(signal_counts, max_uncertainty, mids)\n",
    "n_signals = nash_bidders.signals()\n",
    "\n",
    "n_samples = 1000\n",
    "sample_rel_mids, sample_uncs = verify_bid_funcs.sample_rel_sufficient_stats(n_signals, n_samples, max_uncertainty)\n",
    "bids, bid_profs = zip(*map(lambda m: expected_profit_m(m, mids, uncs, sample_rel_mids, sample_uncs, nash_bidders, n_samples, max_uncertainty, value_bounds), range(n_mids)))\n"
   ]
  },
  {
   "cell_type": "code",
   "execution_count": 2,
   "metadata": {},
   "outputs": [],
   "source": [
    "import csv\n",
    "\n",
    "def read_br_file(filename):\n",
    "    bidders = []\n",
    "    with open(filename, 'r') as csvfile:\n",
    "        reader = csv.reader(csvfile)\n",
    "        for row in reader:\n",
    "            signals = int(row[0])\n",
    "            midpoints = np.array(next(reader),dtype=np.float64)\n",
    "            if signals == 1:\n",
    "                uncertainty = next(reader)\n",
    "                bids = np.array(next(reader), dtype=np.float64)\n",
    "                bidders.append(bid_functions.SingleSignalBidder(signals, midpoints, uncertainty, bids))\n",
    "            else:\n",
    "                uncertainties = np.array(next(reader), dtype=np.float64)\n",
    "                bids = []\n",
    "                # for _ in uncertainties:\n",
    "                #     bids.append(np.array(next(reader), dtype=np.float64))\n",
    "                # bids = np.array(bids)\n",
    "                for _ in midpoints:\n",
    "                    bids.append(np.array(next(reader), dtype=np.float64))\n",
    "                bids = np.array(bids)\n",
    "                bids = np.transpose(bids)\n",
    "                bidders.append(bid_functions.Bidder(signals, midpoints, uncertainties, bids))\n",
    "    return bid_functions.BidderSet(bidders)"
   ]
  },
  {
   "cell_type": "code",
   "execution_count": 3,
   "metadata": {},
   "outputs": [],
   "source": [
    "signal_count = (3,3,4,4)\n",
    "max_uncertainty = 1000\n",
    "value_bounds = (500, 9500)\n",
    "\n",
    "uncs = np.array([100, 500, 900])\n",
    "\n",
    "n_mids = 1001\n",
    "mids = np.linspace(value_bounds[0] - max_uncertainty/2, value_bounds[1] + max_uncertainty/2, n_mids)\n",
    "\n",
    "file_name = f'F:/Dropbox (Chapman)/Costly Signals/sealed_bid_model/br_bids_{\"\".join([str(i) for i in signal_count])}.csv'\n",
    "bidders_set = read_br_file(file_name)\n",
    "\n"
   ]
  },
  {
   "cell_type": "code",
   "execution_count": 6,
   "metadata": {},
   "outputs": [
    {
     "data": {
      "image/png": "[encoded data removed]",
      "text/plain": [
       "<Figure size 1152x648 with 6 Axes>"
      ]
     },
     "metadata": {
      "needs_background": "light"
     },
     "output_type": "display_data"
    }
   ],
   "source": [
    "bids, bid_profs = ryan.expected_profits(mids, uncs, bidders_set, max_uncertainty, value_bounds, 10000)\n",
    "ryan.plot_exp_profit(mids, uncs, bids, bid_profs, signal_count)"
   ]
  },
  {
   "cell_type": "code",
   "execution_count": 65,
   "metadata": {},
   "outputs": [],
   "source": [
    "x=verify_bid_funcs.convert_grid_bids(bidders_set, [[1000,2000,5000,7000,8000]]*4, [np.repeat([[100],[500],[800]],5,axis=1)]*4)"
   ]
  },
  {
   "cell_type": "code",
   "execution_count": 66,
   "metadata": {},
   "outputs": [
    {
     "data": {
      "text/plain": [
       "array([[[ 914., 1913., 4913., 6910., 7912.],\n",
       "        [ 753., 1748., 4748., 6748., 7748.],\n",
       "        [ 631., 1601., 4603., 6600., 7606.]],\n",
       "\n",
       "       [[ 913., 1913., 4913., 6914., 7913.],\n",
       "        [ 755., 1753., 4752., 6755., 7753.],\n",
       "        [ 626., 1599., 4598., 6600., 7600.]],\n",
       "\n",
       "       [[ 910., 1909., 4909., 6908., 7909.],\n",
       "        [ 752., 1752., 4750., 6750., 7747.],\n",
       "        [ 627., 1600., 4602., 6601., 7603.]],\n",
       "\n",
       "       [[ 910., 1909., 4908., 6908., 7909.],\n",
       "        [ 754., 1748., 4748., 6748., 7748.],\n",
       "        [ 622., 1594., 4604., 6606., 7594.]]])"
      ]
     },
     "execution_count": 66,
     "metadata": {},
     "output_type": "execute_result"
    }
   ],
   "source": [
    "x"
   ]
  },
  {
   "cell_type": "code",
   "execution_count": 67,
   "metadata": {},
   "outputs": [],
   "source": [
    "y=np.mean(x[np.array([[1,2,3],[0,2,3],[0,1,3],[0,1,2]])],axis=1)"
   ]
  },
  {
   "cell_type": "code",
   "execution_count": 79,
   "metadata": {},
   "outputs": [
    {
     "data": {
      "text/plain": [
       "array([52.14814815, 61.92592593, 20.74074074, 85.62962963])"
      ]
     },
     "execution_count": 79,
     "metadata": {},
     "output_type": "execute_result"
    }
   ],
   "source": [
    "np.sum(np.sum((x-y)**2/3,axis=2),axis=1)"
   ]
  },
  {
   "cell_type": "code",
   "execution_count": 94,
   "metadata": {},
   "outputs": [
    {
     "data": {
      "text/plain": [
       "array([52.14814815, 61.92592593, 20.74074074, 85.62962963])"
      ]
     },
     "execution_count": 94,
     "metadata": {},
     "output_type": "execute_result"
    }
   ],
   "source": [
    "((x-y)**2/3).reshape((4,15)).sum(axis=1)"
   ]
  },
  {
   "cell_type": "code",
   "execution_count": 4,
   "metadata": {},
   "outputs": [],
   "source": [
    "file_name = f'F:/Dropbox (Chapman)/Costly Signals/sealed_bid_model/bid_funcs_{\"\".join([str(i) for i in (3,3,4,4)])}.csv'\n",
    "bidders_set = bid_functions.read_file(file_name)\n"
   ]
  },
  {
   "cell_type": "code",
   "execution_count": 16,
   "metadata": {},
   "outputs": [
    {
     "name": "stdout",
     "output_type": "stream",
     "text": [
      "500.0\n"
     ]
    }
   ],
   "source": [
    "sample_rel_mids, sample_uncs = verify_bid_funcs.sample_rel_sufficient_stats(bidders_set.signals(), 100, 1000)\n",
    "bids, bid_profs, opt_bids, opt_profs = verify_bid_funcs.calc_opts_m(3, bidders_set[0].midpoints, bidders_set[0].uncertainties, sample_rel_mids, sample_uncs, bidders_set, 100)"
   ]
  },
  {
   "cell_type": "code",
   "execution_count": 17,
   "metadata": {},
   "outputs": [
    {
     "name": "stdout",
     "output_type": "stream",
     "text": [
      "500.0\n"
     ]
    }
   ],
   "source": [
    "bids_o, bid_profs_o, opt_bids_o, opt_profs_o = verify_bid_funcs.calc_opts_iterative_m(3, sample_rel_mids, sample_uncs, bidders_set, 100)"
   ]
  },
  {
   "cell_type": "code",
   "execution_count": 18,
   "metadata": {},
   "outputs": [
    {
     "data": {
      "text/plain": [
       "array([[0., 0., 0., 0., 0., 0., 0., 0., 0., 0., 0., 0., 0., 0., 0., 0.,\n",
       "        0., 0., 0., 0., 0., 0., 0., 0., 0., 0., 0., 0., 0., 0., 0., 0.,\n",
       "        0., 0., 0., 0., 0., 0., 0., 0., 0., 0., 0., 0., 0., 0., 0., 0.,\n",
       "        0., 0., 0., 0., 0., 0., 0., 0., 0., 0., 0., 0., 0.],\n",
       "       [0., 0., 0., 0., 0., 0., 0., 0., 0., 0., 0., 0., 0., 0., 0., 0.,\n",
       "        0., 0., 0., 0., 0., 0., 0., 0., 0., 0., 0., 0., 0., 0., 0., 0.,\n",
       "        0., 0., 0., 0., 0., 0., 0., 0., 0., 0., 0., 0., 0., 0., 0., 0.,\n",
       "        0., 0., 0., 0., 0., 0., 0., 0., 0., 0., 0., 0., 0.],\n",
       "       [0., 0., 0., 0., 0., 0., 0., 0., 0., 0., 0., 0., 0., 0., 0., 0.,\n",
       "        0., 0., 0., 0., 0., 0., 0., 0., 0., 0., 0., 0., 0., 0., 0., 0.,\n",
       "        0., 0., 0., 0., 0., 0., 0., 0., 0., 0., 0., 0., 0., 0., 0., 0.,\n",
       "        0., 0., 0., 0., 0., 0., 0., 0., 0., 0., 0., 0., 0.],\n",
       "       [0., 0., 0., 0., 0., 0., 0., 0., 0., 0., 0., 0., 0., 0., 0., 0.,\n",
       "        0., 0., 0., 0., 0., 0., 0., 0., 0., 0., 0., 0., 0., 0., 0., 0.,\n",
       "        0., 0., 0., 0., 0., 0., 0., 0., 0., 0., 0., 0., 0., 0., 0., 0.,\n",
       "        0., 0., 0., 0., 0., 0., 0., 0., 0., 0., 0., 0., 0.]])"
      ]
     },
     "execution_count": 18,
     "metadata": {},
     "output_type": "execute_result"
    }
   ],
   "source": [
    "bids-bids_o"
   ]
  },
  {
   "cell_type": "code",
   "execution_count": 26,
   "metadata": {},
   "outputs": [],
   "source": [
    "bids, bid_profs, opt_bids, opt_profs = ryan.best_responses(bidders_set[0].midpoints, bidders_set[0].uncertainties, bidders_set, 1000, (500,9500))\n",
    "#bids_o, bid_profs_o, opt_bids_o, opt_profs_o = ryan.best_responses_iterative(bidders_set[0].midpoints, bidders_set[0].uncertainties, bidders_set, 1000, (500,9500))"
   ]
  },
  {
   "cell_type": "code",
   "execution_count": 33,
   "metadata": {},
   "outputs": [
    {
     "data": {
      "text/plain": [
       "array([[0., 0., 0., 0., 0., 0., 0., 0., 0., 0., 0., 0., 0., 0., 0., 0.,\n",
       "        0., 0., 0., 0., 0., 0., 0., 0., 0., 0., 0., 0., 0., 0., 0., 0.,\n",
       "        0., 0., 0., 0., 0., 0., 0., 0., 0., 0., 0., 0., 0., 0., 0., 0.,\n",
       "        0., 0., 0., 0., 0., 0., 0., 0., 0., 0., 0., 0., 0.],\n",
       "       [0., 0., 0., 0., 0., 0., 0., 0., 0., 0., 0., 0., 0., 0., 0., 0.,\n",
       "        0., 0., 0., 0., 0., 0., 0., 0., 0., 0., 0., 0., 0., 0., 0., 0.,\n",
       "        0., 0., 0., 0., 0., 0., 0., 0., 0., 0., 0., 0., 0., 0., 0., 0.,\n",
       "        0., 0., 0., 0., 0., 0., 0., 0., 0., 0., 0., 0., 0.],\n",
       "       [0., 0., 0., 0., 0., 0., 0., 0., 0., 0., 0., 0., 0., 0., 0., 0.,\n",
       "        0., 0., 0., 0., 0., 0., 0., 0., 0., 0., 0., 0., 0., 0., 0., 0.,\n",
       "        0., 0., 0., 0., 0., 0., 0., 0., 0., 0., 0., 0., 0., 0., 0., 0.,\n",
       "        0., 0., 0., 0., 0., 0., 0., 0., 0., 0., 0., 0., 0.],\n",
       "       [0., 0., 0., 0., 0., 0., 0., 0., 0., 0., 0., 0., 0., 0., 0., 0.,\n",
       "        0., 0., 0., 0., 0., 0., 0., 0., 0., 0., 0., 0., 0., 0., 0., 0.,\n",
       "        0., 0., 0., 0., 0., 0., 0., 0., 0., 0., 0., 0., 0., 0., 0., 0.,\n",
       "        0., 0., 0., 0., 0., 0., 0., 0., 0., 0., 0., 0., 0.]])"
      ]
     },
     "execution_count": 33,
     "metadata": {},
     "output_type": "execute_result"
    }
   ],
   "source": [
    "bids[31]-bids_o[31]"
   ]
  },
  {
   "cell_type": "code",
   "execution_count": 34,
   "metadata": {},
   "outputs": [
    {
     "data": {
      "text/plain": [
       "array([   0.  ,   16.67,   33.33,   50.  ,   66.67,   83.33,  100.  ,\n",
       "        116.67,  133.33,  150.  ,  166.67,  183.33,  200.  ,  216.67,\n",
       "        233.33,  250.  ,  266.67,  283.33,  300.  ,  316.67,  333.33,\n",
       "        350.  ,  366.67,  383.33,  400.  ,  416.67,  433.33,  450.  ,\n",
       "        466.67,  483.33,  500.  ,  516.67,  533.33,  550.  ,  566.67,\n",
       "        583.33,  600.  ,  616.67,  633.33,  650.  ,  666.67,  683.33,\n",
       "        700.  ,  716.67,  733.33,  750.  ,  766.67,  783.33,  800.  ,\n",
       "        816.67,  833.33,  850.  ,  866.67,  883.33,  900.  ,  916.67,\n",
       "        933.33,  950.  ,  966.67,  983.33, 1000.  ])"
      ]
     },
     "execution_count": 34,
     "metadata": {},
     "output_type": "execute_result"
    }
   ],
   "source": [
    "bidders_set[0].uncertainties"
   ]
  },
  {
   "cell_type": "code",
   "execution_count": 3,
   "metadata": {},
   "outputs": [
    {
     "ename": "NameError",
     "evalue": "name 'bidders_set' is not defined",
     "output_type": "error",
     "traceback": [
      "\u001b[1;31m---------------------------------------------------------------------------\u001b[0m",
      "\u001b[1;31mNameError\u001b[0m                                 Traceback (most recent call last)",
      "\u001b[1;32m<ipython-input-3-4fb68b5cda99>\u001b[0m in \u001b[0;36m<module>\u001b[1;34m\u001b[0m\n\u001b[0;32m      8\u001b[0m     \u001b[1;32mreturn\u001b[0m \u001b[0msample_bids\u001b[0m\u001b[1;33m\u001b[0m\u001b[1;33m\u001b[0m\u001b[0m\n\u001b[0;32m      9\u001b[0m \u001b[1;33m\u001b[0m\u001b[0m\n\u001b[1;32m---> 10\u001b[1;33m \u001b[0mall_sample_bids\u001b[0m \u001b[1;33m=\u001b[0m \u001b[1;33m[\u001b[0m\u001b[0msample_bids\u001b[0m\u001b[1;33m(\u001b[0m\u001b[0msample_rel_mids\u001b[0m\u001b[1;33m,\u001b[0m \u001b[0msample_uncs\u001b[0m\u001b[1;33m)\u001b[0m \u001b[1;32mfor\u001b[0m \u001b[0mm\u001b[0m \u001b[1;32min\u001b[0m \u001b[0mnp\u001b[0m\u001b[1;33m.\u001b[0m\u001b[0mlinspace\u001b[0m\u001b[1;33m(\u001b[0m\u001b[1;36m0\u001b[0m\u001b[1;33m,\u001b[0m\u001b[1;36m10000\u001b[0m\u001b[1;33m,\u001b[0m\u001b[1;36m61\u001b[0m\u001b[1;33m)\u001b[0m\u001b[1;33m]\u001b[0m\u001b[1;33m\u001b[0m\u001b[1;33m\u001b[0m\u001b[0m\n\u001b[0m",
      "\u001b[1;32m<ipython-input-3-4fb68b5cda99>\u001b[0m in \u001b[0;36m<listcomp>\u001b[1;34m(.0)\u001b[0m\n\u001b[0;32m      8\u001b[0m     \u001b[1;32mreturn\u001b[0m \u001b[0msample_bids\u001b[0m\u001b[1;33m\u001b[0m\u001b[1;33m\u001b[0m\u001b[0m\n\u001b[0;32m      9\u001b[0m \u001b[1;33m\u001b[0m\u001b[0m\n\u001b[1;32m---> 10\u001b[1;33m \u001b[0mall_sample_bids\u001b[0m \u001b[1;33m=\u001b[0m \u001b[1;33m[\u001b[0m\u001b[0msample_bids\u001b[0m\u001b[1;33m(\u001b[0m\u001b[0msample_rel_mids\u001b[0m\u001b[1;33m,\u001b[0m \u001b[0msample_uncs\u001b[0m\u001b[1;33m)\u001b[0m \u001b[1;32mfor\u001b[0m \u001b[0mm\u001b[0m \u001b[1;32min\u001b[0m \u001b[0mnp\u001b[0m\u001b[1;33m.\u001b[0m\u001b[0mlinspace\u001b[0m\u001b[1;33m(\u001b[0m\u001b[1;36m0\u001b[0m\u001b[1;33m,\u001b[0m\u001b[1;36m10000\u001b[0m\u001b[1;33m,\u001b[0m\u001b[1;36m61\u001b[0m\u001b[1;33m)\u001b[0m\u001b[1;33m]\u001b[0m\u001b[1;33m\u001b[0m\u001b[1;33m\u001b[0m\u001b[0m\n\u001b[0m",
      "\u001b[1;32m<ipython-input-3-4fb68b5cda99>\u001b[0m in \u001b[0;36msample_bids\u001b[1;34m(sample_rel_mids, sample_uncs)\u001b[0m\n\u001b[0;32m      5\u001b[0m     \u001b[0msample_trues\u001b[0m \u001b[1;33m=\u001b[0m \u001b[1;36m500\u001b[0m \u001b[1;33m+\u001b[0m \u001b[1;33m(\u001b[0m\u001b[1;36m9500\u001b[0m\u001b[1;33m-\u001b[0m\u001b[1;36m500\u001b[0m\u001b[1;33m)\u001b[0m\u001b[1;33m*\u001b[0m\u001b[0mnp\u001b[0m\u001b[1;33m.\u001b[0m\u001b[0mlinspace\u001b[0m\u001b[1;33m(\u001b[0m\u001b[1;36m0\u001b[0m\u001b[1;33m,\u001b[0m\u001b[1;36m1\u001b[0m\u001b[1;33m,\u001b[0m\u001b[0msample_rel_mids\u001b[0m\u001b[1;33m.\u001b[0m\u001b[0mshape\u001b[0m\u001b[1;33m[\u001b[0m\u001b[1;36m1\u001b[0m\u001b[1;33m]\u001b[0m\u001b[1;33m)\u001b[0m\u001b[1;33m\u001b[0m\u001b[1;33m\u001b[0m\u001b[0m\n\u001b[0;32m      6\u001b[0m     \u001b[0msample_mids\u001b[0m \u001b[1;33m=\u001b[0m \u001b[0msample_rel_mids\u001b[0m \u001b[1;33m+\u001b[0m \u001b[0msample_trues\u001b[0m\u001b[1;33m\u001b[0m\u001b[1;33m\u001b[0m\u001b[0m\n\u001b[1;32m----> 7\u001b[1;33m     \u001b[0msample_bids\u001b[0m \u001b[1;33m=\u001b[0m \u001b[0mverify_bid_funcs\u001b[0m\u001b[1;33m.\u001b[0m\u001b[0mconvert_grid_bids\u001b[0m\u001b[1;33m(\u001b[0m\u001b[0mbidders_set\u001b[0m\u001b[1;33m,\u001b[0m \u001b[0msample_mids\u001b[0m\u001b[1;33m,\u001b[0m \u001b[0msample_uncs\u001b[0m\u001b[1;33m)\u001b[0m\u001b[1;33m\u001b[0m\u001b[1;33m\u001b[0m\u001b[0m\n\u001b[0m\u001b[0;32m      8\u001b[0m     \u001b[1;32mreturn\u001b[0m \u001b[0msample_bids\u001b[0m\u001b[1;33m\u001b[0m\u001b[1;33m\u001b[0m\u001b[0m\n\u001b[0;32m      9\u001b[0m \u001b[1;33m\u001b[0m\u001b[0m\n",
      "\u001b[1;31mNameError\u001b[0m: name 'bidders_set' is not defined"
     ]
    }
   ],
   "source": [
    "\n",
    "n_samples = 1000000\n",
    "sample_rel_mids, sample_uncs = verify_bid_funcs.sample_rel_sufficient_stats((3,3,4,4), n_samples, 1000)\n",
    "\n",
    "def sample_bids(sample_rel_mids, sample_uncs):\n",
    "    sample_trues = 500 + (9500-500)*np.linspace(0,1,sample_rel_mids.shape[1])\n",
    "    sample_mids = sample_rel_mids + sample_trues\n",
    "    sample_bids = verify_bid_funcs.convert_grid_bids(bidders_set, sample_mids, sample_uncs)\n",
    "    return sample_bids\n",
    "\n",
    "all_sample_bids = [sample_bids(sample_rel_mids, sample_uncs) for m in np.linspace(0,10000,61)]"
   ]
  },
  {
   "cell_type": "code",
   "execution_count": 21,
   "metadata": {},
   "outputs": [
    {
     "data": {
      "text/plain": [
       "1952000128"
      ]
     },
     "execution_count": 21,
     "metadata": {},
     "output_type": "execute_result"
    }
   ],
   "source": [
    "import sys\n",
    "sys.getsizeof(np.array(all_sample_bids))"
   ]
  },
  {
   "cell_type": "code",
   "execution_count": 24,
   "metadata": {},
   "outputs": [
    {
     "data": {
      "text/plain": [
       "[[1, 2, 3], [0, 2, 3], [0, 1, 3], [0, 1, 2]]"
      ]
     },
     "execution_count": 24,
     "metadata": {},
     "output_type": "execute_result"
    }
   ],
   "source": [
    "[[i for i in range(4) if i != j] for j in range(4)]"
   ]
  },
  {
   "cell_type": "code",
   "execution_count": 26,
   "metadata": {},
   "outputs": [],
   "source": [
    "sample_bids = verify_bid_funcs.convert_grid_bids(bidders_set, [[2000,5000,8000],[2000,5000,8000],[2000,5000,8000],[2000,5000,8000]], [[100,500,900],[100,500,900],[100,500,900],[100,500,900]])"
   ]
  },
  {
   "cell_type": "code",
   "execution_count": 32,
   "metadata": {},
   "outputs": [
    {
     "data": {
      "text/plain": [
       "array([1863.05, 4743.34, 7548.5 ])"
      ]
     },
     "execution_count": 32,
     "metadata": {},
     "output_type": "execute_result"
    }
   ],
   "source": [
    "np.max(sample_bids[np.array([0,2,3])],axis=0)"
   ]
  },
  {
   "cell_type": "code",
   "execution_count": 33,
   "metadata": {},
   "outputs": [
    {
     "data": {
      "text/plain": [
       "array([0., 0., 0., 0.])"
      ]
     },
     "execution_count": 33,
     "metadata": {},
     "output_type": "execute_result"
    }
   ],
   "source": [
    "np.zeros(4)"
   ]
  },
  {
   "cell_type": "code",
   "execution_count": 5,
   "metadata": {},
   "outputs": [],
   "source": [
    "mid = 5000\n",
    "unc = 800\n",
    "value_bounds = (500, 9500)\n",
    "\n",
    "n_samples = 100000\n",
    "sample_rel_mids, sample_uncs = verify_bid_funcs.sample_rel_sufficient_stats((3,3,4,4), n_samples, 1000)\n",
    "\n",
    "lower = max(mid - unc/2, value_bounds[0])\n",
    "upper = min(mid + unc/2, value_bounds[1])\n",
    "# Since true values are uniformly distributed, just make an evenly spread out array of them.\n",
    "sample_trues = lower + (upper-lower)*np.linspace(0,1,n_samples)\n",
    "sample_mids = sample_rel_mids + sample_trues\n",
    "sample_bids = verify_bid_funcs.convert_grid_bids(bidders_set, sample_mids, sample_uncs)\n",
    "potential_bids = np.arange(max(value_bounds[0],mid-800), min(mid+600, value_bounds[1]))\n",
    "\n",
    "selection = np.array([i for i in range(4) if i != 1])\n",
    "other_highest = np.max(sample_bids[selection], axis=0)"
   ]
  },
  {
   "cell_type": "code",
   "execution_count": 28,
   "metadata": {},
   "outputs": [],
   "source": [
    "avgs = [np.mean((other_highest < bid)*(sample_trues-bid)) for bid in potential_bids]"
   ]
  },
  {
   "cell_type": "code",
   "execution_count": 18,
   "metadata": {},
   "outputs": [
    {
     "name": "stdout",
     "output_type": "stream",
     "text": [
      "2.58 s ± 40 ms per loop (mean ± std. dev. of 7 runs, 1 loop each)\n"
     ]
    }
   ],
   "source": [
    "%%timeit\n",
    "pot = potential_bids.reshape(len(potential_bids),1)\n",
    "(other_highest < pot) * (sample_trues - pot)"
   ]
  },
  {
   "cell_type": "code",
   "execution_count": 20,
   "metadata": {},
   "outputs": [
    {
     "name": "stdout",
     "output_type": "stream",
     "text": [
      "255 ms ± 25 ms per loop (mean ± std. dev. of 7 runs, 1 loop each)\n"
     ]
    }
   ],
   "source": [
    "%timeit sample_trues < potential_bids.reshape(len(potential_bids),1)"
   ]
  },
  {
   "cell_type": "code",
   "execution_count": 9,
   "metadata": {},
   "outputs": [
    {
     "data": {
      "text/plain": [
       "array([52, 84])"
      ]
     },
     "execution_count": 9,
     "metadata": {},
     "output_type": "execute_result"
    }
   ],
   "source": [
    "np.array([[[1,2,3,4],[5,6,7,8]],[[9,10,11,12],[13,14,15,16]]]).sum(axis=0).sum(axis=1)"
   ]
  },
  {
   "cell_type": "code",
   "execution_count": 25,
   "metadata": {},
   "outputs": [],
   "source": [
    "import numba as nb\n",
    "\n",
    "@nb.njit(fastmath=True, parallel=True)\n",
    "def avg_prof_loop(other_highest, sample_trues, potential_bids):\n",
    "    other_highest = np.ascontiguousarray(other_highest)\n",
    "    sample_trues = np.ascontiguousarray(sample_trues)\n",
    "\n",
    "    n = potential_bids.shape[0]\n",
    "    s = other_highest.shape[0]\n",
    "    avg = np.empty(n, dtype=other_highest.dtype)\n",
    "    for i in nb.prange(n):\n",
    "        t = 0\n",
    "        for j in nb.prange(s):\n",
    "            t += (other_highest[j] < potential_bids[i]) * (sample_trues[j] - potential_bids[i])\n",
    "        avg[i] = t / s;\n",
    "    return avg\n",
    "\n",
    "@nb.njit(fastmath=True)\n",
    "def avg_prof_loop2(other_highest, sample_trues, potential_bids):\n",
    "    other_highest = np.ascontiguousarray(other_highest)\n",
    "    sample_trues = np.ascontiguousarray(sample_trues)\n",
    "\n",
    "    n = potential_bids.shape[0]\n",
    "    s = other_highest.shape[0]\n",
    "    avg = np.empty(n, dtype=other_highest.dtype)\n",
    "    maxp = -1000.0\n",
    "    optb = 0\n",
    "    for i in range(n):\n",
    "        t = 0\n",
    "        for j in range(s):\n",
    "            t += (other_highest[j] < potential_bids[i]) * (sample_trues[j] - potential_bids[i])\n",
    "        avg = t / s;\n",
    "        if avg > maxp:\n",
    "            optb = potential_bids[i]\n",
    "            maxp = avg\n",
    "    return optb\n",
    "\n",
    "@nb.njit(fastmath=True)\n",
    "def avg_prof_loop3(other_highest, sample_trues, potential_bids):\n",
    "    other_highest = np.ascontiguousarray(other_highest)\n",
    "    sample_trues = np.ascontiguousarray(sample_trues)\n",
    "\n",
    "    n = potential_bids.shape[0]\n",
    "    s = other_highest.shape[0]\n",
    "    avg = np.empty(n, dtype=other_highest.dtype)\n",
    "    for i in range(n):\n",
    "        t = 0\n",
    "        for j in range(s):\n",
    "            t += (other_highest[j] < potential_bids[i]) * (sample_trues[j] - potential_bids[i])\n",
    "        avg[i] = t / s;\n",
    "    return avg\n",
    "\n",
    "@nb.njit(fastmath=True)\n",
    "def avg_prof_loop4(other_highest, sample_trues, potential_bids):\n",
    "    other_highest = np.ascontiguousarray(other_highest.reshape(other_highest.shape[0],1))\n",
    "    sample_trues = np.ascontiguousarray(sample_trues.reshape(sample_trues.shape[0], 1))\n",
    "    potential_bids = np.ascontiguousarray(potential_bids)\n",
    "\n",
    "    return np.mean(((other_highest < potential_bids) * (sample_trues - potential_bids)))\n"
   ]
  },
  {
   "cell_type": "code",
   "execution_count": 26,
   "metadata": {},
   "outputs": [
    {
     "name": "stdout",
     "output_type": "stream",
     "text": [
      "276 ms ± 4.65 ms per loop (mean ± std. dev. of 7 runs, 1 loop each)\n",
      "6.72 ms ± 1.17 ms per loop (mean ± std. dev. of 7 runs, 1 loop each)\n",
      "41.2 ms ± 2.85 ms per loop (mean ± std. dev. of 7 runs, 1 loop each)\n",
      "40.7 ms ± 540 µs per loop (mean ± std. dev. of 7 runs, 10 loops each)\n",
      "601 ms ± 7.46 ms per loop (mean ± std. dev. of 7 runs, 1 loop each)\n"
     ]
    }
   ],
   "source": [
    "%timeit avgs = [np.mean((other_highest < bid)*(sample_trues-bid)) for bid in potential_bids]\n",
    "%timeit avgs1 = avg_prof_loop(other_highest, sample_trues, potential_bids)\n",
    "%timeit avgs2 = avg_prof_loop2(other_highest, sample_trues, potential_bids)\n",
    "%timeit avgs3 = avg_prof_loop3(other_highest, sample_trues, potential_bids)\n",
    "\n",
    "%timeit avgs4 = avg_prof_loop4(other_highest, sample_trues, potential_bids)"
   ]
  },
  {
   "cell_type": "code",
   "execution_count": 60,
   "metadata": {},
   "outputs": [],
   "source": [
    "avgs2 = avg_prof_loop(other_highest, sample_trues, potential_bids)\n",
    "avgs3 = avg_prof_loop2(other_highest, sample_trues, potential_bids)"
   ]
  },
  {
   "cell_type": "code",
   "execution_count": 51,
   "metadata": {},
   "outputs": [
    {
     "data": {
      "text/plain": [
       "6.394884621840902e-14"
      ]
     },
     "execution_count": 51,
     "metadata": {},
     "output_type": "execute_result"
    }
   ],
   "source": [
    "np.max(np.array(avgs)-np.array(avgs2))"
   ]
  },
  {
   "cell_type": "code",
   "execution_count": 58,
   "metadata": {},
   "outputs": [
    {
     "name": "stdout",
     "output_type": "stream",
     "text": [
      "7.63 ms ± 223 µs per loop (mean ± std. dev. of 7 runs, 100 loops each)\n"
     ]
    }
   ],
   "source": [
    "%timeit potential_bids[np.argmax(avg_prof_loop(other_highest, sample_trues, potential_bids))]"
   ]
  },
  {
   "cell_type": "code",
   "execution_count": 57,
   "metadata": {},
   "outputs": [
    {
     "name": "stdout",
     "output_type": "stream",
     "text": [
      "20.9 ms ± 1.61 ms per loop (mean ± std. dev. of 7 runs, 10 loops each)\n"
     ]
    }
   ],
   "source": [
    "%timeit avg_prof_loop2(other_highest, sample_trues, potential_bids)"
   ]
  },
  {
   "cell_type": "code",
   "execution_count": 23,
   "metadata": {},
   "outputs": [
    {
     "name": "stdout",
     "output_type": "stream",
     "text": [
      "153 ms ± 520 µs per loop (mean ± std. dev. of 7 runs, 10 loops each)\n"
     ]
    }
   ],
   "source": [
    "%timeit potential_bids.reshape((len(potential_bids), 1)) > other_highest"
   ]
  },
  {
   "cell_type": "code",
   "execution_count": 22,
   "metadata": {},
   "outputs": [
    {
     "name": "stdout",
     "output_type": "stream",
     "text": [
      "118 ms ± 487 µs per loop (mean ± std. dev. of 7 runs, 10 loops each)\n"
     ]
    }
   ],
   "source": [
    "%timeit other_highest.reshape((len(other_highest), 1)) < potential_bids"
   ]
  },
  {
   "cell_type": "code",
   "execution_count": 16,
   "metadata": {},
   "outputs": [
    {
     "data": {
      "text/plain": [
       "array([3, 0, 1, 2], dtype=int64)"
      ]
     },
     "execution_count": 16,
     "metadata": {},
     "output_type": "execute_result"
    }
   ],
   "source": [
    "np.array([2,3,4,1]).argsort()"
   ]
  },
  {
   "cell_type": "code",
   "execution_count": 24,
   "metadata": {},
   "outputs": [
    {
     "data": {
      "text/plain": [
       "array([1, 2, 4, 5, 0, 3], dtype=int64)"
      ]
     },
     "execution_count": 24,
     "metadata": {},
     "output_type": "execute_result"
    }
   ],
   "source": [
    "np.argsort(np.array([1000, 1, 2, 1000, 3, 4]))"
   ]
  },
  {
   "cell_type": "code",
   "execution_count": 25,
   "metadata": {},
   "outputs": [
    {
     "data": {
      "text/plain": [
       "'2_3_5_5'"
      ]
     },
     "execution_count": 25,
     "metadata": {},
     "output_type": "execute_result"
    }
   ],
   "source": [
    "x = (2,3,5,5)\n",
    "\"_\".join([str(i) for i in x])"
   ]
  },
  {
   "cell_type": "code",
   "execution_count": 5,
   "metadata": {},
   "outputs": [],
   "source": [
    "from pathos.multiprocessing import ProcessingPool as Pool\n",
    "from celluloid import Camera"
   ]
  },
  {
   "cell_type": "code",
   "execution_count": 53,
   "metadata": {},
   "outputs": [
    {
     "name": "stdout",
     "output_type": "stream",
     "text": [
      "0.0\n",
      "41.666666666666664\n",
      "83.33333333333333\n",
      "125.0\n",
      "166.66666666666666\n",
      "208.33333333333331\n",
      "250.0\n",
      "291.66666666666663\n",
      "333.3333333333333\n",
      "375.0\n",
      "416.66666666666663\n",
      "458.3333333333333\n",
      "500.0\n",
      "541.6666666666666\n",
      "583.3333333333333\n",
      "625.0\n",
      "666.6666666666666\n",
      "708.3333333333333\n",
      "750.0\n",
      "791.6666666666666\n",
      "833.3333333333333\n",
      "875.0\n",
      "916.6666666666666\n",
      "958.3333333333333\n",
      "1000.0\n",
      "1041.6666666666665\n",
      "1083.3333333333333\n",
      "1125.0\n",
      "1166.6666666666665\n",
      "1208.3333333333333\n",
      "1250.0\n",
      "1291.6666666666665\n",
      "1333.3333333333333\n",
      "1375.0\n",
      "1416.6666666666665\n",
      "1458.3333333333333\n",
      "1500.0\n",
      "1541.6666666666665\n",
      "1583.3333333333333\n",
      "1625.0\n",
      "1666.6666666666665\n",
      "1708.3333333333333\n",
      "1750.0\n",
      "1791.6666666666665\n",
      "1833.3333333333333\n",
      "1875.0\n",
      "1916.6666666666665\n",
      "1958.3333333333333\n",
      "2000.0\n",
      "2041.6666666666665\n",
      "2083.333333333333\n",
      "2125.0\n",
      "2166.6666666666665\n",
      "2208.333333333333\n",
      "2250.0\n",
      "2291.6666666666665\n",
      "2333.333333333333\n",
      "2375.0\n",
      "2416.6666666666665\n",
      "2458.333333333333\n",
      "2500.0\n",
      "2541.6666666666665\n",
      "2583.333333333333\n",
      "2625.0\n",
      "2666.6666666666665\n",
      "2708.333333333333\n",
      "2750.0\n",
      "2791.6666666666665\n",
      "2833.333333333333\n",
      "2875.0\n",
      "2916.6666666666665\n",
      "2958.333333333333\n",
      "3000.0\n",
      "3041.6666666666665\n",
      "3083.333333333333\n",
      "3125.0\n",
      "3166.6666666666665\n",
      "3208.333333333333\n",
      "3250.0\n",
      "3291.6666666666665\n",
      "3333.333333333333\n",
      "3375.0\n",
      "3416.6666666666665\n",
      "3458.333333333333\n",
      "3500.0\n",
      "3541.6666666666665\n",
      "3583.333333333333\n",
      "3625.0\n",
      "3666.6666666666665\n",
      "3708.333333333333\n",
      "3750.0\n",
      "3791.6666666666665\n",
      "3833.333333333333\n",
      "3875.0\n",
      "3916.6666666666665\n",
      "3958.333333333333\n",
      "4000.0\n",
      "4041.6666666666665\n",
      "4083.333333333333\n",
      "4125.0\n",
      "4166.666666666666\n",
      "4208.333333333333\n",
      "4250.0\n",
      "4291.666666666666\n",
      "4333.333333333333\n",
      "4375.0\n",
      "4416.666666666666\n",
      "4458.333333333333\n",
      "4500.0\n",
      "4541.666666666666\n",
      "4583.333333333333\n",
      "4625.0\n",
      "4666.666666666666\n",
      "4708.333333333333\n",
      "4750.0\n",
      "4791.666666666666\n",
      "4833.333333333333\n",
      "4875.0\n",
      "4916.666666666666\n",
      "4958.333333333333\n"
     ]
    }
   ],
   "source": [
    "n_samples = 1000000\n",
    "signal_count = (2,2,2,2)\n",
    "max_uncertainty = 1000\n",
    "value_bounds = (500, 9500)\n",
    "n_bidders = len(signal_count)\n",
    "\n",
    "uncs = np.array([100,500,900])\n",
    "\n",
    "bidder_iters = ryan.read_file(\"\\\\br_25_thresh_2.0_reps_100000_2_2_2_2_241_mids\\\\br_25_thresh_2.0_reps_100000_2_2_2_2_241_mids.csv\", 4)\n",
    "\n",
    "mids = bidder_iters.bid_sets[0][0].midpoints\n",
    "\n",
    "ga_bidders = bid_functions.read_file(f'F:/Dropbox (Chapman)/Costly Signals/sealed_bid_model/bid_funcs_{\"\".join([str(i) for i in signal_count])}.csv')\n",
    "bidder_iters.bid_sets.insert(0, ga_bidders)\n",
    "\n",
    "sample_rel_mids, sample_uncs = verify_bid_funcs.sample_rel_sufficient_stats(signal_count, n_samples, max_uncertainty)\n",
    "\n",
    "fig, axs = plt.subplots(len(uncs), 2)\n",
    "fig.set_size_inches(16,10)\n",
    "fig.tight_layout(rect=[0, 0.03, 1, 0.95])\n",
    "colors = ['blue','green','yellow','orange']\n",
    "camera = Camera(fig)\n",
    "\n",
    "iteration = 1\n",
    "for bidder_set in list(bidder_iters):\n",
    "    bids, bid_profs = zip(*map(lambda m: verify_bid_funcs.calc_exp_prof_m(m, mids, uncs, sample_rel_mids, sample_uncs, bidder_set, n_samples, max_uncertainty, value_bounds), range(len(mids))))\n",
    "    bids = np.array(bids)\n",
    "    bid_profs = np.array(bid_profs)\n",
    "\n",
    "    for u in range(len(uncs)):\n",
    "        ax_bid = axs[u][0]\n",
    "        ax_bid.set_ylim(-600, 300)\n",
    "        ax_prof = axs[u][1]\n",
    "        for bidder_idx in range(4):\n",
    "            ax_bid.plot(mids, bids[:,bidder_idx, u] - mids, color=colors[bidder_idx])\n",
    "            ax_prof.plot(mids, bid_profs[:,bidder_idx, u], color=colors[bidder_idx])\n",
    "\n",
    "    axs[0][0].text(0.5, 1.01, f'{iteration}/{len(bidder_iters.bid_sets)}', transform=axs[0][0].transAxes)\n",
    "    camera.snap()\n",
    "    iteration += 1\n",
    "    \n",
    "    # for u in range(3):\n",
    "    #     for i in range(2):\n",
    "    #         axs[u][i].clear()\n",
    "\n",
    "anim = camera.animate()\n",
    "plt.close()\n"
   ]
  },
  {
   "cell_type": "code",
   "execution_count": null,
   "metadata": {},
   "outputs": [],
   "source": [
    "from matplotlib.animation import PillowWriter\n",
    "anim.save(\"br_animation_241mids.gif\", dpi=300, writer=PillowWriter(fps=1))"
   ]
  },
  {
   "cell_type": "code",
   "execution_count": 11,
   "metadata": {},
   "outputs": [],
   "source": [
    "bidder_iters = ryan.read_file(\"F:\\\\Dropbox (Chapman)\\\\Costly Signals\\\\sealed_bid_model\\\\bid_func_processing\\\\br_25_thresh_2.0_reps_100000_2_2_2_2_241_mids\\\\br_100_thresh_2.0_reps_100000_2_2_2_2.csv\", 4)"
   ]
  },
  {
   "cell_type": "code",
   "execution_count": 22,
   "metadata": {},
   "outputs": [],
   "source": [
    "bidder_set = bidder_iters.bid_sets[8]"
   ]
  },
  {
   "cell_type": "code",
   "execution_count": 48,
   "metadata": {},
   "outputs": [
    {
     "name": "stdout",
     "output_type": "stream",
     "text": [
      "0.0\n",
      "41.666666666666664\n",
      "83.33333333333333\n",
      "125.0\n",
      "166.66666666666666\n",
      "208.33333333333331\n",
      "250.0\n",
      "291.66666666666663\n",
      "333.3333333333333\n",
      "375.0\n",
      "416.66666666666663\n",
      "458.3333333333333\n",
      "500.0\n",
      "541.6666666666666\n",
      "583.3333333333333\n",
      "625.0\n",
      "666.6666666666666\n",
      "708.3333333333333\n",
      "750.0\n",
      "791.6666666666666\n",
      "833.3333333333333\n",
      "875.0\n",
      "916.6666666666666\n",
      "958.3333333333333\n",
      "1000.0\n",
      "1041.6666666666665\n",
      "1083.3333333333333\n",
      "1125.0\n",
      "1166.6666666666665\n",
      "1208.3333333333333\n",
      "1250.0\n",
      "1291.6666666666665\n",
      "1333.3333333333333\n",
      "1375.0\n",
      "1416.6666666666665\n",
      "1458.3333333333333\n",
      "1500.0\n",
      "1541.6666666666665\n",
      "1583.3333333333333\n",
      "1625.0\n",
      "1666.6666666666665\n",
      "1708.3333333333333\n",
      "1750.0\n",
      "1791.6666666666665\n",
      "1833.3333333333333\n",
      "1875.0\n",
      "1916.6666666666665\n",
      "1958.3333333333333\n",
      "2000.0\n",
      "2041.6666666666665\n",
      "2083.333333333333\n",
      "2125.0\n",
      "2166.6666666666665\n",
      "2208.333333333333\n",
      "2250.0\n",
      "2291.6666666666665\n",
      "2333.333333333333\n",
      "2375.0\n",
      "2416.6666666666665\n",
      "2458.333333333333\n",
      "2500.0\n",
      "2541.6666666666665\n",
      "2583.333333333333\n",
      "2625.0\n",
      "2666.6666666666665\n",
      "2708.333333333333\n",
      "2750.0\n",
      "2791.6666666666665\n",
      "2833.333333333333\n",
      "2875.0\n",
      "2916.6666666666665\n",
      "2958.333333333333\n",
      "3000.0\n",
      "3041.6666666666665\n",
      "3083.333333333333\n",
      "3125.0\n",
      "3166.6666666666665\n",
      "3208.333333333333\n",
      "3250.0\n",
      "3291.6666666666665\n",
      "3333.333333333333\n",
      "3375.0\n",
      "3416.6666666666665\n",
      "3458.333333333333\n",
      "3500.0\n",
      "3541.6666666666665\n",
      "3583.333333333333\n",
      "3625.0\n",
      "3666.6666666666665\n",
      "3708.333333333333\n",
      "3750.0\n",
      "3791.6666666666665\n",
      "3833.333333333333\n",
      "3875.0\n",
      "3916.6666666666665\n",
      "3958.333333333333\n",
      "4000.0\n",
      "4041.6666666666665\n",
      "4083.333333333333\n",
      "4125.0\n",
      "4166.666666666666\n",
      "4208.333333333333\n",
      "4250.0\n",
      "4291.666666666666\n",
      "4333.333333333333\n",
      "4375.0\n",
      "4416.666666666666\n",
      "4458.333333333333\n",
      "4500.0\n",
      "4541.666666666666\n",
      "4583.333333333333\n",
      "4625.0\n",
      "4666.666666666666\n",
      "4708.333333333333\n",
      "4750.0\n",
      "4791.666666666666\n",
      "4833.333333333333\n",
      "4875.0\n",
      "4916.666666666666\n",
      "4958.333333333333\n",
      "5000.0\n",
      "5041.666666666666\n",
      "5083.333333333333\n",
      "5125.0\n",
      "5166.666666666666\n",
      "5208.333333333333\n",
      "5250.0\n",
      "5291.666666666666\n",
      "5333.333333333333\n",
      "5375.0\n",
      "5416.666666666666\n",
      "5458.333333333333\n",
      "5500.0\n",
      "5541.666666666666\n",
      "5583.333333333333\n",
      "5625.0\n",
      "5666.666666666666\n",
      "5708.333333333333\n",
      "5750.0\n",
      "5791.666666666666\n",
      "5833.333333333333\n",
      "5875.0\n",
      "5916.666666666666\n",
      "5958.333333333333\n",
      "6000.0\n",
      "6041.666666666666\n",
      "6083.333333333333\n",
      "6125.0\n",
      "6166.666666666666\n",
      "6208.333333333333\n",
      "6250.0\n",
      "6291.666666666666\n",
      "6333.333333333333\n",
      "6375.0\n",
      "6416.666666666666\n",
      "6458.333333333333\n",
      "6500.0\n",
      "6541.666666666666\n",
      "6583.333333333333\n",
      "6625.0\n",
      "6666.666666666666\n",
      "6708.333333333333\n",
      "6750.0\n",
      "6791.666666666666\n",
      "6833.333333333333\n",
      "6875.0\n",
      "6916.666666666666\n",
      "6958.333333333333\n",
      "7000.0\n",
      "7041.666666666666\n",
      "7083.333333333333\n",
      "7125.0\n",
      "7166.666666666666\n",
      "7208.333333333333\n",
      "7250.0\n",
      "7291.666666666666\n",
      "7333.333333333333\n",
      "7375.0\n",
      "7416.666666666666\n",
      "7458.333333333333\n",
      "7500.0\n",
      "7541.666666666666\n",
      "7583.333333333333\n",
      "7625.0\n",
      "7666.666666666666\n",
      "7708.333333333333\n",
      "7750.0\n",
      "7791.666666666666\n",
      "7833.333333333333\n",
      "7875.0\n",
      "7916.666666666666\n",
      "7958.333333333333\n",
      "8000.0\n",
      "8041.666666666666\n",
      "8083.333333333333\n",
      "8124.999999999999\n",
      "8166.666666666666\n",
      "8208.333333333332\n",
      "8250.0\n",
      "8291.666666666666\n",
      "8333.333333333332\n",
      "8375.0\n",
      "8416.666666666666\n",
      "8458.333333333332\n",
      "8500.0\n",
      "8541.666666666666\n",
      "8583.333333333332\n",
      "8625.0\n",
      "8666.666666666666\n",
      "8708.333333333332\n",
      "8750.0\n",
      "8791.666666666666\n",
      "8833.333333333332\n",
      "8875.0\n",
      "8916.666666666666\n",
      "8958.333333333332\n",
      "9000.0\n",
      "9041.666666666666\n",
      "9083.333333333332\n",
      "9125.0\n",
      "9166.666666666666\n",
      "9208.333333333332\n",
      "9250.0\n",
      "9291.666666666666\n",
      "9333.333333333332\n",
      "9375.0\n",
      "9416.666666666666\n",
      "9458.333333333332\n",
      "9500.0\n",
      "9541.666666666666\n",
      "9583.333333333332\n",
      "9625.0\n",
      "9666.666666666666\n",
      "9708.333333333332\n",
      "9750.0\n",
      "9791.666666666666\n",
      "9833.333333333332\n",
      "9875.0\n",
      "9916.666666666666\n",
      "9958.333333333332\n",
      "10000.0\n"
     ]
    }
   ],
   "source": [
    "n_samples = 100000\n",
    "mids = bidder_set.bidders[0].midpoints\n",
    "uncs = bidder_set.bidders[0].uncertainties\n",
    "sample_rel_mids, sample_uncs = verify_bid_funcs.sample_rel_sufficient_stats(bidder_set.signals(), n_samples)\n",
    "bids, bid_profs = zip(*map(lambda m: verify_bid_funcs.calc_exp_prof_m(m, mids, uncs, sample_rel_mids, sample_uncs, bidder_set, n_samples), range(len(mids))))\n",
    "bids = np.array(bids)\n",
    "bid_profs = np.array(bid_profs)\n",
    "profs = np.array(bid_profs).sum(axis=0).sum(axis=1)\n"
   ]
  },
  {
   "cell_type": "code",
   "execution_count": 49,
   "metadata": {},
   "outputs": [
    {
     "data": {
      "image/png": "[encoded data removed]",
      "text/plain": [
       "<Figure size 1152x648 with 6 Axes>"
      ]
     },
     "metadata": {
      "needs_background": "light"
     },
     "output_type": "display_data"
    }
   ],
   "source": [
    "ryan.plot_exp_profit(mids, [100,500,900], bids[:,:,[6,30,54]], bid_profs[:,:,[6,30,54]], (2,2,2,2))"
   ]
  },
  {
   "cell_type": "code",
   "execution_count": 54,
   "metadata": {},
   "outputs": [
    {
     "name": "stdout",
     "output_type": "stream",
     "text": [
      "[542571.35770055 541372.79799677 543751.71171613 544863.68308146]\n",
      "[1 0 2 3]\n"
     ]
    }
   ],
   "source": [
    "print(profs)\n",
    "update_order = profs.argsort()\n",
    "print(update_order)"
   ]
  },
  {
   "attachments": {},
   "cell_type": "markdown",
   "metadata": {},
   "source": [
    "Sort by lowest to highest profit. Why does lowest profit bidder best respond by going really low?  Should take highest bid that produces the max profit."
   ]
  },
  {
   "cell_type": "code",
   "execution_count": 26,
   "metadata": {},
   "outputs": [],
   "source": [
    "from pathos.multiprocessing import Pool\n",
    "pool = Pool(6)"
   ]
  },
  {
   "cell_type": "code",
   "execution_count": 29,
   "metadata": {},
   "outputs": [],
   "source": [
    "opt_bidders_set = bid_functions.BidderSet([bid_functions.Bidder(bidder_set.signals(), mids, uncs, bids[:,b,:].T) for b in range(len(bidder_set.bidders))])"
   ]
  },
  {
   "cell_type": "code",
   "execution_count": 55,
   "metadata": {},
   "outputs": [
    {
     "name": "stdout",
     "output_type": "stream",
     "text": [
      "Best Response (1, 0.0)\n",
      "Best Response (1, 41.666666666666664)\n",
      "Best Response (1, 83.33333333333333)\n",
      "Best Response (1, 125.0)\n",
      "Best Response (1, 166.66666666666666)\n",
      "Best Response (1, 208.33333333333331)\n",
      "Best Response (1, 250.0)\n",
      "Best Response (1, 291.66666666666663)\n",
      "Best Response (1, 333.3333333333333)\n",
      "Best Response (1, 375.0)\n",
      "Best Response (1, 416.66666666666663)\n",
      "Best Response (1, 458.3333333333333)\n",
      "Best Response (1, 500.0)\n",
      "Best Response (1, 541.6666666666666)\n",
      "Best Response (1, 583.3333333333333)\n",
      "Best Response (1, 625.0)\n",
      "Best Response (1, 666.6666666666666)\n",
      "Best Response (1, 708.3333333333333)\n",
      "Best Response (1, 750.0)\n",
      "Best Response (1, 791.6666666666666)\n",
      "Best Response (1, 833.3333333333333)\n",
      "Best Response (1, 875.0)\n",
      "Best Response (1, 916.6666666666666)\n",
      "Best Response (1, 958.3333333333333)\n",
      "Best Response (1, 1000.0)\n",
      "Best Response (1, 1041.6666666666665)\n",
      "Best Response (1, 1083.3333333333333)\n",
      "Best Response (1, 1125.0)\n",
      "Best Response (1, 1166.6666666666665)\n",
      "Best Response (1, 1208.3333333333333)\n",
      "Best Response (1, 1250.0)\n",
      "Best Response (1, 1291.6666666666665)\n",
      "Best Response (1, 1333.3333333333333)\n",
      "Best Response (1, 1375.0)\n",
      "Best Response (1, 1416.6666666666665)\n",
      "Best Response (1, 1458.3333333333333)\n",
      "Best Response (1, 1500.0)\n",
      "Best Response (1, 1541.6666666666665)\n",
      "Best Response (1, 1583.3333333333333)\n",
      "Best Response (1, 1625.0)\n",
      "Best Response (1, 1666.6666666666665)\n",
      "Best Response (1, 1708.3333333333333)\n",
      "Best Response (1, 1750.0)\n",
      "Best Response (1, 1791.6666666666665)\n",
      "Best Response (1, 1833.3333333333333)\n",
      "Best Response (1, 1875.0)\n",
      "Best Response (1, 1916.6666666666665)\n",
      "Best Response (1, 1958.3333333333333)\n",
      "Best Response (1, 2000.0)\n",
      "Best Response (1, 2041.6666666666665)\n",
      "Best Response (1, 2083.333333333333)\n",
      "Best Response (1, 2125.0)\n",
      "Best Response (1, 2166.6666666666665)\n",
      "Best Response (1, 2208.333333333333)\n",
      "Best Response (1, 2250.0)\n",
      "Best Response (1, 2291.6666666666665)\n",
      "Best Response (1, 2333.333333333333)\n",
      "Best Response (1, 2375.0)\n",
      "Best Response (1, 2416.6666666666665)\n",
      "Best Response (1, 2458.333333333333)\n",
      "Best Response (1, 2500.0)\n",
      "Best Response (1, 2541.6666666666665)\n",
      "Best Response (1, 2583.333333333333)\n",
      "Best Response (1, 2625.0)\n",
      "Best Response (1, 2666.6666666666665)\n",
      "Best Response (1, 2708.333333333333)\n",
      "Best Response (1, 2750.0)\n",
      "Best Response (1, 2791.6666666666665)\n",
      "Best Response (1, 2833.333333333333)\n",
      "Best Response (1, 2875.0)\n",
      "Best Response (1, 2916.6666666666665)\n",
      "Best Response (1, 2958.333333333333)\n",
      "Best Response (1, 3000.0)\n",
      "Best Response (1, 3041.6666666666665)\n",
      "Best Response (1, 3083.333333333333)\n",
      "Best Response (1, 3125.0)\n",
      "Best Response (1, 3166.6666666666665)\n",
      "Best Response (1, 3208.333333333333)\n",
      "Best Response (1, 3250.0)\n",
      "Best Response (1, 3291.6666666666665)\n",
      "Best Response (1, 3333.333333333333)\n",
      "Best Response (1, 3375.0)\n",
      "Best Response (1, 3416.6666666666665)\n",
      "Best Response (1, 3458.333333333333)\n",
      "Best Response (1, 3500.0)\n",
      "Best Response (1, 3541.6666666666665)\n",
      "Best Response (1, 3583.333333333333)\n",
      "Best Response (1, 3625.0)\n",
      "Best Response (1, 3666.6666666666665)\n",
      "Best Response (1, 3708.333333333333)\n",
      "Best Response (1, 3750.0)\n",
      "Best Response (1, 3791.6666666666665)\n",
      "Best Response (1, 3833.333333333333)\n",
      "Best Response (1, 3875.0)\n",
      "Best Response (1, 3916.6666666666665)\n",
      "Best Response (1, 3958.333333333333)\n",
      "Best Response (1, 4000.0)\n",
      "Best Response (1, 4041.6666666666665)\n",
      "Best Response (1, 4083.333333333333)\n",
      "Best Response (1, 4125.0)\n",
      "Best Response (1, 4166.666666666666)\n",
      "Best Response (1, 4208.333333333333)\n",
      "Best Response (1, 4250.0)\n",
      "Best Response (1, 4291.666666666666)\n",
      "Best Response (1, 4333.333333333333)\n",
      "Best Response (1, 4375.0)\n",
      "Best Response (1, 4416.666666666666)\n",
      "Best Response (1, 4458.333333333333)\n",
      "Best Response (1, 4500.0)\n",
      "Best Response (1, 4541.666666666666)\n",
      "Best Response (1, 4583.333333333333)\n",
      "Best Response (1, 4625.0)\n",
      "Best Response (1, 4666.666666666666)\n",
      "Best Response (1, 4708.333333333333)\n",
      "Best Response (1, 4750.0)\n",
      "Best Response (1, 4791.666666666666)\n",
      "Best Response (1, 4833.333333333333)\n",
      "Best Response (1, 4875.0)\n",
      "Best Response (1, 4916.666666666666)\n",
      "Best Response (1, 4958.333333333333)\n",
      "Best Response (1, 5000.0)\n",
      "Best Response (1, 5041.666666666666)\n",
      "Best Response (1, 5083.333333333333)\n",
      "Best Response (1, 5125.0)\n",
      "Best Response (1, 5166.666666666666)\n",
      "Best Response (1, 5208.333333333333)\n",
      "Best Response (1, 5250.0)\n",
      "Best Response (1, 5291.666666666666)\n",
      "Best Response (1, 5333.333333333333)\n",
      "Best Response (1, 5375.0)\n",
      "Best Response (1, 5416.666666666666)\n",
      "Best Response (1, 5458.333333333333)\n",
      "Best Response (1, 5500.0)\n",
      "Best Response (1, 5541.666666666666)\n",
      "Best Response (1, 5583.333333333333)\n",
      "Best Response (1, 5625.0)\n",
      "Best Response (1, 5666.666666666666)\n",
      "Best Response (1, 5708.333333333333)\n",
      "Best Response (1, 5750.0)\n",
      "Best Response (1, 5791.666666666666)\n",
      "Best Response (1, 5833.333333333333)\n",
      "Best Response (1, 5875.0)\n",
      "Best Response (1, 5916.666666666666)\n",
      "Best Response (1, 5958.333333333333)\n",
      "Best Response (1, 6000.0)\n",
      "Best Response (1, 6041.666666666666)\n",
      "Best Response (1, 6083.333333333333)\n",
      "Best Response (1, 6125.0)\n",
      "Best Response (1, 6166.666666666666)\n",
      "Best Response (1, 6208.333333333333)\n",
      "Best Response (1, 6250.0)\n",
      "Best Response (1, 6291.666666666666)\n",
      "Best Response (1, 6333.333333333333)\n",
      "Best Response (1, 6375.0)\n",
      "Best Response (1, 6416.666666666666)\n",
      "Best Response (1, 6458.333333333333)\n",
      "Best Response (1, 6500.0)\n",
      "Best Response (1, 6541.666666666666)\n",
      "Best Response (1, 6583.333333333333)\n",
      "Best Response (1, 6625.0)\n",
      "Best Response (1, 6666.666666666666)\n",
      "Best Response (1, 6708.333333333333)\n",
      "Best Response (1, 6750.0)\n",
      "Best Response (1, 6791.666666666666)\n",
      "Best Response (1, 6833.333333333333)\n",
      "Best Response (1, 6875.0)\n",
      "Best Response (1, 6916.666666666666)\n",
      "Best Response (1, 6958.333333333333)\n",
      "Best Response (1, 7000.0)\n",
      "Best Response (1, 7041.666666666666)\n",
      "Best Response (1, 7083.333333333333)\n",
      "Best Response (1, 7125.0)\n",
      "Best Response (1, 7166.666666666666)\n",
      "Best Response (1, 7208.333333333333)\n",
      "Best Response (1, 7250.0)\n",
      "Best Response (1, 7291.666666666666)\n",
      "Best Response (1, 7333.333333333333)\n",
      "Best Response (1, 7375.0)\n",
      "Best Response (1, 7416.666666666666)\n",
      "Best Response (1, 7458.333333333333)\n",
      "Best Response (1, 7500.0)\n",
      "Best Response (1, 7541.666666666666)\n",
      "Best Response (1, 7583.333333333333)\n",
      "Best Response (1, 7625.0)\n",
      "Best Response (1, 7666.666666666666)\n",
      "Best Response (1, 7708.333333333333)\n",
      "Best Response (1, 7750.0)\n",
      "Best Response (1, 7791.666666666666)\n",
      "Best Response (1, 7833.333333333333)\n",
      "Best Response (1, 7875.0)\n",
      "Best Response (1, 7916.666666666666)\n",
      "Best Response (1, 7958.333333333333)\n",
      "Best Response (1, 8000.0)\n",
      "Best Response (1, 8041.666666666666)\n",
      "Best Response (1, 8083.333333333333)\n",
      "Best Response (1, 8124.999999999999)\n",
      "Best Response (1, 8166.666666666666)\n",
      "Best Response (1, 8208.333333333332)\n",
      "Best Response (1, 8250.0)\n",
      "Best Response (1, 8291.666666666666)\n",
      "Best Response (1, 8333.333333333332)\n",
      "Best Response (1, 8375.0)\n",
      "Best Response (1, 8416.666666666666)\n",
      "Best Response (1, 8458.333333333332)\n",
      "Best Response (1, 8500.0)\n",
      "Best Response (1, 8541.666666666666)\n",
      "Best Response (1, 8583.333333333332)\n",
      "Best Response (1, 8625.0)\n",
      "Best Response (1, 8666.666666666666)\n",
      "Best Response (1, 8708.333333333332)\n",
      "Best Response (1, 8750.0)\n",
      "Best Response (1, 8791.666666666666)\n",
      "Best Response (1, 8833.333333333332)\n",
      "Best Response (1, 8875.0)\n",
      "Best Response (1, 8916.666666666666)\n",
      "Best Response (1, 8958.333333333332)\n",
      "Best Response (1, 9000.0)\n",
      "Best Response (1, 9041.666666666666)\n",
      "Best Response (1, 9083.333333333332)\n",
      "Best Response (1, 9125.0)\n",
      "Best Response (1, 9166.666666666666)\n",
      "Best Response (1, 9208.333333333332)\n",
      "Best Response (1, 9250.0)\n",
      "Best Response (1, 9291.666666666666)\n",
      "Best Response (1, 9333.333333333332)\n",
      "Best Response (1, 9375.0)\n",
      "Best Response (1, 9416.666666666666)\n",
      "Best Response (1, 9458.333333333332)\n",
      "Best Response (1, 9500.0)\n",
      "Best Response (1, 9541.666666666666)\n",
      "Best Response (1, 9583.333333333332)\n",
      "Best Response (1, 9625.0)\n",
      "Best Response (1, 9666.666666666666)\n",
      "Best Response (1, 9708.333333333332)\n",
      "Best Response (1, 9750.0)\n",
      "Best Response (1, 9791.666666666666)\n",
      "Best Response (1, 9833.333333333332)\n",
      "Best Response (1, 9875.0)\n",
      "Best Response (1, 9916.666666666666)\n",
      "Best Response (1, 9958.333333333332)\n",
      "Best Response (1, 10000.0)\n"
     ]
    }
   ],
   "source": [
    "opt_bids, opt_profs = zip(*map(lambda m: verify_bid_funcs.calc_best_resp_b_m_2(1, m, mids, uncs, sample_rel_mids, sample_uncs, bidder_set, n_samples, threshold = 0.02), range(len(mids))))\n"
   ]
  },
  {
   "cell_type": "code",
   "execution_count": 57,
   "metadata": {},
   "outputs": [
    {
     "data": {
      "text/plain": [
       "array([ 0.        ,  0.        ,  0.        ,  0.        ,  0.        ,\n",
       "        0.        ,  0.        ,  0.        ,  0.        ,  0.        ,\n",
       "        0.        ,  0.        ,  0.        ,  0.        ,  0.        ,\n",
       "        0.        , 41.12333333,  0.        ,  0.        ,  0.        ,\n",
       "        0.        ,  0.        ,  0.        ,  0.        ,  0.        ,\n",
       "        0.        ,  0.        ,  0.        ,  0.        ,  0.        ,\n",
       "        0.        ,  0.        ,  0.        ,  0.        ,  0.        ,\n",
       "        0.        ,  0.        ,  0.        ,  0.        ,  0.        ,\n",
       "        0.        ,  0.        ,  0.        ,  0.        ,  0.        ,\n",
       "        0.        ,  0.        ,  0.        ,  0.        ,  0.        ,\n",
       "        0.        ,  0.        ,  0.        ,  0.        ,  0.        ,\n",
       "        0.        ,  0.        ,  0.        ,  0.        ,  0.        ,\n",
       "        0.        ,  0.        ,  0.        ,  0.        ,  0.        ,\n",
       "        0.        ,  0.        ,  0.        ,  0.        ,  0.        ,\n",
       "        0.        ,  0.        ,  0.        ,  0.        ,  0.        ,\n",
       "        0.        ,  0.        ,  0.        ,  0.        ,  0.        ,\n",
       "        0.        ,  0.        ,  0.        ,  0.        ,  0.        ,\n",
       "        0.        ,  0.        ,  0.        ,  0.        ,  0.        ,\n",
       "        0.        ,  0.        ,  0.        ,  0.        ,  0.        ,\n",
       "        0.        ,  0.        ,  0.        ,  0.        ,  0.        ,\n",
       "        0.        ,  0.        ,  0.        ,  0.        ,  0.        ,\n",
       "        0.        ,  0.        ,  0.        ,  0.        ,  0.        ,\n",
       "        0.        ,  0.        ,  0.        ,  0.        ,  0.        ,\n",
       "        0.        ,  0.        ,  0.        ,  0.        ,  0.        ,\n",
       "        0.        ,  0.        ,  0.        ,  0.        ,  0.        ,\n",
       "        0.        ,  0.        ,  0.        ,  0.        ,  0.        ,\n",
       "        0.        ,  0.        ,  0.        ,  0.        ,  0.        ,\n",
       "        0.        ,  0.        ,  0.        ,  0.        ,  0.        ,\n",
       "        0.        ,  0.        ,  0.        ,  0.        ,  0.        ,\n",
       "        0.        ,  0.        ,  0.        ,  0.        ,  0.        ,\n",
       "        0.        ,  0.        ,  0.        ,  0.        ,  0.        ,\n",
       "        0.        ,  0.        ,  0.        ,  0.        ,  0.        ,\n",
       "        0.        ,  0.        ,  0.        ,  0.        ,  0.        ,\n",
       "        0.        ,  0.        ,  0.        ,  0.        ,  0.        ,\n",
       "        0.        ,  0.        ,  0.        ,  0.        ,  0.        ,\n",
       "        0.        ,  0.        ,  0.        ,  0.        ,  0.        ,\n",
       "        0.        ,  0.        ,  0.        ,  0.        ,  0.        ,\n",
       "        0.        ,  0.        ,  0.        ,  0.        ,  0.        ,\n",
       "        0.        ,  0.        ,  0.        ,  0.        ,  0.        ,\n",
       "        0.        ,  0.        ,  0.        ,  0.        ,  0.        ,\n",
       "        0.        ,  0.        ,  0.        ,  0.        ,  0.        ,\n",
       "        0.        ,  0.        ,  0.        ,  0.        ,  0.        ,\n",
       "        0.        ,  0.        ,  0.        ,  0.        ,  0.        ,\n",
       "        0.        ,  0.        ,  0.        ,  0.        ,  0.        ,\n",
       "        0.        ,  0.        ,  0.        ,  0.        ,  0.        ,\n",
       "        0.        ,  0.        ,  0.        ,  0.        ,  0.        ,\n",
       "        0.        ,  0.        ,  0.        ,  0.        ,  0.        ,\n",
       "        0.        ,  0.        ,  0.        ,  0.        ,  0.        ,\n",
       "        0.        ])"
      ]
     },
     "execution_count": 57,
     "metadata": {},
     "output_type": "execute_result"
    }
   ],
   "source": [
    "bids[:,1,6] - np.array(opt_bids)[:,6]"
   ]
  },
  {
   "attachments": {},
   "cell_type": "markdown",
   "metadata": {},
   "source": [
    "# Should lowest exp profit be first mover?\n",
    "\n",
    "Is the expected profit stable enough to use it to choose first mover or should it be random?"
   ]
  },
  {
   "cell_type": "code",
   "execution_count": 160,
   "metadata": {},
   "outputs": [
    {
     "name": "stdout",
     "output_type": "stream",
     "text": [
      "0.0\n",
      "41.666666666666664\n",
      "83.33333333333333\n",
      "125.0\n",
      "166.66666666666666\n",
      "208.33333333333331\n",
      "250.0\n",
      "291.66666666666663\n",
      "333.3333333333333\n"
     ]
    },
    {
     "ename": "KeyboardInterrupt",
     "evalue": "",
     "output_type": "error",
     "traceback": [
      "\u001b[1;31m---------------------------------------------------------------------------\u001b[0m",
      "\u001b[1;31mKeyboardInterrupt\u001b[0m                         Traceback (most recent call last)",
      "\u001b[1;32m<ipython-input-160-e9ab838aa4f8>\u001b[0m in \u001b[0;36m<module>\u001b[1;34m\u001b[0m\n\u001b[0;32m      6\u001b[0m \u001b[1;32mfor\u001b[0m \u001b[0m_\u001b[0m \u001b[1;32min\u001b[0m \u001b[0mrange\u001b[0m\u001b[1;33m(\u001b[0m\u001b[1;36m1000\u001b[0m\u001b[1;33m)\u001b[0m\u001b[1;33m:\u001b[0m\u001b[1;33m\u001b[0m\u001b[1;33m\u001b[0m\u001b[0m\n\u001b[0;32m      7\u001b[0m     \u001b[0msample_rel_mids\u001b[0m\u001b[1;33m,\u001b[0m \u001b[0msample_uncs\u001b[0m \u001b[1;33m=\u001b[0m \u001b[0mverify_bid_funcs\u001b[0m\u001b[1;33m.\u001b[0m\u001b[0msample_rel_sufficient_stats\u001b[0m\u001b[1;33m(\u001b[0m\u001b[0mbidder_set\u001b[0m\u001b[1;33m.\u001b[0m\u001b[0msignals\u001b[0m\u001b[1;33m(\u001b[0m\u001b[1;33m)\u001b[0m\u001b[1;33m,\u001b[0m \u001b[0mn_samples\u001b[0m\u001b[1;33m)\u001b[0m\u001b[1;33m\u001b[0m\u001b[1;33m\u001b[0m\u001b[0m\n\u001b[1;32m----> 8\u001b[1;33m     \u001b[0mbids\u001b[0m\u001b[1;33m,\u001b[0m \u001b[0mbid_profs\u001b[0m \u001b[1;33m=\u001b[0m \u001b[0mzip\u001b[0m\u001b[1;33m(\u001b[0m\u001b[1;33m*\u001b[0m\u001b[0mmap\u001b[0m\u001b[1;33m(\u001b[0m\u001b[1;32mlambda\u001b[0m \u001b[0mm\u001b[0m\u001b[1;33m:\u001b[0m \u001b[0mverify_bid_funcs\u001b[0m\u001b[1;33m.\u001b[0m\u001b[0mcalc_exp_prof_m\u001b[0m\u001b[1;33m(\u001b[0m\u001b[0mm\u001b[0m\u001b[1;33m,\u001b[0m \u001b[0mmids\u001b[0m\u001b[1;33m,\u001b[0m \u001b[0muncs\u001b[0m\u001b[1;33m,\u001b[0m \u001b[0msample_rel_mids\u001b[0m\u001b[1;33m,\u001b[0m \u001b[0msample_uncs\u001b[0m\u001b[1;33m,\u001b[0m \u001b[0mbidder_set\u001b[0m\u001b[1;33m,\u001b[0m \u001b[0mn_samples\u001b[0m\u001b[1;33m)\u001b[0m\u001b[1;33m,\u001b[0m \u001b[0mrange\u001b[0m\u001b[1;33m(\u001b[0m\u001b[0mlen\u001b[0m\u001b[1;33m(\u001b[0m\u001b[0mmids\u001b[0m\u001b[1;33m)\u001b[0m\u001b[1;33m)\u001b[0m\u001b[1;33m)\u001b[0m\u001b[1;33m)\u001b[0m\u001b[1;33m\u001b[0m\u001b[1;33m\u001b[0m\u001b[0m\n\u001b[0m\u001b[0;32m      9\u001b[0m     \u001b[0mbids\u001b[0m \u001b[1;33m=\u001b[0m \u001b[0mnp\u001b[0m\u001b[1;33m.\u001b[0m\u001b[0marray\u001b[0m\u001b[1;33m(\u001b[0m\u001b[0mbids\u001b[0m\u001b[1;33m)\u001b[0m\u001b[1;33m\u001b[0m\u001b[1;33m\u001b[0m\u001b[0m\n\u001b[0;32m     10\u001b[0m     \u001b[0mbid_profs\u001b[0m \u001b[1;33m=\u001b[0m \u001b[0mnp\u001b[0m\u001b[1;33m.\u001b[0m\u001b[0marray\u001b[0m\u001b[1;33m(\u001b[0m\u001b[0mbid_profs\u001b[0m\u001b[1;33m)\u001b[0m\u001b[1;33m\u001b[0m\u001b[1;33m\u001b[0m\u001b[0m\n",
      "\u001b[1;32m<ipython-input-160-e9ab838aa4f8>\u001b[0m in \u001b[0;36m<lambda>\u001b[1;34m(m)\u001b[0m\n\u001b[0;32m      6\u001b[0m \u001b[1;32mfor\u001b[0m \u001b[0m_\u001b[0m \u001b[1;32min\u001b[0m \u001b[0mrange\u001b[0m\u001b[1;33m(\u001b[0m\u001b[1;36m1000\u001b[0m\u001b[1;33m)\u001b[0m\u001b[1;33m:\u001b[0m\u001b[1;33m\u001b[0m\u001b[1;33m\u001b[0m\u001b[0m\n\u001b[0;32m      7\u001b[0m     \u001b[0msample_rel_mids\u001b[0m\u001b[1;33m,\u001b[0m \u001b[0msample_uncs\u001b[0m \u001b[1;33m=\u001b[0m \u001b[0mverify_bid_funcs\u001b[0m\u001b[1;33m.\u001b[0m\u001b[0msample_rel_sufficient_stats\u001b[0m\u001b[1;33m(\u001b[0m\u001b[0mbidder_set\u001b[0m\u001b[1;33m.\u001b[0m\u001b[0msignals\u001b[0m\u001b[1;33m(\u001b[0m\u001b[1;33m)\u001b[0m\u001b[1;33m,\u001b[0m \u001b[0mn_samples\u001b[0m\u001b[1;33m)\u001b[0m\u001b[1;33m\u001b[0m\u001b[1;33m\u001b[0m\u001b[0m\n\u001b[1;32m----> 8\u001b[1;33m     \u001b[0mbids\u001b[0m\u001b[1;33m,\u001b[0m \u001b[0mbid_profs\u001b[0m \u001b[1;33m=\u001b[0m \u001b[0mzip\u001b[0m\u001b[1;33m(\u001b[0m\u001b[1;33m*\u001b[0m\u001b[0mmap\u001b[0m\u001b[1;33m(\u001b[0m\u001b[1;32mlambda\u001b[0m \u001b[0mm\u001b[0m\u001b[1;33m:\u001b[0m \u001b[0mverify_bid_funcs\u001b[0m\u001b[1;33m.\u001b[0m\u001b[0mcalc_exp_prof_m\u001b[0m\u001b[1;33m(\u001b[0m\u001b[0mm\u001b[0m\u001b[1;33m,\u001b[0m \u001b[0mmids\u001b[0m\u001b[1;33m,\u001b[0m \u001b[0muncs\u001b[0m\u001b[1;33m,\u001b[0m \u001b[0msample_rel_mids\u001b[0m\u001b[1;33m,\u001b[0m \u001b[0msample_uncs\u001b[0m\u001b[1;33m,\u001b[0m \u001b[0mbidder_set\u001b[0m\u001b[1;33m,\u001b[0m \u001b[0mn_samples\u001b[0m\u001b[1;33m)\u001b[0m\u001b[1;33m,\u001b[0m \u001b[0mrange\u001b[0m\u001b[1;33m(\u001b[0m\u001b[0mlen\u001b[0m\u001b[1;33m(\u001b[0m\u001b[0mmids\u001b[0m\u001b[1;33m)\u001b[0m\u001b[1;33m)\u001b[0m\u001b[1;33m)\u001b[0m\u001b[1;33m)\u001b[0m\u001b[1;33m\u001b[0m\u001b[1;33m\u001b[0m\u001b[0m\n\u001b[0m\u001b[0;32m      9\u001b[0m     \u001b[0mbids\u001b[0m \u001b[1;33m=\u001b[0m \u001b[0mnp\u001b[0m\u001b[1;33m.\u001b[0m\u001b[0marray\u001b[0m\u001b[1;33m(\u001b[0m\u001b[0mbids\u001b[0m\u001b[1;33m)\u001b[0m\u001b[1;33m\u001b[0m\u001b[1;33m\u001b[0m\u001b[0m\n\u001b[0;32m     10\u001b[0m     \u001b[0mbid_profs\u001b[0m \u001b[1;33m=\u001b[0m \u001b[0mnp\u001b[0m\u001b[1;33m.\u001b[0m\u001b[0marray\u001b[0m\u001b[1;33m(\u001b[0m\u001b[0mbid_profs\u001b[0m\u001b[1;33m)\u001b[0m\u001b[1;33m\u001b[0m\u001b[1;33m\u001b[0m\u001b[0m\n",
      "\u001b[1;32mf:\\Dropbox (Chapman)\\Costly Signals\\sealed_bid_model\\bid_func_processing\\verify_bid_funcs.py\u001b[0m in \u001b[0;36mcalc_exp_prof_m\u001b[1;34m(m, mids, uncs, sample_rel_mids, sample_uncs, bidder_set, n_samples, max_uncertainty, value_bounds)\u001b[0m\n\u001b[0;32m    417\u001b[0m         \u001b[0msample_trues\u001b[0m \u001b[1;33m=\u001b[0m \u001b[0mlower\u001b[0m \u001b[1;33m+\u001b[0m \u001b[1;33m(\u001b[0m\u001b[0mupper\u001b[0m\u001b[1;33m-\u001b[0m\u001b[0mlower\u001b[0m\u001b[1;33m)\u001b[0m\u001b[1;33m*\u001b[0m\u001b[0mnp\u001b[0m\u001b[1;33m.\u001b[0m\u001b[0mlinspace\u001b[0m\u001b[1;33m(\u001b[0m\u001b[1;36m0\u001b[0m\u001b[1;33m,\u001b[0m\u001b[1;36m1\u001b[0m\u001b[1;33m,\u001b[0m\u001b[0mn_samples\u001b[0m\u001b[1;33m)\u001b[0m\u001b[1;33m\u001b[0m\u001b[1;33m\u001b[0m\u001b[0m\n\u001b[0;32m    418\u001b[0m         \u001b[0msample_mids\u001b[0m \u001b[1;33m=\u001b[0m \u001b[0msample_rel_mids\u001b[0m \u001b[1;33m+\u001b[0m \u001b[0msample_trues\u001b[0m\u001b[1;33m\u001b[0m\u001b[1;33m\u001b[0m\u001b[0m\n\u001b[1;32m--> 419\u001b[1;33m         \u001b[0msample_bids\u001b[0m \u001b[1;33m=\u001b[0m \u001b[0mconvert_grid_bids\u001b[0m\u001b[1;33m(\u001b[0m\u001b[0mbidder_set\u001b[0m\u001b[1;33m,\u001b[0m \u001b[0msample_mids\u001b[0m\u001b[1;33m,\u001b[0m \u001b[0msample_uncs\u001b[0m\u001b[1;33m)\u001b[0m\u001b[1;33m\u001b[0m\u001b[1;33m\u001b[0m\u001b[0m\n\u001b[0m\u001b[0;32m    420\u001b[0m \u001b[1;33m\u001b[0m\u001b[0m\n\u001b[0;32m    421\u001b[0m         \u001b[1;32mfor\u001b[0m \u001b[0mb_id\u001b[0m \u001b[1;32min\u001b[0m \u001b[0mrange\u001b[0m\u001b[1;33m(\u001b[0m\u001b[0mlen\u001b[0m\u001b[1;33m(\u001b[0m\u001b[0mn_signals\u001b[0m\u001b[1;33m)\u001b[0m\u001b[1;33m)\u001b[0m\u001b[1;33m:\u001b[0m\u001b[1;33m\u001b[0m\u001b[1;33m\u001b[0m\u001b[0m\n",
      "\u001b[1;32mf:\\Dropbox (Chapman)\\Costly Signals\\sealed_bid_model\\bid_func_processing\\verify_bid_funcs.py\u001b[0m in \u001b[0;36mconvert_grid_bids\u001b[1;34m(bid_funcs, mids, uncs)\u001b[0m\n\u001b[0;32m     64\u001b[0m \u001b[1;33m\u001b[0m\u001b[0m\n\u001b[0;32m     65\u001b[0m \u001b[1;32mdef\u001b[0m \u001b[0mconvert_grid_bids\u001b[0m\u001b[1;33m(\u001b[0m\u001b[0mbid_funcs\u001b[0m\u001b[1;33m,\u001b[0m \u001b[0mmids\u001b[0m\u001b[1;33m,\u001b[0m \u001b[0muncs\u001b[0m\u001b[1;33m)\u001b[0m\u001b[1;33m:\u001b[0m\u001b[1;33m\u001b[0m\u001b[1;33m\u001b[0m\u001b[0m\n\u001b[1;32m---> 66\u001b[1;33m     \u001b[1;32mreturn\u001b[0m \u001b[0mnp\u001b[0m\u001b[1;33m.\u001b[0m\u001b[0marray\u001b[0m\u001b[1;33m(\u001b[0m\u001b[1;33m[\u001b[0m\u001b[0mconvert_to_bids\u001b[0m\u001b[1;33m(\u001b[0m\u001b[0mbid_funcs\u001b[0m\u001b[1;33m[\u001b[0m\u001b[0mi\u001b[0m\u001b[1;33m]\u001b[0m\u001b[1;33m,\u001b[0m \u001b[0mmids\u001b[0m\u001b[1;33m[\u001b[0m\u001b[0mi\u001b[0m\u001b[1;33m]\u001b[0m\u001b[1;33m,\u001b[0m \u001b[0muncs\u001b[0m\u001b[1;33m[\u001b[0m\u001b[0mi\u001b[0m\u001b[1;33m]\u001b[0m\u001b[1;33m)\u001b[0m \u001b[1;32mfor\u001b[0m \u001b[0mi\u001b[0m \u001b[1;32min\u001b[0m \u001b[0mrange\u001b[0m\u001b[1;33m(\u001b[0m\u001b[0mlen\u001b[0m\u001b[1;33m(\u001b[0m\u001b[0mbid_funcs\u001b[0m\u001b[1;33m)\u001b[0m\u001b[1;33m)\u001b[0m\u001b[1;33m]\u001b[0m\u001b[1;33m)\u001b[0m\u001b[1;33m\u001b[0m\u001b[1;33m\u001b[0m\u001b[0m\n\u001b[0m\u001b[0;32m     67\u001b[0m \u001b[1;33m\u001b[0m\u001b[0m\n\u001b[0;32m     68\u001b[0m \u001b[1;33m\u001b[0m\u001b[0m\n",
      "\u001b[1;32mf:\\Dropbox (Chapman)\\Costly Signals\\sealed_bid_model\\bid_func_processing\\verify_bid_funcs.py\u001b[0m in \u001b[0;36m<listcomp>\u001b[1;34m(.0)\u001b[0m\n\u001b[0;32m     64\u001b[0m \u001b[1;33m\u001b[0m\u001b[0m\n\u001b[0;32m     65\u001b[0m \u001b[1;32mdef\u001b[0m \u001b[0mconvert_grid_bids\u001b[0m\u001b[1;33m(\u001b[0m\u001b[0mbid_funcs\u001b[0m\u001b[1;33m,\u001b[0m \u001b[0mmids\u001b[0m\u001b[1;33m,\u001b[0m \u001b[0muncs\u001b[0m\u001b[1;33m)\u001b[0m\u001b[1;33m:\u001b[0m\u001b[1;33m\u001b[0m\u001b[1;33m\u001b[0m\u001b[0m\n\u001b[1;32m---> 66\u001b[1;33m     \u001b[1;32mreturn\u001b[0m \u001b[0mnp\u001b[0m\u001b[1;33m.\u001b[0m\u001b[0marray\u001b[0m\u001b[1;33m(\u001b[0m\u001b[1;33m[\u001b[0m\u001b[0mconvert_to_bids\u001b[0m\u001b[1;33m(\u001b[0m\u001b[0mbid_funcs\u001b[0m\u001b[1;33m[\u001b[0m\u001b[0mi\u001b[0m\u001b[1;33m]\u001b[0m\u001b[1;33m,\u001b[0m \u001b[0mmids\u001b[0m\u001b[1;33m[\u001b[0m\u001b[0mi\u001b[0m\u001b[1;33m]\u001b[0m\u001b[1;33m,\u001b[0m \u001b[0muncs\u001b[0m\u001b[1;33m[\u001b[0m\u001b[0mi\u001b[0m\u001b[1;33m]\u001b[0m\u001b[1;33m)\u001b[0m \u001b[1;32mfor\u001b[0m \u001b[0mi\u001b[0m \u001b[1;32min\u001b[0m \u001b[0mrange\u001b[0m\u001b[1;33m(\u001b[0m\u001b[0mlen\u001b[0m\u001b[1;33m(\u001b[0m\u001b[0mbid_funcs\u001b[0m\u001b[1;33m)\u001b[0m\u001b[1;33m)\u001b[0m\u001b[1;33m]\u001b[0m\u001b[1;33m)\u001b[0m\u001b[1;33m\u001b[0m\u001b[1;33m\u001b[0m\u001b[0m\n\u001b[0m\u001b[0;32m     67\u001b[0m \u001b[1;33m\u001b[0m\u001b[0m\n\u001b[0;32m     68\u001b[0m \u001b[1;33m\u001b[0m\u001b[0m\n",
      "\u001b[1;32mf:\\Dropbox (Chapman)\\Costly Signals\\sealed_bid_model\\bid_func_processing\\verify_bid_funcs.py\u001b[0m in \u001b[0;36mconvert_to_bids\u001b[1;34m(bid_func, mids, uncs)\u001b[0m\n\u001b[0;32m     60\u001b[0m     \u001b[1;32mif\u001b[0m \u001b[0misinstance\u001b[0m\u001b[1;33m(\u001b[0m\u001b[0mbid_func\u001b[0m\u001b[1;33m,\u001b[0m\u001b[0mSingleSignalBidder\u001b[0m\u001b[1;33m)\u001b[0m\u001b[1;33m:\u001b[0m\u001b[1;33m\u001b[0m\u001b[1;33m\u001b[0m\u001b[0m\n\u001b[0;32m     61\u001b[0m         \u001b[1;32mreturn\u001b[0m \u001b[0mbid_func\u001b[0m\u001b[1;33m[\u001b[0m\u001b[0mmids\u001b[0m\u001b[1;33m]\u001b[0m\u001b[1;33m\u001b[0m\u001b[1;33m\u001b[0m\u001b[0m\n\u001b[1;32m---> 62\u001b[1;33m     \u001b[1;32mreturn\u001b[0m \u001b[0mbid_func\u001b[0m\u001b[1;33m[\u001b[0m\u001b[0muncs\u001b[0m\u001b[1;33m,\u001b[0m \u001b[0mmids\u001b[0m\u001b[1;33m]\u001b[0m\u001b[1;33m\u001b[0m\u001b[1;33m\u001b[0m\u001b[0m\n\u001b[0m\u001b[0;32m     63\u001b[0m \u001b[1;33m\u001b[0m\u001b[0m\n\u001b[0;32m     64\u001b[0m \u001b[1;33m\u001b[0m\u001b[0m\n",
      "\u001b[1;32mf:\\Dropbox (Chapman)\\Costly Signals\\sealed_bid_model\\bid_func_processing\\bid_functions.py\u001b[0m in \u001b[0;36m__getitem__\u001b[1;34m(self, pos)\u001b[0m\n\u001b[0;32m    114\u001b[0m                 \u001b[1;32mreturn\u001b[0m \u001b[0mself\u001b[0m\u001b[1;33m.\u001b[0m\u001b[0muncertainty_slice\u001b[0m\u001b[1;33m(\u001b[0m\u001b[0mpos\u001b[0m\u001b[1;33m[\u001b[0m\u001b[1;36m0\u001b[0m\u001b[1;33m]\u001b[0m\u001b[1;33m)\u001b[0m\u001b[1;33m\u001b[0m\u001b[1;33m\u001b[0m\u001b[0m\n\u001b[0;32m    115\u001b[0m             \u001b[1;32melse\u001b[0m\u001b[1;33m:\u001b[0m\u001b[1;33m\u001b[0m\u001b[1;33m\u001b[0m\u001b[0m\n\u001b[1;32m--> 116\u001b[1;33m                 \u001b[1;32mreturn\u001b[0m \u001b[0mself\u001b[0m\u001b[1;33m.\u001b[0m\u001b[0minterpolate_point\u001b[0m\u001b[1;33m(\u001b[0m\u001b[0mpos\u001b[0m\u001b[1;33m[\u001b[0m\u001b[1;36m0\u001b[0m\u001b[1;33m]\u001b[0m\u001b[1;33m,\u001b[0m \u001b[0mpos\u001b[0m\u001b[1;33m[\u001b[0m\u001b[1;36m1\u001b[0m\u001b[1;33m]\u001b[0m\u001b[1;33m)\u001b[0m\u001b[1;33m\u001b[0m\u001b[1;33m\u001b[0m\u001b[0m\n\u001b[0m\u001b[0;32m    117\u001b[0m         \u001b[1;32melse\u001b[0m\u001b[1;33m:\u001b[0m\u001b[1;33m\u001b[0m\u001b[1;33m\u001b[0m\u001b[0m\n\u001b[0;32m    118\u001b[0m             \u001b[1;32mreturn\u001b[0m \u001b[0mself\u001b[0m\u001b[1;33m.\u001b[0m\u001b[0muncertainty_slice\u001b[0m\u001b[1;33m(\u001b[0m\u001b[0mpos\u001b[0m\u001b[1;33m)\u001b[0m\u001b[1;33m\u001b[0m\u001b[1;33m\u001b[0m\u001b[0m\n",
      "\u001b[1;32mf:\\Dropbox (Chapman)\\Costly Signals\\sealed_bid_model\\bid_func_processing\\bid_functions.py\u001b[0m in \u001b[0;36minterpolate_point\u001b[1;34m(self, unc, mid)\u001b[0m\n\u001b[0;32m    140\u001b[0m         \u001b[0mind_m\u001b[0m\u001b[1;33m,\u001b[0m\u001b[0malpha_m\u001b[0m \u001b[1;33m=\u001b[0m \u001b[0mget_ind_alpha\u001b[0m\u001b[1;33m(\u001b[0m\u001b[0mmid\u001b[0m\u001b[1;33m,\u001b[0m \u001b[0mself\u001b[0m\u001b[1;33m.\u001b[0m\u001b[0mmid_min\u001b[0m\u001b[1;33m,\u001b[0m \u001b[0mself\u001b[0m\u001b[1;33m.\u001b[0m\u001b[0mmid_delta\u001b[0m\u001b[1;33m)\u001b[0m\u001b[1;33m\u001b[0m\u001b[1;33m\u001b[0m\u001b[0m\n\u001b[0;32m    141\u001b[0m         return  (self.bids[ind_u, ind_m]*(1-alpha_u)*(1-alpha_m)\n\u001b[1;32m--> 142\u001b[1;33m                  \u001b[1;33m+\u001b[0m \u001b[0mself\u001b[0m\u001b[1;33m.\u001b[0m\u001b[0mbids\u001b[0m\u001b[1;33m[\u001b[0m\u001b[0mind_u\u001b[0m\u001b[1;33m,\u001b[0m \u001b[0mind_m\u001b[0m\u001b[1;33m+\u001b[0m\u001b[1;36m1\u001b[0m\u001b[1;33m]\u001b[0m\u001b[1;33m*\u001b[0m\u001b[1;33m(\u001b[0m\u001b[1;36m1\u001b[0m\u001b[1;33m-\u001b[0m\u001b[0malpha_u\u001b[0m\u001b[1;33m)\u001b[0m\u001b[1;33m*\u001b[0m\u001b[1;33m(\u001b[0m\u001b[0malpha_m\u001b[0m\u001b[1;33m)\u001b[0m\u001b[1;33m\u001b[0m\u001b[1;33m\u001b[0m\u001b[0m\n\u001b[0m\u001b[0;32m    143\u001b[0m                  \u001b[1;33m+\u001b[0m \u001b[0mself\u001b[0m\u001b[1;33m.\u001b[0m\u001b[0mbids\u001b[0m\u001b[1;33m[\u001b[0m\u001b[0mind_u\u001b[0m\u001b[1;33m+\u001b[0m\u001b[1;36m1\u001b[0m\u001b[1;33m,\u001b[0m \u001b[0mind_m\u001b[0m\u001b[1;33m]\u001b[0m\u001b[1;33m*\u001b[0m\u001b[1;33m(\u001b[0m\u001b[0malpha_u\u001b[0m\u001b[1;33m)\u001b[0m\u001b[1;33m*\u001b[0m\u001b[1;33m(\u001b[0m\u001b[1;36m1\u001b[0m\u001b[1;33m-\u001b[0m\u001b[0malpha_m\u001b[0m\u001b[1;33m)\u001b[0m\u001b[1;33m\u001b[0m\u001b[1;33m\u001b[0m\u001b[0m\n\u001b[0;32m    144\u001b[0m                  + self.bids[ind_u+1, ind_m+1]*(alpha_u)*(alpha_m))\n",
      "\u001b[1;31mKeyboardInterrupt\u001b[0m: "
     ]
    }
   ],
   "source": [
    "n_samples = 100000\n",
    "mids = bidder_set.bidders[0].midpoints\n",
    "uncs = bidder_set.bidders[0].uncertainties\n",
    "\n",
    "orderings = []\n",
    "for _ in range(1000):\n",
    "    sample_rel_mids, sample_uncs = verify_bid_funcs.sample_rel_sufficient_stats(bidder_set.signals(), n_samples)\n",
    "    bids, bid_profs = zip(*map(lambda m: verify_bid_funcs.calc_exp_prof_m(m, mids, uncs, sample_rel_mids, sample_uncs, bidder_set, n_samples), range(len(mids))))\n",
    "    bids = np.array(bids)\n",
    "    bid_profs = np.array(bid_profs)\n",
    "    profs = np.array(bid_profs).sum(axis=0).sum(axis=1)\n",
    "    orderings.append(profs.argsort())"
   ]
  },
  {
   "cell_type": "code",
   "execution_count": 152,
   "metadata": {},
   "outputs": [],
   "source": [
    "\n",
    "from matplotlib.animation import PillowWriter\n",
    "import matplotlib.animation as animation"
   ]
  },
  {
   "cell_type": "code",
   "execution_count": 159,
   "metadata": {},
   "outputs": [
    {
     "name": "stdout",
     "output_type": "stream",
     "text": [
      "0\n",
      "0\n",
      "1\n",
      "2\n",
      "3\n",
      "4\n",
      "5\n",
      "6\n",
      "7\n",
      "8\n",
      "9\n",
      "10\n",
      "11\n",
      "12\n",
      "13\n",
      "14\n",
      "15\n",
      "16\n",
      "17\n",
      "18\n",
      "19\n",
      "20\n",
      "21\n",
      "22\n",
      "23\n",
      "0\n"
     ]
    },
    {
     "data": {
      "image/png": "[encoded data removed]",
      "text/plain": [
       "<Figure size 432x288 with 1 Axes>"
      ]
     },
     "metadata": {
      "needs_background": "light"
     },
     "output_type": "display_data"
    }
   ],
   "source": [
    "fig = plt.figure()\n",
    "ax = fig.add_subplot(1,1,1)\n",
    "colors = ['blue','green','yellow','orange']\n",
    "lines = []\n",
    "for b_id in range(4):\n",
    "    line, = ax.plot(mids[:20], bidder_iters.bid_sets[0][b_id][6][:20], color=colors[b_id])\n",
    "    lines.append(line)\n",
    "\n",
    "def plot_bid_func(iteration):\n",
    "    print(iteration)\n",
    "    fig.suptitle(f'Iteration {iteration}')\n",
    "    for b_id in range(4):\n",
    "        line = lines[b_id]\n",
    "        new_data = bidder_iters.bid_sets[iteration][b_id][6][:20]\n",
    "        line.set_data(mids[:20], new_data)\n",
    "\n",
    "anim = animation.FuncAnimation(fig, plot_bid_func, frames=range(len(bidder_iters.bid_sets)), interval=500)\n",
    "anim.save(f\"test.gif\", dpi=300, writer=PillowWriter(fps=1))\n"
   ]
  },
  {
   "cell_type": "code",
   "execution_count": 135,
   "metadata": {},
   "outputs": [
    {
     "data": {
      "text/plain": [
       "(616.79, 575.6666666666665)"
      ]
     },
     "execution_count": 135,
     "metadata": {},
     "output_type": "execute_result"
    }
   ],
   "source": [
    "bids[16,1,6], np.array(opt_bids)[16,6]"
   ]
  },
  {
   "cell_type": "code",
   "execution_count": 113,
   "metadata": {},
   "outputs": [
    {
     "data": {
      "text/plain": [
       "(array([[556.71  , 553.715 , 558.74  ],\n",
       "        [587.97  , 585.2525, 587.25  ],\n",
       "        [619.23  , 616.79  , 615.76  ],\n",
       "        [643.9425, 642.0675, 640.9125],\n",
       "        [668.655 , 667.345 , 666.065 ]]),\n",
       " array([[525.45      , 522.1775    ],\n",
       "        [556.71      , 553.715     ],\n",
       "        [587.97      , 585.2525    ],\n",
       "        [574.66666667, 575.66666667],\n",
       "        [643.9425    , 642.0675    ],\n",
       "        [668.655     , 667.345     ]]))"
      ]
     },
     "execution_count": 113,
     "metadata": {},
     "output_type": "execute_result"
    }
   ],
   "source": [
    "bids[14:19,1,5:8], np.array(opt_bids)[14:19,5:8]"
   ]
  },
  {
   "cell_type": "code",
   "execution_count": 95,
   "metadata": {},
   "outputs": [],
   "source": [
    "sample_rel_mids, sample_uncs = verify_bid_funcs.sample_rel_sufficient_stats(bidder_set.signals(), 1000000)"
   ]
  },
  {
   "cell_type": "code",
   "execution_count": 125,
   "metadata": {},
   "outputs": [],
   "source": [
    "unc = uncs[6]\n",
    "mid = mids[15]\n",
    "lower = max(mid - unc/2, 500)\n",
    "upper = min(mid + unc/2, 9500)\n",
    "# Since true values are uniformly distributed, just make an evenly spread out array of them.\n",
    "sample_trues = lower + (upper-lower)*np.linspace(0,1,1000000)\n",
    "sample_mids = sample_rel_mids + sample_trues\n",
    "sample_bids = verify_bid_funcs.convert_grid_bids(bidder_set, sample_mids, sample_uncs)\n",
    "\n",
    "potential_bids = np.arange(min(mid+600, 9500), max(500,mid-800), -1)"
   ]
  },
  {
   "cell_type": "code",
   "execution_count": 129,
   "metadata": {},
   "outputs": [],
   "source": [
    "other_highest = np.max(sample_bids[[0,1,2]], axis=0)"
   ]
  },
  {
   "cell_type": "code",
   "execution_count": 130,
   "metadata": {},
   "outputs": [],
   "source": [
    "avgs = verify_bid_funcs.find_opt_bid(other_highest, sample_trues, potential_bids)"
   ]
  },
  {
   "cell_type": "code",
   "execution_count": 131,
   "metadata": {},
   "outputs": [
    {
     "data": {
      "text/plain": [
       "575.0"
      ]
     },
     "execution_count": 131,
     "metadata": {},
     "output_type": "execute_result"
    }
   ],
   "source": [
    "potential_bids[avgs.argmax()]"
   ]
  },
  {
   "cell_type": "code",
   "execution_count": 133,
   "metadata": {},
   "outputs": [
    {
     "data": {
      "text/plain": [
       "625.0"
      ]
     },
     "execution_count": 133,
     "metadata": {},
     "output_type": "execute_result"
    }
   ],
   "source": [
    "mid"
   ]
  },
  {
   "cell_type": "code",
   "execution_count": 121,
   "metadata": {},
   "outputs": [
    {
     "data": {
      "text/plain": [
       "(array([  1049.,   3325., 301444.,  56472.,  87142., 293159., 131725.,\n",
       "         79585.,  38109.,   7990.]),\n",
       " array([512.85994231, 533.48453595, 554.10912959, 574.73372324,\n",
       "        595.35831688, 615.98291052, 636.60750417, 657.23209781,\n",
       "        677.85669145, 698.4812851 , 719.10587874]),\n",
       " <a list of 10 Patch objects>)"
      ]
     },
     "execution_count": 121,
     "metadata": {},
     "output_type": "execute_result"
    },
    {
     "data": {
      "image/png": "[encoded data removed]",
      "text/plain": [
       "<Figure size 432x288 with 1 Axes>"
      ]
     },
     "metadata": {
      "needs_background": "light"
     },
     "output_type": "display_data"
    }
   ],
   "source": [
    "plt.hist(other_highest)"
   ]
  },
  {
   "cell_type": "code",
   "execution_count": 98,
   "metadata": {},
   "outputs": [
    {
     "data": {
      "text/plain": [
       "(array([   615.,  49857., 198137.,  69944., 269774., 154526., 129042.,\n",
       "         80745.,  39760.,   7600.]),\n",
       " array([523.86262471, 546.69050524, 569.51838577, 592.3462663 ,\n",
       "        615.17414683, 638.00202736, 660.82990789, 683.65778842,\n",
       "        706.48566895, 729.31354948, 752.14143   ]),\n",
       " <a list of 10 Patch objects>)"
      ]
     },
     "execution_count": 98,
     "metadata": {},
     "output_type": "execute_result"
    },
    {
     "data": {
      "image/png": "[encoded data removed]",
      "text/plain": [
       "<Figure size 432x288 with 1 Axes>"
      ]
     },
     "metadata": {
      "needs_background": "light"
     },
     "output_type": "display_data"
    }
   ],
   "source": [
    "plt.hist(other_highest)"
   ]
  },
  {
   "cell_type": "code",
   "execution_count": 110,
   "metadata": {},
   "outputs": [
    {
     "data": {
      "text/plain": [
       "(array([[0.0000e+00, 0.0000e+00, 0.0000e+00, 0.0000e+00, 0.0000e+00,\n",
       "         0.0000e+00, 0.0000e+00, 1.8000e+01, 1.5570e+03, 7.7420e+03],\n",
       "        [0.0000e+00, 0.0000e+00, 0.0000e+00, 0.0000e+00, 0.0000e+00,\n",
       "         5.4000e+01, 2.3160e+03, 9.5430e+03, 1.7640e+04, 2.1697e+04],\n",
       "        [0.0000e+00, 0.0000e+00, 0.0000e+00, 2.1900e+02, 3.3000e+03,\n",
       "         1.1140e+04, 1.8794e+04, 2.1673e+04, 2.2094e+04, 2.1720e+04],\n",
       "        [0.0000e+00, 4.4800e+02, 4.4330e+03, 1.2876e+04, 1.9574e+04,\n",
       "         2.1701e+04, 2.1841e+04, 2.1608e+04, 2.1850e+04, 2.1736e+04],\n",
       "        [4.9520e+03, 1.4510e+04, 2.0340e+04, 2.1753e+04, 2.1744e+04,\n",
       "         2.1508e+04, 2.1921e+04, 2.1867e+04, 2.1556e+04, 2.1819e+04],\n",
       "        [5.1600e+03, 1.4801e+04, 2.0486e+04, 2.2275e+04, 2.1840e+04,\n",
       "         2.1675e+04, 2.1834e+04, 2.1825e+04, 2.2058e+04, 2.1610e+04],\n",
       "        [0.0000e+00, 4.5300e+02, 4.6250e+03, 1.3195e+04, 1.9906e+04,\n",
       "         2.1825e+04, 2.1841e+04, 2.1763e+04, 2.2007e+04, 2.1940e+04],\n",
       "        [0.0000e+00, 0.0000e+00, 0.0000e+00, 2.6100e+02, 3.5160e+03,\n",
       "         1.1602e+04, 1.8888e+04, 2.1772e+04, 2.1800e+04, 2.1818e+04],\n",
       "        [0.0000e+00, 0.0000e+00, 0.0000e+00, 0.0000e+00, 0.0000e+00,\n",
       "         7.8000e+01, 2.5480e+03, 9.7150e+03, 1.8041e+04, 2.1468e+04],\n",
       "        [0.0000e+00, 0.0000e+00, 0.0000e+00, 0.0000e+00, 0.0000e+00,\n",
       "         0.0000e+00, 0.0000e+00, 1.8000e+01, 1.6800e+03, 8.1320e+03]]),\n",
       " array([ 120.0000562 ,  229.14716782,  338.29427944,  447.44139106,\n",
       "         556.58850268,  665.7356143 ,  774.88272591,  884.02983753,\n",
       "         993.17694915, 1102.32406077, 1211.47117239]),\n",
       " array([3.91347074e-01, 1.00352089e+02, 2.00312831e+02, 3.00273573e+02,\n",
       "        4.00234314e+02, 5.00195056e+02, 6.00155798e+02, 7.00116540e+02,\n",
       "        8.00077282e+02, 9.00038023e+02, 9.99998765e+02]),\n",
       " <matplotlib.collections.QuadMesh at 0x22cc78f6a00>)"
      ]
     },
     "execution_count": 110,
     "metadata": {},
     "output_type": "execute_result"
    },
    {
     "data": {
      "image/png": "[encoded data removed]",
      "text/plain": [
       "<Figure size 432x288 with 1 Axes>"
      ]
     },
     "metadata": {
      "needs_background": "light"
     },
     "output_type": "display_data"
    }
   ],
   "source": [
    "plt.hist2d(sample_mids[0,:], sample_uncs[0,:])"
   ]
  },
  {
   "cell_type": "code",
   "execution_count": 109,
   "metadata": {},
   "outputs": [
    {
     "data": {
      "text/plain": [
       "(array([ 10112.,  30212.,  49884.,  70579.,  89880., 109583., 129983.,\n",
       "        149802., 170283., 189682.]),\n",
       " array([3.91347074e-01, 1.00352089e+02, 2.00312831e+02, 3.00273573e+02,\n",
       "        4.00234314e+02, 5.00195056e+02, 6.00155798e+02, 7.00116540e+02,\n",
       "        8.00077282e+02, 9.00038023e+02, 9.99998765e+02]),\n",
       " <a list of 10 Patch objects>)"
      ]
     },
     "execution_count": 109,
     "metadata": {},
     "output_type": "execute_result"
    },
    {
     "data": {
      "image/png": "[encoded data removed]",
      "text/plain": [
       "<Figure size 432x288 with 1 Axes>"
      ]
     },
     "metadata": {
      "needs_background": "light"
     },
     "output_type": "display_data"
    }
   ],
   "source": [
    "plt.hist(sample_uncs[0,:])"
   ]
  },
  {
   "cell_type": "code",
   "execution_count": 85,
   "metadata": {},
   "outputs": [
    {
     "data": {
      "text/plain": [
       "array([615.11, 616.79, 616.94, 619.7 ])"
      ]
     },
     "execution_count": 85,
     "metadata": {},
     "output_type": "execute_result"
    }
   ],
   "source": [
    "bids[16,:,6]"
   ]
  },
  {
   "cell_type": "code",
   "execution_count": 81,
   "metadata": {},
   "outputs": [
    {
     "data": {
      "text/plain": [
       "(574.6666666666665, 17.979205742657445)"
      ]
     },
     "execution_count": 81,
     "metadata": {},
     "output_type": "execute_result"
    }
   ],
   "source": [
    "potential_bids[692], avgs[692]"
   ]
  },
  {
   "cell_type": "code",
   "execution_count": null,
   "metadata": {},
   "outputs": [],
   "source": [
    "\n",
    "            opt_bidders_set.bidders[b_id] = bid_functions.Bidder(signal_count[b_id], mids, uncs, np.array(opt_bids).T)\n",
    "            #print(f'{np.array(opt_profs).shape}')\n",
    "            profs[b_id] = np.array(opt_profs).sum()\n",
    "\n",
    "        opt_bids, opt_profs = zip(*pool.map(lambda m: verify_bid_funcs.calc_exp_prof_m(m, mids, plot_uncs, sample_rel_mids, sample_uncs, opt_bidders_set, n_samples, max_uncertainty, value_bounds), range(len(mids))))\n",
    "        "
   ]
  },
  {
   "cell_type": "code",
   "execution_count": 161,
   "metadata": {},
   "outputs": [],
   "source": [
    "signal_count = (1,1,1,1)\n",
    "file_name = f'F:/Dropbox (Chapman)/Costly Signals/sealed_bid_model/bid_funcs_{\"\".join([str(i) for i in signal_count])}.csv'\n",
    "bidders_set = bid_functions.read_file(file_name)"
   ]
  },
  {
   "cell_type": "code",
   "execution_count": 164,
   "metadata": {},
   "outputs": [
    {
     "name": "stdout",
     "output_type": "stream",
     "text": [
      "0.0\n",
      "166.66666666666666\n",
      "333.3333333333333\n",
      "500.0\n",
      "666.6666666666666\n",
      "833.3333333333333\n",
      "1000.0\n",
      "1166.6666666666665\n",
      "1333.3333333333333\n",
      "1500.0\n",
      "1666.6666666666665\n",
      "1833.3333333333333\n",
      "2000.0\n",
      "2166.6666666666665\n",
      "2333.333333333333\n",
      "2500.0\n",
      "2666.6666666666665\n",
      "2833.333333333333\n",
      "3000.0\n",
      "3166.6666666666665\n",
      "3333.333333333333\n",
      "3500.0\n",
      "3666.6666666666665\n",
      "3833.333333333333\n",
      "4000.0\n",
      "4166.666666666666\n",
      "4333.333333333333\n",
      "4500.0\n",
      "4666.666666666666\n",
      "4833.333333333333\n",
      "5000.0\n",
      "5166.666666666666\n",
      "5333.333333333333\n",
      "5500.0\n",
      "5666.666666666666\n",
      "5833.333333333333\n",
      "6000.0\n",
      "6166.666666666666\n",
      "6333.333333333333\n",
      "6500.0\n",
      "6666.666666666666\n",
      "6833.333333333333\n",
      "7000.0\n",
      "7166.666666666666\n",
      "7333.333333333333\n",
      "7500.0\n",
      "7666.666666666666\n",
      "7833.333333333333\n",
      "8000.0\n",
      "8166.666666666666\n",
      "8333.333333333332\n",
      "8500.0\n",
      "8666.666666666666\n",
      "8833.333333333332\n",
      "9000.0\n",
      "9166.666666666666\n",
      "9333.333333333332\n",
      "9500.0\n",
      "9666.666666666666\n",
      "9833.333333333332\n",
      "10000.0\n"
     ]
    }
   ],
   "source": [
    "max_uncertainty = 1000\n",
    "value_bounds = (500, 9500)\n",
    "n_bidders = len(signal_count)\n",
    "\n",
    "n_mids = 61\n",
    "mids = np.linspace(value_bounds[0] - max_uncertainty/2, value_bounds[1] + max_uncertainty/2, n_mids)\n",
    "\n",
    "uncs = np.linspace(0, max_uncertainty, 2)\n",
    "\n",
    "plot_uncs = [1000]\n",
    "\n",
    "sample_rel_mids, sample_uncs = verify_bid_funcs.sample_rel_sufficient_stats(signal_count, n_samples, max_uncertainty)\n",
    "pool = Pool(6)\n",
    "bids, bid_profs = zip(*map(lambda m: verify_bid_funcs.calc_exp_prof_m(m, mids, uncs, sample_rel_mids, sample_uncs, bidders_set, n_samples, max_uncertainty, value_bounds), range(len(mids))))\n",
    "bids = np.array(bids)\n",
    "\n",
    "profs = np.array(bid_profs).sum(axis=0).sum(axis=1)"
   ]
  },
  {
   "cell_type": "code",
   "execution_count": 166,
   "metadata": {},
   "outputs": [],
   "source": [
    "opt_bidders_set = []\n",
    "for b in range(n_bidders):\n",
    "    if signal_count[b] == 1:\n",
    "        opt_bidders_set.append(bid_functions.SingleSignalBidder(signal_count[b], mids, max_uncertainty, bids[:,b,-1]))\n",
    "    else:\n",
    "        opt_bidders_set.append(bid_functions.Bidder(signal_count[b], mids, uncs, bids[:,b,:].T))\n",
    "opt_bidders_set = bid_functions.BidderSet(opt_bidders_set)"
   ]
  },
  {
   "cell_type": "code",
   "execution_count": null,
   "metadata": {},
   "outputs": [],
   "source": [
    "opt_bids, opt_profs = zip(*map(lambda m: verify_bid_funcs.calc_best_resp_b_m_2(b_id, m, mids, uncs, sample_rel_mids, sample_uncs, opt_bidders_set, n_samples, max_uncertainty, value_bounds, 0.02), range(len(mids))))"
   ]
  },
  {
   "cell_type": "code",
   "execution_count": null,
   "metadata": {},
   "outputs": [],
   "source": [
    "for b_id in profs.argsort():\n",
    "    opt_bids, opt_profs = zip(*map(lambda m: verify_bid_funcs.calc_best_resp_b_m_2(b_id, m, mids, uncs, sample_rel_mids, sample_uncs, opt_bidders_set, n_samples, max_uncertainty, value_bounds, threshold), range(len(mids))))\n",
    "    if signal_count[b_id] == 1:\n",
    "        opt_bidders_set.bidders[b_id] = bid_functions.SingleSignalBidder(signal_count[b_id], mids, max_uncertainty, np.array(opt_bids)[-1])\n",
    "    else:\n",
    "        opt_bidders_set.bidders[b_id] = bid_functions.Bidder(signal_count[b_id], mids, uncs, np.array(opt_bids).T)\n",
    "    #print(f'{np.array(opt_profs).shape}')\n",
    "    profs[b_id] = np.array(opt_profs).sum()"
   ]
  }
 ],
 "metadata": {
  "kernelspec": {
   "display_name": "base",
   "language": "python",
   "name": "python3"
  },
  "language_info": {
   "codemirror_mode": {
    "name": "ipython",
    "version": 3
   },
   "file_extension": ".py",
   "mimetype": "text/x-python",
   "name": "python",
   "nbconvert_exporter": "python",
   "pygments_lexer": "ipython3",
   "version": "3.8.3"
  },
  "orig_nbformat": 4,
  "vscode": {
   "interpreter": {
    "hash": "ad2bdc8ecc057115af97d19610ffacc2b4e99fae6737bb82f5d7fb13d2f2c186"
   }
  }
 },
 "nbformat": 4,
 "nbformat_minor": 2
}
