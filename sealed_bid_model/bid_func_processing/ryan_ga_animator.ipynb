{
 "cells": [
  {
   "attachments": {},
   "cell_type": "markdown",
   "metadata": {},
   "source": [
    "# raw data processing\n",
    "\n",
    "Currently using this file to learn how to read and plot the raw output files."
   ]
  },
  {
   "cell_type": "code",
   "execution_count": 1,
   "metadata": {},
   "outputs": [],
   "source": [
    "import os\n",
    "import numpy as np\n",
    "import matplotlib.pyplot as plt\n",
    "import math\n",
    "from celluloid import Camera\n",
    "from IPython import display"
   ]
  },
  {
   "cell_type": "code",
   "execution_count": 2,
   "metadata": {},
   "outputs": [],
   "source": [
    "def tail(f, lines=1, _buffer=4098):\n",
    "    \"\"\"Tail a file and get X lines from the end\"\"\"\n",
    "    lines_found = []\n",
    "    block_counter = -1\n",
    "    while len(lines_found) < lines:\n",
    "        try:\n",
    "            f.seek(block_counter * _buffer, os.SEEK_END)\n",
    "        except IOError:  # either file is too small, or too many lines requested\n",
    "            f.seek(0)\n",
    "            lines_found = f.readlines()\n",
    "            break\n",
    "        lines_found = f.readlines()\n",
    "        block_counter -= 1\n",
    "    return lines_found[-lines:]\n",
    "\n",
    "def read_bid_func(data, n, max_uncertainty):\n",
    "    midpoints = [float(n) for n in data[0]]\n",
    "    if n == 1:\n",
    "        #bids = [max(500, float(n)) for n in data[1]]\n",
    "        bids = [float(n) for n in data[1]]\n",
    "        return {\"midpoints\": midpoints, \"uncertainties\": [max_uncertainty], \"bids\": np.array([bids])}\n",
    "    else:\n",
    "        uncertainties = np.array([float(n) for n in data[1]])\n",
    "        bids = np.array([float(n) for n in data[2]])\n",
    "        bid_mat = []\n",
    "        for i in range(0, len(bids), len(midpoints)):\n",
    "            bid_mat.append(np.array(bids[i:i + len(midpoints)]))\n",
    "        bid_mat = np.array(bid_mat)\n",
    "        bid_mat = np.maximum(bid_mat, 500)\n",
    "        return {\"midpoints\": midpoints, \"uncertainties\": uncertainties, \"bids\": bid_mat}"
   ]
  },
  {
   "cell_type": "code",
   "execution_count": 3,
   "metadata": {},
   "outputs": [],
   "source": [
    "def get_profits(data, signal_counts):\n",
    "    n_lines = [2 + (s>1) for s in signal_counts]\n",
    "    n_tot_lines = sum(n_lines) + 1  # extra line for profits\n",
    "    profits = [[] for _ in range(len(signal_counts))]\n",
    "    for line_idx in range(n_tot_lines - 1, len(data), n_tot_lines):\n",
    "        for i in range(len(profits)):\n",
    "            profits[i].append(float(data[line_idx][i]))\n",
    "    return profits\n",
    "\n",
    "def plot_profits(all_results):\n",
    "    for player_results in all_results.values():\n",
    "        plt.plot([result['profit'] for result in player_results])\n",
    "    plt.ylim([45,50])\n",
    "    plt.show()\n",
    "\n",
    "def plot_bids(results, xlim = [0,10000], ylim = [0,10000]):\n",
    "    for res in results:\n",
    "        plt.plot(res['midpoints'], res['bids'][0])\n",
    "    plt.plot(range(10000), [one_signal_nash(s, [500,9500], 1000, 4) for s in range(10000)], color='black')\n",
    "    plt.xlim(xlim)\n",
    "    plt.ylim(ylim)\n",
    "    plt.show()\n",
    "\n",
    "def animate_bid_func(all_results):\n",
    "    fig = plt.figure()\n",
    "    #fig.set_size_inches(12,12)\n",
    "    #fig.tight_layout(rect=[0, 0.03, 1, 0.95])\n",
    "    camera = Camera(fig)\n",
    "\n",
    "    x = range(10000)\n",
    "    y = [one_signal_nash(i, [500,9500], 1000, 4) for i in x]\n",
    "    colors = ['blue','green','yellow','orange']\n",
    "\n",
    "    for i in range(len(all_results[0])):\n",
    "        for bidder_idx in all_results:\n",
    "            midpoints = all_results[bidder_idx][i]['midpoints']\n",
    "            bids = all_results[bidder_idx][i]['bids'][0]\n",
    "            plt.plot(midpoints, bids, color=colors[bidder_idx])\n",
    "        \n",
    "        plt.plot(x, y, color='black')\n",
    "        camera.snap()\n",
    "\n",
    "    anim = camera.animate()\n",
    "    plt.close()\n",
    "    return anim\n",
    "\n",
    "def animate_bid_func2(all_results):\n",
    "    fig, ax = plt.subplots()\n",
    "    #fig.set_size_inches(12,12)\n",
    "    #fig.tight_layout(rect=[0, 0.03, 1, 0.95])\n",
    "    lines = [\n",
    "        ax.plot([], 'blue'),\n",
    "        ax.plot([], 'green'),\n",
    "        ax.plot([], 'yellow'),\n",
    "        ax.plot([], 'orange')\n",
    "    ]\n",
    "\n",
    "    x = range(10000)\n",
    "    y = [one_signal_nash(i, [500,9500], 1000, 4) for i in x]\n",
    "\n",
    "    ax.plot(x,y,color='black')\n",
    "    \n",
    "    colors = ['blue','green','yellow','orange']\n",
    "\n",
    "    def animate(i):\n",
    "        for bidder_idx in all_results:\n",
    "            midpoints = all_results[bidder_idx][i]['midpoints']\n",
    "            bids = all_results[bidder_idx][i]['bids'][0]\n",
    "            lines[i].set_data((midpoints, bids))\n",
    "        return lines\n",
    "        \n",
    "    anim = FuncAnimation(fig, animate, frames=len(all_results[0]), interval = 5)\n",
    "    plt.show()\n",
    "\n",
    "    \n",
    "\n",
    "def one_signal_nash(signal, bounds, max_uncertainty, n_bidders):\n",
    "    epsilon = max_uncertainty / 2\n",
    "    if ((bounds[0] - epsilon) <= signal) and (signal <= (bounds[0] + epsilon)):\n",
    "        return bounds[0] + 1 / (n_bidders + 1) * (signal - bounds[0] + epsilon)\n",
    "    elif ((bounds[1] - epsilon) <= signal) and (signal <= (bounds[1] + epsilon)):\n",
    "        return (math.exp(-32 - 2*math.atan(9 - signal/1000) - \n",
    "                2*math.atan((-9000 + signal)/1000))*(201392000000000000000 * math.exp(32) + \n",
    "                1000000000000000 * math.exp(2 * math.atan(9 - signal/1000)) + \n",
    "                3000000000000000 * math.exp(32 + 2 * math.atan(9 - signal/1000)) - \n",
    "                89472000000000000 *math.exp(32) * signal + 14237000000000 * math.exp(32) * signal**2 - \n",
    "                875000000 *math.exp(32) * signal**3 + 4500 *  math.exp(32) * signal**4 + math.exp(32) * signal**5))/(5 * (-8000 + \n",
    "                signal)**2 * (82000000 - 18000 * signal + signal**2))\n",
    "    else:\n",
    "        return signal - epsilon + max_uncertainty / (n_bidders + 1) * math.exp(-n_bidders / max_uncertainty * (signal - (bounds[0] + epsilon)))"
   ]
  },
  {
   "cell_type": "code",
   "execution_count": 4,
   "metadata": {},
   "outputs": [
    {
     "data": {
      "image/png": "[encoded data removed]",
      "text/plain": [
       "<Figure size 432x288 with 1 Axes>"
      ]
     },
     "metadata": {
      "needs_background": "light"
     },
     "output_type": "display_data"
    }
   ],
   "source": [
    "signal_counts = (1,1,1,1)\n",
    "n_lines = [2 + (s>1) for s in signal_counts]\n",
    "n_period_means = 199\n",
    "n_tot_lines = sum(n_lines) + 1  # extra line for profits\n",
    "signal_str = '_'.join([str(s) for s in signal_counts])\n",
    "max_uncertainty = 1000\n",
    "\n",
    "with open(f'F:/Dropbox (Chapman)/Costly Signals/sealed_bid_model/raw_data/common_value_{signal_str}_large.csv', 'r') as csvfile:\n",
    "    #data = tail(csvfile, n_period_means * n_tot_lines)\n",
    "    data = csvfile.readlines()\n",
    "    data = [line.split(',') for line in data]\n",
    "\n",
    "bid_dict = {i: [] for i in range(len(signal_counts))}\n",
    "for per_idx in range(0, len(data), n_tot_lines):\n",
    "    cur_idx = per_idx\n",
    "    for i in range(len(signal_counts)):\n",
    "        next_idx = cur_idx + n_lines[i]\n",
    "        bid_dict[i].append(read_bid_func(data[cur_idx:next_idx], signal_counts[i], max_uncertainty))\n",
    "        cur_idx = next_idx\n",
    "    \n",
    "    for i in range(len(signal_counts)):\n",
    "        bid_dict[i][-1][\"profit\"] = float(data[cur_idx][i])\n",
    "\n",
    "\n",
    "plot_profits(bid_dict)\n",
    "#plot_bids(bid_dict[3][70:], [0,2000], [0, 2000])\n",
    "#animate_bid_func2(bid_dict)\n",
    "# plt.rcParams['animation.ffmpeg_path'] = \"C:/Users/rfrench/Downloads/ffmpeg-snapshot.tar/ffmpeg\"\n",
    "\n",
    "\n",
    "# video = animation.to_html5_video()\n",
    "# html = display.HTML(video)\n",
    "# display.display(html)\n",
    "# plt.close()\n",
    "\n",
    "# profits = get_profits(data, signal_counts)\n",
    "\n",
    "# for profit in profits:\n",
    "#     plt.plot(profit)\n",
    "# plt.ylim([45,50])\n",
    "# plt.show()"
   ]
  },
  {
   "cell_type": "code",
   "execution_count": 27,
   "metadata": {},
   "outputs": [
    {
     "data": {
      "image/png": "[encoded data removed]",
      "text/plain": [
       "<Figure size 864x864 with 1 Axes>"
      ]
     },
     "metadata": {
      "needs_background": "light"
     },
     "output_type": "display_data"
    }
   ],
   "source": [
    "\n",
    "fig, ax = plt.subplots()\n",
    "fig.set_size_inches(12,12)\n",
    "fig.tight_layout(rect=[0, 0.03, 1, 0.95])\n",
    "camera = Camera(fig)\n",
    "\n",
    "x = range(10000)\n",
    "y = [one_signal_nash(i, [500,9500], 1000, 4) for i in x]\n",
    "colors = ['blue','green','yellow','orange']\n",
    "\n",
    "for i in range(len(bid_dict[0])):\n",
    "#for i in range(50):\n",
    "    for bidder_idx in bid_dict:\n",
    "        midpoints = bid_dict[bidder_idx][i]['midpoints']\n",
    "        bids = bid_dict[bidder_idx][i]['bids'][0]\n",
    "        plt.plot(midpoints, bids, color=colors[bidder_idx])\n",
    "        ax.text(7000, 2000 - bidder_idx * 500, colors[bidder_idx] + \": \" + str(bid_dict[bidder_idx][i]['profit']))\n",
    "    \n",
    "    plt.plot(x, y, color='black')\n",
    "    ax.text(0.5, 1.01, str(i), transform=ax.transAxes)\n",
    "    camera.snap()\n",
    "\n",
    "anim = camera.animate()\n",
    "plt.close()"
   ]
  },
  {
   "cell_type": "code",
   "execution_count": 28,
   "metadata": {},
   "outputs": [],
   "source": [
    "from matplotlib.animation import PillowWriter\n",
    "anim.save(\"ga_animation.gif\", dpi=300, writer=PillowWriter(fps=30))"
   ]
  },
  {
   "attachments": {},
   "cell_type": "markdown",
   "metadata": {},
   "source": [
    "# Profit Bounds\n",
    "\n",
    "From Kagel + Levin 1996"
   ]
  },
  {
   "cell_type": "code",
   "execution_count": 24,
   "metadata": {},
   "outputs": [
    {
     "data": {
      "text/plain": [
       "(46.75925925925926, 49.074074074074076)"
      ]
     },
     "execution_count": 24,
     "metadata": {},
     "output_type": "execute_result"
    }
   ],
   "source": [
    "n = 4\n",
    "e = max_uncertainty / 2\n",
    "lower = (max_uncertainty / (n + 1) - (4 * e**2 / 9000) * (3 * n + 2)/(n * (n +1) * (n + 2)))\n",
    "upper = lower + (2 * e**2 / 9000) * (1/(n+2))\n",
    "\n",
    "(lower / 4, upper / 4)"
   ]
  }
 ],
 "metadata": {
  "kernelspec": {
   "display_name": "base",
   "language": "python",
   "name": "python3"
  },
  "language_info": {
   "codemirror_mode": {
    "name": "ipython",
    "version": 3
   },
   "file_extension": ".py",
   "mimetype": "text/x-python",
   "name": "python",
   "nbconvert_exporter": "python",
   "pygments_lexer": "ipython3",
   "version": "3.8.3"
  },
  "orig_nbformat": 4,
  "vscode": {
   "interpreter": {
    "hash": "ad2bdc8ecc057115af97d19610ffacc2b4e99fae6737bb82f5d7fb13d2f2c186"
   }
  }
 },
 "nbformat": 4,
 "nbformat_minor": 2
}
